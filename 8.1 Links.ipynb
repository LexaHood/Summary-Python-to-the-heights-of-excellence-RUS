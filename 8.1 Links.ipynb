{
 "cells": [
  {
   "cell_type": "markdown",
   "source": [
    "# Ссылки на объекты, изменяемость и повторение... "
   ],
   "metadata": {}
  },
  {
   "cell_type": "markdown",
   "source": [
    "## Переменные - не ящики!"
   ],
   "metadata": {}
  },
  {
   "cell_type": "markdown",
   "source": [
    "В python переменная - \"этикетка приклеенная к объекту\"\n",
    "<p><b>Горазда правельнее говорить не присваиваем объект переменной, а присваиваем переменную к объекту</b>.</p> Поскольку объект создается раньше \"переменной\""
   ],
   "metadata": {}
  },
  {
   "cell_type": "code",
   "execution_count": 1,
   "source": [
    "a = [1 ,2 ,3 ]\n",
    "b = a\n",
    "a.append(4)\n",
    "b"
   ],
   "outputs": [
    {
     "output_type": "execute_result",
     "data": {
      "text/plain": [
       "[1, 2, 3, 4]"
      ]
     },
     "metadata": {},
     "execution_count": 1
    }
   ],
   "metadata": {}
  },
  {
   "cell_type": "code",
   "execution_count": 2,
   "source": [
    "class Gizmo:\n",
    "    def __init__(self) -> None:\n",
    "        print(\"Gizmo id: %d\" % id(self))"
   ],
   "outputs": [],
   "metadata": {}
  },
  {
   "cell_type": "code",
   "execution_count": 3,
   "source": [
    "x = Gizmo() # 1"
   ],
   "outputs": [
    {
     "output_type": "stream",
     "name": "stdout",
     "text": [
      "Gizmo id: 140607406620480\n"
     ]
    }
   ],
   "metadata": {}
  },
  {
   "cell_type": "code",
   "execution_count": 4,
   "source": [
    "y = Gizmo() * 10 # 2\n",
    "# 3"
   ],
   "outputs": [
    {
     "output_type": "stream",
     "name": "stdout",
     "text": [
      "Gizmo id: 140607406619808\n"
     ]
    },
    {
     "output_type": "error",
     "ename": "TypeError",
     "evalue": "unsupported operand type(s) for *: 'Gizmo' and 'int'",
     "traceback": [
      "\u001b[0;31m---------------------------------------------------------------------------\u001b[0m",
      "\u001b[0;31mTypeError\u001b[0m                                 Traceback (most recent call last)",
      "\u001b[0;32m/tmp/ipykernel_99706/1661511961.py\u001b[0m in \u001b[0;36m<module>\u001b[0;34m\u001b[0m\n\u001b[0;32m----> 1\u001b[0;31m \u001b[0my\u001b[0m \u001b[0;34m=\u001b[0m \u001b[0mGizmo\u001b[0m\u001b[0;34m(\u001b[0m\u001b[0;34m)\u001b[0m \u001b[0;34m*\u001b[0m \u001b[0;36m10\u001b[0m \u001b[0;31m# 2\u001b[0m\u001b[0;34m\u001b[0m\u001b[0;34m\u001b[0m\u001b[0m\n\u001b[0m\u001b[1;32m      2\u001b[0m \u001b[0;31m# 3\u001b[0m\u001b[0;34m\u001b[0m\u001b[0;34m\u001b[0m\u001b[0m\n",
      "\u001b[0;31mTypeError\u001b[0m: unsupported operand type(s) for *: 'Gizmo' and 'int'"
     ]
    }
   ],
   "metadata": {}
  },
  {
   "cell_type": "code",
   "execution_count": null,
   "source": [
    "dir() # 4"
   ],
   "outputs": [
    {
     "output_type": "execute_result",
     "data": {
      "text/plain": [
       "['Gizmo',\n",
       " 'In',\n",
       " 'Out',\n",
       " '_',\n",
       " '_1',\n",
       " '_2',\n",
       " '__',\n",
       " '___',\n",
       " '__builtin__',\n",
       " '__builtins__',\n",
       " '__doc__',\n",
       " '__loader__',\n",
       " '__name__',\n",
       " '__package__',\n",
       " '__spec__',\n",
       " '_dh',\n",
       " '_i',\n",
       " '_i1',\n",
       " '_i2',\n",
       " '_i3',\n",
       " '_i4',\n",
       " '_i5',\n",
       " '_i6',\n",
       " '_i7',\n",
       " '_ih',\n",
       " '_ii',\n",
       " '_iii',\n",
       " '_oh',\n",
       " 'a',\n",
       " 'b',\n",
       " 'exit',\n",
       " 'get_ipython',\n",
       " 'os',\n",
       " 'quit',\n",
       " 'sys',\n",
       " 'x']"
      ]
     },
     "metadata": {},
     "execution_count": 7
    }
   ],
   "metadata": {}
  },
  {
   "cell_type": "markdown",
   "source": [
    "* 1 Вывод ```Gizmo id:``` ... - побочный эффект создания объекта ```Gizmo```\n",
    "* 2 Умножение объекта ```Gizmo``` приводит к исключению\n",
    "* 3 Это доказывает, что второй объект ```Gizmo``` все-таки был создан еще до попытки выполнить умножение\n",
    "* 4 Но переменная ```y``` так и не было создона, потому что исключение произошло тогда, когда вычислялась правая часть "
   ],
   "metadata": {}
  },
  {
   "cell_type": "markdown",
   "source": [
    "Поскольку переменные - это просто этикетки, то ничто не мешает нам наклеить на объект, несколько этикеток. В этом случае образуются _синонимы_"
   ],
   "metadata": {}
  },
  {
   "cell_type": "markdown",
   "source": [
    "## Тождественность, равенство, синонимы"
   ],
   "metadata": {}
  },
  {
   "cell_type": "code",
   "execution_count": null,
   "source": [
    "charles = {'name': 'Charles L. Dodgson', 'born': 1823}\n",
    "lewis = charles # 1\n",
    "lewis is charles"
   ],
   "outputs": [
    {
     "output_type": "execute_result",
     "data": {
      "text/plain": [
       "True"
      ]
     },
     "metadata": {},
     "execution_count": 10
    }
   ],
   "metadata": {}
  },
  {
   "cell_type": "code",
   "execution_count": null,
   "source": [
    "id(charles), id(lewis) # 2"
   ],
   "outputs": [
    {
     "output_type": "execute_result",
     "data": {
      "text/plain": [
       "(140546920929664, 140546920929664)"
      ]
     },
     "metadata": {},
     "execution_count": 12
    }
   ],
   "metadata": {}
  },
  {
   "cell_type": "code",
   "execution_count": null,
   "source": [
    "lewis['balance'] = 950 # 3"
   ],
   "outputs": [],
   "metadata": {}
  },
  {
   "cell_type": "code",
   "execution_count": null,
   "source": [
    "charles"
   ],
   "outputs": [
    {
     "output_type": "execute_result",
     "data": {
      "text/plain": [
       "{'name': 'Charles L. Dodgson', 'born': 1823, 'balance': 950}"
      ]
     },
     "metadata": {},
     "execution_count": 15
    }
   ],
   "metadata": {}
  },
  {
   "cell_type": "markdown",
   "source": [
    "* 1 ```lewis``` - синоним ```charles```\n",
    "* 2 Это подтверждают оператор ```is``` и функция ```id``` \n",
    "* 3 Добавление элементов в хэша ```lewis``` дает тот же результат, что и добавление в хэш ```charles```"
   ],
   "metadata": {}
  },
  {
   "cell_type": "code",
   "execution_count": null,
   "source": [
    "alex = {'name': 'Charles L. Dodgson', 'born': 1823, 'balance': 950} # 1\n",
    "alex == charles # 2"
   ],
   "outputs": [
    {
     "output_type": "execute_result",
     "data": {
      "text/plain": [
       "True"
      ]
     },
     "metadata": {},
     "execution_count": 16
    }
   ],
   "metadata": {}
  },
  {
   "cell_type": "code",
   "execution_count": null,
   "source": [
    "alex is not charles # 3"
   ],
   "outputs": [
    {
     "output_type": "execute_result",
     "data": {
      "text/plain": [
       "True"
      ]
     },
     "metadata": {},
     "execution_count": 17
    }
   ],
   "metadata": {}
  },
  {
   "cell_type": "markdown",
   "source": [
    "* 1 Переменная ```alex``` ссылается на объект, являющийся точной копией объекта, присвоенного переменной ```charles```\n",
    "* 2 При сравнении объекты, оказываются равны, поскольку так реализован метод ```__eq__``` в классе ```dict```\n",
    "* 3 Но это разные объекты. B Python отрицательное сравнение на тождество записывается в виде ```a is not b```"
   ],
   "metadata": {}
  },
  {
   "cell_type": "markdown",
   "source": [
    "В это примере ```lewis``` и ```alex``` являются _синонимами_, тк они связаны с одним и тем же объектом. В то же время ```alex``` не явлется синонимом ```lewis```, поскольку эти переменные связаны с разыми объектами. ```lewis``` и ```alex```, имеют одно и тоже *значение* - то что чравнивает оператор ```==```, - но индефикаторы у них разные"
   ],
   "metadata": {}
  },
  {
   "cell_type": "markdown",
   "source": [
    "## Выбор между ```==``` и ```is```"
   ],
   "metadata": {}
  },
  {
   "cell_type": "markdown",
   "source": [
    "Оператор ```==``` сравнивает **значения**</p>\n",
    "Оператор ```is``` сранивает их **индефикаторы**</p>"
   ],
   "metadata": {}
  },
  {
   "cell_type": "markdown",
   "source": [
    "## Относительная неизменяемость картежей"
   ],
   "metadata": {}
  },
  {
   "cell_type": "code",
   "execution_count": null,
   "source": [
    "t1 = (1, 2, [30, 40])\n",
    "t2 = (1, 2, [30, 40])\n",
    "t1 == t2 # 1"
   ],
   "outputs": [
    {
     "output_type": "execute_result",
     "data": {
      "text/plain": [
       "True"
      ]
     },
     "metadata": {},
     "execution_count": 22
    }
   ],
   "metadata": {}
  },
  {
   "cell_type": "code",
   "execution_count": null,
   "source": [
    "id(t1[-1]) # 2"
   ],
   "outputs": [
    {
     "output_type": "execute_result",
     "data": {
      "text/plain": [
       "140546919020416"
      ]
     },
     "metadata": {},
     "execution_count": 23
    }
   ],
   "metadata": {}
  },
  {
   "cell_type": "code",
   "execution_count": null,
   "source": [
    "t1[-1].append(99) #3\n",
    "t1"
   ],
   "outputs": [
    {
     "output_type": "execute_result",
     "data": {
      "text/plain": [
       "(1, 2, [30, 40, 99])"
      ]
     },
     "metadata": {},
     "execution_count": 24
    }
   ],
   "metadata": {}
  },
  {
   "cell_type": "code",
   "execution_count": null,
   "source": [
    "id(t1[-1]) # 4"
   ],
   "outputs": [
    {
     "output_type": "execute_result",
     "data": {
      "text/plain": [
       "140546919020416"
      ]
     },
     "metadata": {},
     "execution_count": 25
    }
   ],
   "metadata": {}
  },
  {
   "cell_type": "code",
   "execution_count": null,
   "source": [
    "t1 == t2 # 5"
   ],
   "outputs": [
    {
     "output_type": "execute_result",
     "data": {
      "text/plain": [
       "False"
      ]
     },
     "metadata": {},
     "execution_count": 26
    }
   ],
   "metadata": {}
  },
  {
   "cell_type": "markdown",
   "source": [
    "* 1 Хотя ```t1``` и ```t2``` - разные объекты, они, как следовало ожидать, равны\n",
    "* 2 Выводим индефикатор списка, в элементе ```t1[-1]```\n",
    "* 3 Модифицируем ```t1[-1]``` на месте\n",
    "* 4 Индефикатор объекта ```t1[-1]``` не изменился, изменилось лишь его значение\n",
    "* 5 ```t1``` и ```t2``` теперь не равны"
   ],
   "metadata": {}
  },
  {
   "cell_type": "markdown",
   "source": [
    "## По умолчанию копирование поверхностное"
   ],
   "metadata": {}
  },
  {
   "cell_type": "code",
   "execution_count": null,
   "source": [
    "l1 = [3, [55, 44], (7, 8, 9)]\n",
    "l2 = list(l1) # 1\n",
    "l2"
   ],
   "outputs": [
    {
     "output_type": "execute_result",
     "data": {
      "text/plain": [
       "[3, [55, 44], (7, 8, 9)]"
      ]
     },
     "metadata": {},
     "execution_count": 27
    }
   ],
   "metadata": {}
  },
  {
   "cell_type": "code",
   "execution_count": null,
   "source": [
    "l2 == l1 # 2 "
   ],
   "outputs": [
    {
     "output_type": "execute_result",
     "data": {
      "text/plain": [
       "True"
      ]
     },
     "metadata": {},
     "execution_count": 28
    }
   ],
   "metadata": {}
  },
  {
   "cell_type": "code",
   "execution_count": null,
   "source": [
    "l2 is l1 # 3 "
   ],
   "outputs": [
    {
     "output_type": "execute_result",
     "data": {
      "text/plain": [
       "False"
      ]
     },
     "metadata": {},
     "execution_count": 29
    }
   ],
   "metadata": {}
  },
  {
   "cell_type": "markdown",
   "source": [
    "* 1 ```list(l1)``` создает копию ```l1```\n",
    "* 2 Копии равны\n",
    "* 3 Но ссылки остаются на разные объекты"
   ],
   "metadata": {}
  },
  {
   "cell_type": "markdown",
   "source": [
    "Для списков и других изменяемых последовательностей, присваивание ```l2 = l1[:]``` также создает копию"
   ],
   "metadata": {}
  },
  {
   "cell_type": "markdown",
   "source": [
    "![title](img/8.1_def_copy.png)"
   ],
   "metadata": {}
  },
  {
   "cell_type": "markdown",
   "source": [
    "## Глубокое и поверхностное копирование произвольных объектов"
   ],
   "metadata": {}
  },
  {
   "cell_type": "code",
   "execution_count": null,
   "source": [
    "class Bus:\n",
    "\n",
    "    def __init__(self, passengers=None):\n",
    "        if passengers is None:\n",
    "            self.passengers = []\n",
    "        else:\n",
    "            self.passengers = list(passengers)\n",
    "\n",
    "    def pick(self, name):\n",
    "        self.passengers.append(name)\n",
    "\n",
    "    def drop(self, name):\n",
    "        self.passengers.remove(name)"
   ],
   "outputs": [],
   "metadata": {}
  },
  {
   "cell_type": "code",
   "execution_count": null,
   "source": [
    "import copy \n",
    "\n",
    "bus1 = Bus(['Alice', 'Bill', 'Clare', 'David'])\n",
    "bus2 = copy.copy(bus1)\n",
    "bus3 = copy.deepcopy(bus1)\n",
    "id(bus1), id(bus2), id(bus3) # 1"
   ],
   "outputs": [
    {
     "output_type": "execute_result",
     "data": {
      "text/plain": [
       "(140547362323232, 140547362310848, 140547362313056)"
      ]
     },
     "metadata": {},
     "execution_count": 32
    }
   ],
   "metadata": {}
  },
  {
   "cell_type": "code",
   "execution_count": null,
   "source": [
    "bus1.drop('Bill')\n",
    "bus2.passengers # 2"
   ],
   "outputs": [
    {
     "output_type": "execute_result",
     "data": {
      "text/plain": [
       "['Alice', 'Clare', 'David']"
      ]
     },
     "metadata": {},
     "execution_count": 33
    }
   ],
   "metadata": {}
  },
  {
   "cell_type": "code",
   "execution_count": null,
   "source": [
    "id(bus1.passengers), id(bus2.passengers), id(bus3.passengers) # 3"
   ],
   "outputs": [
    {
     "output_type": "execute_result",
     "data": {
      "text/plain": [
       "(140546919017472, 140546919017472, 140546920996800)"
      ]
     },
     "metadata": {},
     "execution_count": 34
    }
   ],
   "metadata": {}
  },
  {
   "cell_type": "code",
   "execution_count": null,
   "source": [
    "bus3.passengers # 4"
   ],
   "outputs": [
    {
     "output_type": "execute_result",
     "data": {
      "text/plain": [
       "['Alice', 'Bill', 'Clare', 'David']"
      ]
     },
     "metadata": {},
     "execution_count": 35
    }
   ],
   "metadata": {}
  },
  {
   "cell_type": "markdown",
   "source": [
    "* 1 Используя ```copy``` и ```deepcopy```, мы создаем три объекта ```Bus```\n",
    "* 2 После высадки ```\"Bill\"``` из автобуса ```bus1``` он исчезает из ```bus2```\n",
    "* 3 Иеспекция атрибута ```passengers``` показывает, что ```bus1``` и ```bus2``` разделают один и тот же объект списка, тк ```bus2``` - поверхностная копия ```bus1```\n",
    "* 4 ```bus3``` глубокая копия ```bus1```, поэтому ее атрибут ```passengers``` ссылается на другой список"
   ],
   "metadata": {}
  },
  {
   "cell_type": "markdown",
   "source": [
    "## Параметры функций как ссылки"
   ],
   "metadata": {}
  },
  {
   "cell_type": "code",
   "execution_count": null,
   "source": [
    "def f(a, b):\n",
    "    a += b\n",
    "    return a\n",
    "\n",
    "x = 1\n",
    "y = 2\n",
    "f(x, y)"
   ],
   "outputs": [
    {
     "output_type": "execute_result",
     "data": {
      "text/plain": [
       "3"
      ]
     },
     "metadata": {},
     "execution_count": 37
    }
   ],
   "metadata": {}
  },
  {
   "cell_type": "code",
   "execution_count": null,
   "source": [
    "x ,y # 1"
   ],
   "outputs": [
    {
     "output_type": "execute_result",
     "data": {
      "text/plain": [
       "(1, 2)"
      ]
     },
     "metadata": {},
     "execution_count": 38
    }
   ],
   "metadata": {}
  },
  {
   "cell_type": "code",
   "execution_count": null,
   "source": [
    "a = [1, 2]\n",
    "b = [3, 4]\n",
    "f(a, b)"
   ],
   "outputs": [
    {
     "output_type": "execute_result",
     "data": {
      "text/plain": [
       "[1, 2, 3, 4]"
      ]
     },
     "metadata": {},
     "execution_count": 40
    }
   ],
   "metadata": {}
  },
  {
   "cell_type": "code",
   "execution_count": null,
   "source": [
    "a, b # 2"
   ],
   "outputs": [
    {
     "output_type": "execute_result",
     "data": {
      "text/plain": [
       "([1, 2, 3, 4], [3, 4])"
      ]
     },
     "metadata": {},
     "execution_count": 41
    }
   ],
   "metadata": {}
  },
  {
   "cell_type": "code",
   "execution_count": null,
   "source": [
    "t = (10, 20)\n",
    "u = (30, 40)\n",
    "f(t, u) # 3 "
   ],
   "outputs": [
    {
     "output_type": "execute_result",
     "data": {
      "text/plain": [
       "(10, 20, 30, 40)"
      ]
     },
     "metadata": {},
     "execution_count": 42
    }
   ],
   "metadata": {}
  },
  {
   "cell_type": "code",
   "execution_count": null,
   "source": [
    "t, u"
   ],
   "outputs": [
    {
     "output_type": "execute_result",
     "data": {
      "text/plain": [
       "((10, 20), (30, 40))"
      ]
     },
     "metadata": {},
     "execution_count": 43
    }
   ],
   "metadata": {}
  },
  {
   "cell_type": "markdown",
   "source": [
    "* 1 Число ```x``` не изменилось\n",
    "* 2 Список ```a``` изменился\n",
    "* 3 Кортеж ```t``` не изменился"
   ],
   "metadata": {}
  },
  {
   "cell_type": "markdown",
   "source": [
    "С параметрами функций связан также вопрос о том, что бывает, когда значение по умолчанию имеет изменяемый тип"
   ],
   "metadata": {}
  },
  {
   "cell_type": "markdown",
   "source": [
    "## Значение по умолчанию изменяемого типа: неудачная мысль"
   ],
   "metadata": {}
  },
  {
   "cell_type": "markdown",
   "source": [
    "Необязательные параметры, имеющие значения по умолчанию - замечательная вещь! Однако не следует использовать в качетсве значений по умолчанию изменяемые объекты"
   ],
   "metadata": {}
  },
  {
   "cell_type": "code",
   "execution_count": null,
   "source": [
    "class HauntedBus:\n",
    "    \"\"\"A bus model haunted by ghost passengers\"\"\"\n",
    "\n",
    "    def __init__(self, passengers=[]):  # <1>\n",
    "        self.passengers = passengers  # <2>\n",
    "\n",
    "    def pick(self, name):\n",
    "        self.passengers.append(name)  # <3>\n",
    "\n",
    "    def drop(self, name):\n",
    "        self.passengers.remove(name)"
   ],
   "outputs": [],
   "metadata": {}
  },
  {
   "cell_type": "markdown",
   "source": [
    "* 1 Если аргумент ```passengers``` не передан, то этот параметр связывается с объектом списка по умолчанию, который первоначально пуст\n",
    "* 2 В результате этого присваивания ```self.passengers``` становится синонимом ```passengers```, который сам является синонимом списка по умолчанию, если аргумент ```passengers``` не передан\n",
    "* 3 Применяя методы ```.remove()``` и ```.append()``` к ```self.passengers```, мы на самом деле изменяем список по умолчанию, который является атрибутом объекта-функции"
   ],
   "metadata": {}
  },
  {
   "cell_type": "code",
   "execution_count": null,
   "source": [
    "bus1 = HauntedBus(['Alice', 'Bill'])\n",
    "bus1.passengers"
   ],
   "outputs": [
    {
     "output_type": "execute_result",
     "data": {
      "text/plain": [
       "['Alice', 'Bill']"
      ]
     },
     "metadata": {},
     "execution_count": 45
    }
   ],
   "metadata": {}
  },
  {
   "cell_type": "code",
   "execution_count": null,
   "source": [
    "bus1.pick('Charlie')\n",
    "bus1.drop('Alice')\n",
    "bus1.passengers # 1"
   ],
   "outputs": [
    {
     "output_type": "execute_result",
     "data": {
      "text/plain": [
       "['Bill', 'Charlie']"
      ]
     },
     "metadata": {},
     "execution_count": 46
    }
   ],
   "metadata": {}
  },
  {
   "cell_type": "code",
   "execution_count": null,
   "source": [
    "bus2 = HauntedBus() # 2\n",
    "bus2.pick('Carrie')\n",
    "bus2.passengers"
   ],
   "outputs": [
    {
     "output_type": "execute_result",
     "data": {
      "text/plain": [
       "['Carrie']"
      ]
     },
     "metadata": {},
     "execution_count": 47
    }
   ],
   "metadata": {}
  },
  {
   "cell_type": "code",
   "execution_count": null,
   "source": [
    "bus3 = HauntedBus() # 3\n",
    "bus3.passengers # 4"
   ],
   "outputs": [
    {
     "output_type": "execute_result",
     "data": {
      "text/plain": [
       "['Carrie']"
      ]
     },
     "metadata": {},
     "execution_count": 49
    }
   ],
   "metadata": {}
  },
  {
   "cell_type": "code",
   "execution_count": null,
   "source": [
    "bus3.pick('Dave') # 5\n",
    "bus2.passengers"
   ],
   "outputs": [
    {
     "output_type": "execute_result",
     "data": {
      "text/plain": [
       "['Carrie', 'Dave']"
      ]
     },
     "metadata": {},
     "execution_count": 50
    }
   ],
   "metadata": {}
  },
  {
   "cell_type": "code",
   "execution_count": null,
   "source": [
    "bus2.passengers is bus3.passengers # 6"
   ],
   "outputs": [
    {
     "output_type": "execute_result",
     "data": {
      "text/plain": [
       "True"
      ]
     },
     "metadata": {},
     "execution_count": 51
    }
   ],
   "metadata": {}
  },
  {
   "cell_type": "code",
   "execution_count": null,
   "source": [
    "bus1.passengers # 7"
   ],
   "outputs": [
    {
     "output_type": "execute_result",
     "data": {
      "text/plain": [
       "['Bill', 'Charlie']"
      ]
     },
     "metadata": {},
     "execution_count": 52
    }
   ],
   "metadata": {}
  },
  {
   "cell_type": "markdown",
   "source": [
    "* 1 Пока все хорошо\n",
    "* 2 ```bus2```в начале пуст, поэтому атрибуту ```self.passengers``` присвоен пустой список по умолчанию\n",
    "* 3 ```bus3``` также вначале пуст, ```self.passsengers``` - снова список по умолчанию\n",
    "* 4 **Список по умолчанию уже не пуст!**\n",
    "* 5 Теперь ```Dave```, севший в автобус ```bus3```, оказался в автобусе ```bus2```\n",
    "* 6 **Проблема**: ```bus2.passengers``` и ```bus3.passengers``` ссылаются на один и тот же список\n",
    "* 7 Но ```bus1.passengers``` - другой список"
   ],
   "metadata": {}
  },
  {
   "cell_type": "markdown",
   "source": [
    "![title](img/8.1_link_on_param.png)"
   ],
   "metadata": {}
  }
 ],
 "metadata": {
  "orig_nbformat": 4,
  "language_info": {
   "name": "python",
   "version": "3.10.0rc2",
   "mimetype": "text/x-python",
   "codemirror_mode": {
    "name": "ipython",
    "version": 3
   },
   "pygments_lexer": "ipython3",
   "nbconvert_exporter": "python",
   "file_extension": ".py"
  },
  "kernelspec": {
   "name": "python3",
   "display_name": "Python 3.10.0rc2 64-bit ('3.10.0rc2': pyenv)"
  },
  "interpreter": {
   "hash": "d19139f9a9002f9d9575466607891e08c558a7bf0611b686880f47102338ac30"
  }
 },
 "nbformat": 4,
 "nbformat_minor": 2
}