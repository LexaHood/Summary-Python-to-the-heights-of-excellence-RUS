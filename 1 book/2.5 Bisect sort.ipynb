{
 "cells": [
  {
   "cell_type": "markdown",
   "source": [
    "# Поиск посредством bisect"
   ],
   "metadata": {}
  },
  {
   "cell_type": "markdown",
   "source": [
    "## bisect находит точки вставки элементов в отсортированную последовательность"
   ],
   "metadata": {}
  },
  {
   "cell_type": "code",
   "execution_count": 5,
   "source": [
    "import bisect\n",
    "import sys"
   ],
   "outputs": [],
   "metadata": {}
  },
  {
   "cell_type": "code",
   "execution_count": 6,
   "source": [
    "HAYSTACK = [1, 4, 5, 6, 8 ,12, 15, 20, 21, 23, 26, 29, 30]\n",
    "NEEDLES =[0, 1, 2, 5, 8, 10, 22, 23, 29, 30, 31]\n",
    "\n",
    "ROW_FMT = '{0:2d} @ {1:2d} {2}{0:<2d}'"
   ],
   "outputs": [],
   "metadata": {}
  },
  {
   "cell_type": "code",
   "execution_count": 7,
   "source": [
    "def demo(bisect_fn):\n",
    "    for needle in reversed(NEEDLES):\n",
    "        position = bisect_fn(HAYSTACK, needle)\n",
    "        offset = position * ' |'\n",
    "        print(ROW_FMT.format(needle, position, offset))"
   ],
   "outputs": [],
   "metadata": {}
  },
  {
   "cell_type": "code",
   "execution_count": 8,
   "source": [
    "if sys.argv[-1] == 'left':\n",
    "    bisect_fn = bisect.bisect_left\n",
    "else:\n",
    "    bisect_fn = bisect.bisect"
   ],
   "outputs": [],
   "metadata": {}
  },
  {
   "cell_type": "code",
   "execution_count": 9,
   "source": [
    "print('HAYSTACK -> ', ' '.join('%2d' % n for n in HAYSTACK))\n",
    "demo(bisect_fn)"
   ],
   "outputs": [
    {
     "output_type": "stream",
     "name": "stdout",
     "text": [
      "HAYSTACK ->   1  4  5  6  8 12 15 20 21 23 26 29 30\n",
      "31 @ 13  | | | | | | | | | | | | |31\n",
      "30 @ 13  | | | | | | | | | | | | |30\n",
      "29 @ 12  | | | | | | | | | | | |29\n",
      "23 @ 10  | | | | | | | | | |23\n",
      "22 @  9  | | | | | | | | |22\n",
      "10 @  5  | | | | |10\n",
      " 8 @  5  | | | | |8 \n",
      " 5 @  3  | | |5 \n",
      " 2 @  1  |2 \n",
      " 1 @  1  |1 \n",
      " 0 @  0 0 \n"
     ]
    }
   ],
   "metadata": {}
  },
  {
   "cell_type": "code",
   "execution_count": 14,
   "source": [
    "SIZE = 11"
   ],
   "outputs": [],
   "metadata": {}
  },
  {
   "cell_type": "code",
   "execution_count": 11,
   "source": [
    "import random"
   ],
   "outputs": [],
   "metadata": {}
  },
  {
   "cell_type": "code",
   "execution_count": 15,
   "source": [
    "random.seed(1729)"
   ],
   "outputs": [],
   "metadata": {}
  },
  {
   "cell_type": "code",
   "execution_count": 16,
   "source": [
    "my_list = []\n",
    "for i in range(SIZE):\n",
    "    new_item = random.randrange(SIZE*2)\n",
    "    bisect.insort(my_list, new_item)\n",
    "    print('%2d ->' % new_item, my_list)"
   ],
   "outputs": [
    {
     "output_type": "stream",
     "name": "stdout",
     "text": [
      "20 -> [20]\n",
      " 1 -> [1, 20]\n",
      "13 -> [1, 13, 20]\n",
      "16 -> [1, 13, 16, 20]\n",
      "14 -> [1, 13, 14, 16, 20]\n",
      " 5 -> [1, 5, 13, 14, 16, 20]\n",
      "21 -> [1, 5, 13, 14, 16, 20, 21]\n",
      " 1 -> [1, 1, 5, 13, 14, 16, 20, 21]\n",
      " 5 -> [1, 1, 5, 5, 13, 14, 16, 20, 21]\n",
      " 9 -> [1, 1, 5, 5, 9, 13, 14, 16, 20, 21]\n",
      "16 -> [1, 1, 5, 5, 9, 13, 14, 16, 16, 20, 21]\n"
     ]
    }
   ],
   "metadata": {}
  },
  {
   "cell_type": "code",
   "execution_count": null,
   "source": [],
   "outputs": [],
   "metadata": {}
  }
 ],
 "metadata": {
  "orig_nbformat": 4,
  "language_info": {
   "name": "python",
   "version": "3.9.7",
   "mimetype": "text/x-python",
   "codemirror_mode": {
    "name": "ipython",
    "version": 3
   },
   "pygments_lexer": "ipython3",
   "nbconvert_exporter": "python",
   "file_extension": ".py"
  },
  "kernelspec": {
   "name": "python3",
   "display_name": "Python 3.9.7 64-bit"
  },
  "interpreter": {
   "hash": "e7370f93d1d0cde622a1f8e1c04877d8463912d04d973331ad4851f04de6915a"
  }
 },
 "nbformat": 4,
 "nbformat_minor": 2
}