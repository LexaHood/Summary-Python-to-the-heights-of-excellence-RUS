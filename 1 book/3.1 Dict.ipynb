{
 "cells": [
  {
   "cell_type": "code",
   "execution_count": 2,
   "source": [
    "a = dict(one=1, two=2, three=3)\n",
    "a"
   ],
   "outputs": [
    {
     "output_type": "execute_result",
     "data": {
      "text/plain": [
       "{'one': 1, 'two': 2, 'three': 3}"
      ]
     },
     "metadata": {},
     "execution_count": 2
    }
   ],
   "metadata": {}
  },
  {
   "cell_type": "code",
   "execution_count": 3,
   "source": [
    "b = {'one': 1, 'two': 2, 'three': 3}\n",
    "b"
   ],
   "outputs": [
    {
     "output_type": "execute_result",
     "data": {
      "text/plain": [
       "{'one': 1, 'two': 2, 'three': 3}"
      ]
     },
     "metadata": {},
     "execution_count": 3
    }
   ],
   "metadata": {}
  },
  {
   "cell_type": "code",
   "execution_count": 4,
   "source": [
    "c = dict(zip(['one', 'two', 'three'], [1,2,3]))\n",
    "c"
   ],
   "outputs": [
    {
     "output_type": "execute_result",
     "data": {
      "text/plain": [
       "{'one': 1, 'two': 2, 'three': 3}"
      ]
     },
     "metadata": {},
     "execution_count": 4
    }
   ],
   "metadata": {}
  },
  {
   "cell_type": "code",
   "execution_count": 5,
   "source": [
    "e = dict({'three':3, 'one':1, 'two': 2})\n",
    "e"
   ],
   "outputs": [
    {
     "output_type": "execute_result",
     "data": {
      "text/plain": [
       "{'three': 3, 'one': 1, 'two': 2}"
      ]
     },
     "metadata": {},
     "execution_count": 5
    }
   ],
   "metadata": {}
  },
  {
   "cell_type": "code",
   "execution_count": 6,
   "source": [
    "a == b == c == e"
   ],
   "outputs": [
    {
     "output_type": "execute_result",
     "data": {
      "text/plain": [
       "True"
      ]
     },
     "metadata": {},
     "execution_count": 6
    }
   ],
   "metadata": {}
  },
  {
   "cell_type": "code",
   "execution_count": 7,
   "source": [
    "DIAL_CODES = [\n",
    "    (86, 'China'),\n",
    "    (91, 'India'),\n",
    "    (1, 'Unitate States'),\n",
    "    (7, 'Russia'),\n",
    "    (55, 'Brazil')\n",
    "]"
   ],
   "outputs": [],
   "metadata": {}
  },
  {
   "cell_type": "code",
   "execution_count": 8,
   "source": [
    "country_code = {country: code for code, country in DIAL_CODES}\n",
    "country_code"
   ],
   "outputs": [
    {
     "output_type": "execute_result",
     "data": {
      "text/plain": [
       "{'China': 86, 'India': 91, 'Unitate States': 1, 'Russia': 7, 'Brazil': 55}"
      ]
     },
     "metadata": {},
     "execution_count": 8
    }
   ],
   "metadata": {}
  },
  {
   "cell_type": "code",
   "execution_count": 23,
   "source": [
    "country_code['China']"
   ],
   "outputs": [
    {
     "output_type": "execute_result",
     "data": {
      "text/plain": [
       "86"
      ]
     },
     "metadata": {},
     "execution_count": 23
    }
   ],
   "metadata": {}
  },
  {
   "cell_type": "code",
   "execution_count": 24,
   "source": [
    "country_code['sdsds']"
   ],
   "outputs": [
    {
     "output_type": "error",
     "ename": "KeyError",
     "evalue": "'sdsds'",
     "traceback": [
      "\u001b[0;31m---------------------------------------------------------------------------\u001b[0m",
      "\u001b[0;31mKeyError\u001b[0m                                  Traceback (most recent call last)",
      "\u001b[0;32m/tmp/ipykernel_33537/461035819.py\u001b[0m in \u001b[0;36m<module>\u001b[0;34m\u001b[0m\n\u001b[0;32m----> 1\u001b[0;31m \u001b[0mcountry_code\u001b[0m\u001b[0;34m[\u001b[0m\u001b[0;34m'sdsds'\u001b[0m\u001b[0;34m]\u001b[0m\u001b[0;34m\u001b[0m\u001b[0;34m\u001b[0m\u001b[0m\n\u001b[0m",
      "\u001b[0;31mKeyError\u001b[0m: 'sdsds'"
     ]
    }
   ],
   "metadata": {}
  },
  {
   "cell_type": "code",
   "execution_count": 19,
   "source": [
    "class StrKey(dict):\n",
    "    def __missing__(self, key):\n",
    "        if isinstance(key, str):\n",
    "            raise KeyError(key)\n",
    "        return self[str(key)]\n",
    "\n",
    "    def get(self, key, default=None):\n",
    "        try:\n",
    "            return self[key]\n",
    "        except KeyError:\n",
    "            return default\n",
    "\n",
    "    def __contains__(self, key):\n",
    "        return key in self.keys() or str(key) in self.keys()"
   ],
   "outputs": [],
   "metadata": {}
  },
  {
   "cell_type": "code",
   "execution_count": 22,
   "source": [
    "l = StrKey({'three':3, 'one':1, 'two': 2})"
   ],
   "outputs": [],
   "metadata": {}
  },
  {
   "cell_type": "code",
   "execution_count": 23,
   "source": [
    "l"
   ],
   "outputs": [
    {
     "output_type": "execute_result",
     "data": {
      "text/plain": [
       "{'three': 3, 'one': 1, 'two': 2}"
      ]
     },
     "metadata": {},
     "execution_count": 23
    }
   ],
   "metadata": {}
  },
  {
   "cell_type": "code",
   "execution_count": 25,
   "source": [
    "l[\"two\"]"
   ],
   "outputs": [
    {
     "output_type": "execute_result",
     "data": {
      "text/plain": [
       "2"
      ]
     },
     "metadata": {},
     "execution_count": 25
    }
   ],
   "metadata": {}
  },
  {
   "cell_type": "code",
   "execution_count": 26,
   "source": [
    "l['five']"
   ],
   "outputs": [
    {
     "output_type": "error",
     "ename": "KeyError",
     "evalue": "'five'",
     "traceback": [
      "\u001b[0;31m---------------------------------------------------------------------------\u001b[0m",
      "\u001b[0;31mKeyError\u001b[0m                                  Traceback (most recent call last)",
      "\u001b[0;32m/tmp/ipykernel_13253/2503101978.py\u001b[0m in \u001b[0;36m<module>\u001b[0;34m\u001b[0m\n\u001b[0;32m----> 1\u001b[0;31m \u001b[0ml\u001b[0m\u001b[0;34m[\u001b[0m\u001b[0;34m'five'\u001b[0m\u001b[0;34m]\u001b[0m\u001b[0;34m\u001b[0m\u001b[0;34m\u001b[0m\u001b[0m\n\u001b[0m",
      "\u001b[0;32m/tmp/ipykernel_13253/3031639259.py\u001b[0m in \u001b[0;36m__missing__\u001b[0;34m(self, key)\u001b[0m\n\u001b[1;32m      2\u001b[0m     \u001b[0;32mdef\u001b[0m \u001b[0m__missing__\u001b[0m\u001b[0;34m(\u001b[0m\u001b[0mself\u001b[0m\u001b[0;34m,\u001b[0m \u001b[0mkey\u001b[0m\u001b[0;34m)\u001b[0m\u001b[0;34m:\u001b[0m\u001b[0;34m\u001b[0m\u001b[0;34m\u001b[0m\u001b[0m\n\u001b[1;32m      3\u001b[0m         \u001b[0;32mif\u001b[0m \u001b[0misinstance\u001b[0m\u001b[0;34m(\u001b[0m\u001b[0mkey\u001b[0m\u001b[0;34m,\u001b[0m \u001b[0mstr\u001b[0m\u001b[0;34m)\u001b[0m\u001b[0;34m:\u001b[0m\u001b[0;34m\u001b[0m\u001b[0;34m\u001b[0m\u001b[0m\n\u001b[0;32m----> 4\u001b[0;31m             \u001b[0;32mraise\u001b[0m \u001b[0mKeyError\u001b[0m\u001b[0;34m(\u001b[0m\u001b[0mkey\u001b[0m\u001b[0;34m)\u001b[0m\u001b[0;34m\u001b[0m\u001b[0;34m\u001b[0m\u001b[0m\n\u001b[0m\u001b[1;32m      5\u001b[0m         \u001b[0;32mreturn\u001b[0m \u001b[0mself\u001b[0m\u001b[0;34m[\u001b[0m\u001b[0mstr\u001b[0m\u001b[0;34m(\u001b[0m\u001b[0mkey\u001b[0m\u001b[0;34m)\u001b[0m\u001b[0;34m]\u001b[0m\u001b[0;34m\u001b[0m\u001b[0;34m\u001b[0m\u001b[0m\n\u001b[1;32m      6\u001b[0m \u001b[0;34m\u001b[0m\u001b[0m\n",
      "\u001b[0;31mKeyError\u001b[0m: 'five'"
     ]
    }
   ],
   "metadata": {}
  },
  {
   "cell_type": "code",
   "execution_count": 29,
   "source": [
    "import builtins\n",
    "from collections import ChainMap\n",
    "pylookup = ChainMap(locals(), globals(), vars(builtins))"
   ],
   "outputs": [],
   "metadata": {}
  },
  {
   "cell_type": "code",
   "execution_count": 30,
   "source": [
    "pylookup"
   ],
   "outputs": [
    {
     "output_type": "execute_result",
     "data": {
      "text/plain": [
       "ChainMap({'__name__': '__main__', '__doc__': 'Automatically created module for IPython interactive environment', '__package__': None, '__loader__': None, '__spec__': None, '__builtin__': <module 'builtins' (built-in)>, '__builtins__': <module 'builtins' (built-in)>, '_ih': ['', 'class Tet(list):\\n    self.__init__():\\n        super().__init__', 'class Tet(list):\\n    self.__init__():\\n        super().__init__()', 'class Tet(list):\\n    def __init__(Self):\\n        super().__init__()', 'Tet = []', 'Tet.append(1)', 'Tet', 'Tet.append(1)\\nTet.append(1)\\nTet.append(3)', 'Tet', 'Tset = []', 'l.append(1)\\nl.append(3)\\nl.append(5)', 'l = Tet()', 'l = Tet', 'l.append(1)\\nl.append(3)\\nl.append(5)', 'l', 'l[2]', 'l[3]', 'l[10]', 'class StrKey(dict):\\n    def __missing__(self, key):\\n        if isinstance(key, str):\\n            raise KeyError(key)\\n        return self[str(key)]\\n\\n    def get(self, key, default=None);\\n        try:\\n            return self[key]\\n        except KeyError:\\n            return default\\n\\n    def __contains__(self, key):\\n        return key in self.keys() or str(key) in self.keys()', 'class StrKey(dict):\\n    def __missing__(self, key):\\n        if isinstance(key, str):\\n            raise KeyError(key)\\n        return self[str(key)]\\n\\n    def get(self, key, default=None):\\n        try:\\n            return self[key]\\n        except KeyError:\\n            return default\\n\\n    def __contains__(self, key):\\n        return key in self.keys() or str(key) in self.keys()', 'l = StrKey', \"l = StrKey{'one': 1, 'two': 2, 'three': 3}\", \"l = StrKey({'three':3, 'one':1, 'two': 2})\", 'l', 'l[2]', 'l[\"two\"]', \"l['five']\", 'import builtins\\npylookup = ChainMap(locals(), globals(), vars(builtins))', 'import builtins\\npylookup = ChainMap(locals(), globals(), vars(builtins))', 'import builtins\\nfrom collections import ChainMap\\npylookup = ChainMap(locals(), globals(), vars(builtins))', 'pylookup'], '_oh': {6: [1, 1, 1, 3, 1, 3, 5], 8: [1, 1, 1, 3, 1, 3, 5], 14: [1, 1, 1, 3, 1, 3, 5], 15: 1, 16: 3, 23: {'three': 3, 'one': 1, 'two': 2}, 25: 2}, '_dh': ['/home/alexey/Projects/python-to-the-heights-of-excellence/1 book'], 'In': ['', 'class Tet(list):\\n    self.__init__():\\n        super().__init__', 'class Tet(list):\\n    self.__init__():\\n        super().__init__()', 'class Tet(list):\\n    def __init__(Self):\\n        super().__init__()', 'Tet = []', 'Tet.append(1)', 'Tet', 'Tet.append(1)\\nTet.append(1)\\nTet.append(3)', 'Tet', 'Tset = []', 'l.append(1)\\nl.append(3)\\nl.append(5)', 'l = Tet()', 'l = Tet', 'l.append(1)\\nl.append(3)\\nl.append(5)', 'l', 'l[2]', 'l[3]', 'l[10]', 'class StrKey(dict):\\n    def __missing__(self, key):\\n        if isinstance(key, str):\\n            raise KeyError(key)\\n        return self[str(key)]\\n\\n    def get(self, key, default=None);\\n        try:\\n            return self[key]\\n        except KeyError:\\n            return default\\n\\n    def __contains__(self, key):\\n        return key in self.keys() or str(key) in self.keys()', 'class StrKey(dict):\\n    def __missing__(self, key):\\n        if isinstance(key, str):\\n            raise KeyError(key)\\n        return self[str(key)]\\n\\n    def get(self, key, default=None):\\n        try:\\n            return self[key]\\n        except KeyError:\\n            return default\\n\\n    def __contains__(self, key):\\n        return key in self.keys() or str(key) in self.keys()', 'l = StrKey', \"l = StrKey{'one': 1, 'two': 2, 'three': 3}\", \"l = StrKey({'three':3, 'one':1, 'two': 2})\", 'l', 'l[2]', 'l[\"two\"]', \"l['five']\", 'import builtins\\npylookup = ChainMap(locals(), globals(), vars(builtins))', 'import builtins\\npylookup = ChainMap(locals(), globals(), vars(builtins))', 'import builtins\\nfrom collections import ChainMap\\npylookup = ChainMap(locals(), globals(), vars(builtins))', 'pylookup'], 'Out': {6: [1, 1, 1, 3, 1, 3, 5], 8: [1, 1, 1, 3, 1, 3, 5], 14: [1, 1, 1, 3, 1, 3, 5], 15: 1, 16: 3, 23: {'three': 3, 'one': 1, 'two': 2}, 25: 2}, 'get_ipython': <bound method InteractiveShell.get_ipython of <ipykernel.zmqshell.ZMQInteractiveShell object at 0x7fa4252385e0>>, 'exit': <IPython.core.autocall.ZMQExitAutocall object at 0x7fa425253460>, 'quit': <IPython.core.autocall.ZMQExitAutocall object at 0x7fa425253460>, '_': 2, '__': {'three': 3, 'one': 1, 'two': 2}, '___': 3, 'os': <module 'os' from '/usr/lib/python3.9/os.py'>, 'sys': <module 'sys' (built-in)>, '_i': 'import builtins\\nfrom collections import ChainMap\\npylookup = ChainMap(locals(), globals(), vars(builtins))', '_ii': 'import builtins\\npylookup = ChainMap(locals(), globals(), vars(builtins))', '_iii': 'import builtins\\npylookup = ChainMap(locals(), globals(), vars(builtins))', '_i1': 'class Tet(list):\\n    self.__init__():\\n        super().__init__', '_i2': 'class Tet(list):\\n    self.__init__():\\n        super().__init__()', '_i3': 'class Tet(list):\\n    def __init__(Self):\\n        super().__init__()', 'Tet': [1, 1, 1, 3, 1, 3, 5], '_i4': 'Tet = []', '_i5': 'Tet.append(1)', '_i6': 'Tet', '_6': [1, 1, 1, 3, 1, 3, 5], '_i7': 'Tet.append(1)\\nTet.append(1)\\nTet.append(3)', '_i8': 'Tet', '_8': [1, 1, 1, 3, 1, 3, 5], '_i9': 'Tset = []', 'Tset': [], '_i10': 'l.append(1)\\nl.append(3)\\nl.append(5)', '_i11': 'l = Tet()', '_i12': 'l = Tet', 'l': {'three': 3, 'one': 1, 'two': 2}, '_i13': 'l.append(1)\\nl.append(3)\\nl.append(5)', '_i14': 'l', '_14': [1, 1, 1, 3, 1, 3, 5], '_i15': 'l[2]', '_15': 1, '_i16': 'l[3]', '_16': 3, '_i17': 'l[10]', '_i18': 'class StrKey(dict):\\n    def __missing__(self, key):\\n        if isinstance(key, str):\\n            raise KeyError(key)\\n        return self[str(key)]\\n\\n    def get(self, key, default=None);\\n        try:\\n            return self[key]\\n        except KeyError:\\n            return default\\n\\n    def __contains__(self, key):\\n        return key in self.keys() or str(key) in self.keys()', '_i19': 'class StrKey(dict):\\n    def __missing__(self, key):\\n        if isinstance(key, str):\\n            raise KeyError(key)\\n        return self[str(key)]\\n\\n    def get(self, key, default=None):\\n        try:\\n            return self[key]\\n        except KeyError:\\n            return default\\n\\n    def __contains__(self, key):\\n        return key in self.keys() or str(key) in self.keys()', 'StrKey': <class '__main__.StrKey'>, '_i20': 'l = StrKey', '_i21': \"l = StrKey{'one': 1, 'two': 2, 'three': 3}\", '_i22': \"l = StrKey({'three':3, 'one':1, 'two': 2})\", '_i23': 'l', '_23': {'three': 3, 'one': 1, 'two': 2}, '_i24': 'l[2]', '_i25': 'l[\"two\"]', '_25': 2, '_i26': \"l['five']\", '_i27': 'import builtins\\npylookup = ChainMap(locals(), globals(), vars(builtins))', 'builtins': <module 'builtins' (built-in)>, '_i28': 'import builtins\\npylookup = ChainMap(locals(), globals(), vars(builtins))', '_i29': 'import builtins\\nfrom collections import ChainMap\\npylookup = ChainMap(locals(), globals(), vars(builtins))', 'ChainMap': <class 'collections.ChainMap'>, 'pylookup': ..., '_i30': 'pylookup'}, {'__name__': '__main__', '__doc__': 'Automatically created module for IPython interactive environment', '__package__': None, '__loader__': None, '__spec__': None, '__builtin__': <module 'builtins' (built-in)>, '__builtins__': <module 'builtins' (built-in)>, '_ih': ['', 'class Tet(list):\\n    self.__init__():\\n        super().__init__', 'class Tet(list):\\n    self.__init__():\\n        super().__init__()', 'class Tet(list):\\n    def __init__(Self):\\n        super().__init__()', 'Tet = []', 'Tet.append(1)', 'Tet', 'Tet.append(1)\\nTet.append(1)\\nTet.append(3)', 'Tet', 'Tset = []', 'l.append(1)\\nl.append(3)\\nl.append(5)', 'l = Tet()', 'l = Tet', 'l.append(1)\\nl.append(3)\\nl.append(5)', 'l', 'l[2]', 'l[3]', 'l[10]', 'class StrKey(dict):\\n    def __missing__(self, key):\\n        if isinstance(key, str):\\n            raise KeyError(key)\\n        return self[str(key)]\\n\\n    def get(self, key, default=None);\\n        try:\\n            return self[key]\\n        except KeyError:\\n            return default\\n\\n    def __contains__(self, key):\\n        return key in self.keys() or str(key) in self.keys()', 'class StrKey(dict):\\n    def __missing__(self, key):\\n        if isinstance(key, str):\\n            raise KeyError(key)\\n        return self[str(key)]\\n\\n    def get(self, key, default=None):\\n        try:\\n            return self[key]\\n        except KeyError:\\n            return default\\n\\n    def __contains__(self, key):\\n        return key in self.keys() or str(key) in self.keys()', 'l = StrKey', \"l = StrKey{'one': 1, 'two': 2, 'three': 3}\", \"l = StrKey({'three':3, 'one':1, 'two': 2})\", 'l', 'l[2]', 'l[\"two\"]', \"l['five']\", 'import builtins\\npylookup = ChainMap(locals(), globals(), vars(builtins))', 'import builtins\\npylookup = ChainMap(locals(), globals(), vars(builtins))', 'import builtins\\nfrom collections import ChainMap\\npylookup = ChainMap(locals(), globals(), vars(builtins))', 'pylookup'], '_oh': {6: [1, 1, 1, 3, 1, 3, 5], 8: [1, 1, 1, 3, 1, 3, 5], 14: [1, 1, 1, 3, 1, 3, 5], 15: 1, 16: 3, 23: {'three': 3, 'one': 1, 'two': 2}, 25: 2}, '_dh': ['/home/alexey/Projects/python-to-the-heights-of-excellence/1 book'], 'In': ['', 'class Tet(list):\\n    self.__init__():\\n        super().__init__', 'class Tet(list):\\n    self.__init__():\\n        super().__init__()', 'class Tet(list):\\n    def __init__(Self):\\n        super().__init__()', 'Tet = []', 'Tet.append(1)', 'Tet', 'Tet.append(1)\\nTet.append(1)\\nTet.append(3)', 'Tet', 'Tset = []', 'l.append(1)\\nl.append(3)\\nl.append(5)', 'l = Tet()', 'l = Tet', 'l.append(1)\\nl.append(3)\\nl.append(5)', 'l', 'l[2]', 'l[3]', 'l[10]', 'class StrKey(dict):\\n    def __missing__(self, key):\\n        if isinstance(key, str):\\n            raise KeyError(key)\\n        return self[str(key)]\\n\\n    def get(self, key, default=None);\\n        try:\\n            return self[key]\\n        except KeyError:\\n            return default\\n\\n    def __contains__(self, key):\\n        return key in self.keys() or str(key) in self.keys()', 'class StrKey(dict):\\n    def __missing__(self, key):\\n        if isinstance(key, str):\\n            raise KeyError(key)\\n        return self[str(key)]\\n\\n    def get(self, key, default=None):\\n        try:\\n            return self[key]\\n        except KeyError:\\n            return default\\n\\n    def __contains__(self, key):\\n        return key in self.keys() or str(key) in self.keys()', 'l = StrKey', \"l = StrKey{'one': 1, 'two': 2, 'three': 3}\", \"l = StrKey({'three':3, 'one':1, 'two': 2})\", 'l', 'l[2]', 'l[\"two\"]', \"l['five']\", 'import builtins\\npylookup = ChainMap(locals(), globals(), vars(builtins))', 'import builtins\\npylookup = ChainMap(locals(), globals(), vars(builtins))', 'import builtins\\nfrom collections import ChainMap\\npylookup = ChainMap(locals(), globals(), vars(builtins))', 'pylookup'], 'Out': {6: [1, 1, 1, 3, 1, 3, 5], 8: [1, 1, 1, 3, 1, 3, 5], 14: [1, 1, 1, 3, 1, 3, 5], 15: 1, 16: 3, 23: {'three': 3, 'one': 1, 'two': 2}, 25: 2}, 'get_ipython': <bound method InteractiveShell.get_ipython of <ipykernel.zmqshell.ZMQInteractiveShell object at 0x7fa4252385e0>>, 'exit': <IPython.core.autocall.ZMQExitAutocall object at 0x7fa425253460>, 'quit': <IPython.core.autocall.ZMQExitAutocall object at 0x7fa425253460>, '_': 2, '__': {'three': 3, 'one': 1, 'two': 2}, '___': 3, 'os': <module 'os' from '/usr/lib/python3.9/os.py'>, 'sys': <module 'sys' (built-in)>, '_i': 'import builtins\\nfrom collections import ChainMap\\npylookup = ChainMap(locals(), globals(), vars(builtins))', '_ii': 'import builtins\\npylookup = ChainMap(locals(), globals(), vars(builtins))', '_iii': 'import builtins\\npylookup = ChainMap(locals(), globals(), vars(builtins))', '_i1': 'class Tet(list):\\n    self.__init__():\\n        super().__init__', '_i2': 'class Tet(list):\\n    self.__init__():\\n        super().__init__()', '_i3': 'class Tet(list):\\n    def __init__(Self):\\n        super().__init__()', 'Tet': [1, 1, 1, 3, 1, 3, 5], '_i4': 'Tet = []', '_i5': 'Tet.append(1)', '_i6': 'Tet', '_6': [1, 1, 1, 3, 1, 3, 5], '_i7': 'Tet.append(1)\\nTet.append(1)\\nTet.append(3)', '_i8': 'Tet', '_8': [1, 1, 1, 3, 1, 3, 5], '_i9': 'Tset = []', 'Tset': [], '_i10': 'l.append(1)\\nl.append(3)\\nl.append(5)', '_i11': 'l = Tet()', '_i12': 'l = Tet', 'l': {'three': 3, 'one': 1, 'two': 2}, '_i13': 'l.append(1)\\nl.append(3)\\nl.append(5)', '_i14': 'l', '_14': [1, 1, 1, 3, 1, 3, 5], '_i15': 'l[2]', '_15': 1, '_i16': 'l[3]', '_16': 3, '_i17': 'l[10]', '_i18': 'class StrKey(dict):\\n    def __missing__(self, key):\\n        if isinstance(key, str):\\n            raise KeyError(key)\\n        return self[str(key)]\\n\\n    def get(self, key, default=None);\\n        try:\\n            return self[key]\\n        except KeyError:\\n            return default\\n\\n    def __contains__(self, key):\\n        return key in self.keys() or str(key) in self.keys()', '_i19': 'class StrKey(dict):\\n    def __missing__(self, key):\\n        if isinstance(key, str):\\n            raise KeyError(key)\\n        return self[str(key)]\\n\\n    def get(self, key, default=None):\\n        try:\\n            return self[key]\\n        except KeyError:\\n            return default\\n\\n    def __contains__(self, key):\\n        return key in self.keys() or str(key) in self.keys()', 'StrKey': <class '__main__.StrKey'>, '_i20': 'l = StrKey', '_i21': \"l = StrKey{'one': 1, 'two': 2, 'three': 3}\", '_i22': \"l = StrKey({'three':3, 'one':1, 'two': 2})\", '_i23': 'l', '_23': {'three': 3, 'one': 1, 'two': 2}, '_i24': 'l[2]', '_i25': 'l[\"two\"]', '_25': 2, '_i26': \"l['five']\", '_i27': 'import builtins\\npylookup = ChainMap(locals(), globals(), vars(builtins))', 'builtins': <module 'builtins' (built-in)>, '_i28': 'import builtins\\npylookup = ChainMap(locals(), globals(), vars(builtins))', '_i29': 'import builtins\\nfrom collections import ChainMap\\npylookup = ChainMap(locals(), globals(), vars(builtins))', 'ChainMap': <class 'collections.ChainMap'>, 'pylookup': ..., '_i30': 'pylookup'}, {'__name__': 'builtins', '__doc__': \"Built-in functions, exceptions, and other objects.\\n\\nNoteworthy: None is the `nil' object; Ellipsis represents `...' in slices.\", '__package__': '', '__loader__': <class '_frozen_importlib.BuiltinImporter'>, '__spec__': ModuleSpec(name='builtins', loader=<class '_frozen_importlib.BuiltinImporter'>, origin='built-in'), '__build_class__': <built-in function __build_class__>, '__import__': <built-in function __import__>, 'abs': <built-in function abs>, 'all': <built-in function all>, 'any': <built-in function any>, 'ascii': <built-in function ascii>, 'bin': <built-in function bin>, 'breakpoint': <built-in function breakpoint>, 'callable': <built-in function callable>, 'chr': <built-in function chr>, 'compile': <built-in function compile>, 'delattr': <built-in function delattr>, 'dir': <built-in function dir>, 'divmod': <built-in function divmod>, 'eval': <built-in function eval>, 'exec': <built-in function exec>, 'format': <built-in function format>, 'getattr': <built-in function getattr>, 'globals': <built-in function globals>, 'hasattr': <built-in function hasattr>, 'hash': <built-in function hash>, 'hex': <built-in function hex>, 'id': <built-in function id>, 'input': <bound method Kernel.raw_input of <ipykernel.ipkernel.IPythonKernel object at 0x7fa4262de940>>, 'isinstance': <built-in function isinstance>, 'issubclass': <built-in function issubclass>, 'iter': <built-in function iter>, 'len': <built-in function len>, 'locals': <built-in function locals>, 'max': <built-in function max>, 'min': <built-in function min>, 'next': <built-in function next>, 'oct': <built-in function oct>, 'ord': <built-in function ord>, 'pow': <built-in function pow>, 'print': <built-in function print>, 'repr': <built-in function repr>, 'round': <built-in function round>, 'setattr': <built-in function setattr>, 'sorted': <built-in function sorted>, 'sum': <built-in function sum>, 'vars': <built-in function vars>, 'None': None, 'Ellipsis': Ellipsis, 'NotImplemented': NotImplemented, 'False': False, 'True': True, 'bool': <class 'bool'>, 'memoryview': <class 'memoryview'>, 'bytearray': <class 'bytearray'>, 'bytes': <class 'bytes'>, 'classmethod': <class 'classmethod'>, 'complex': <class 'complex'>, 'dict': <class 'dict'>, 'enumerate': <class 'enumerate'>, 'filter': <class 'filter'>, 'float': <class 'float'>, 'frozenset': <class 'frozenset'>, 'property': <class 'property'>, 'int': <class 'int'>, 'list': <class 'list'>, 'map': <class 'map'>, 'object': <class 'object'>, 'range': <class 'range'>, 'reversed': <class 'reversed'>, 'set': <class 'set'>, 'slice': <class 'slice'>, 'staticmethod': <class 'staticmethod'>, 'str': <class 'str'>, 'super': <class 'super'>, 'tuple': <class 'tuple'>, 'type': <class 'type'>, 'zip': <class 'zip'>, '__debug__': True, 'BaseException': <class 'BaseException'>, 'Exception': <class 'Exception'>, 'TypeError': <class 'TypeError'>, 'StopAsyncIteration': <class 'StopAsyncIteration'>, 'StopIteration': <class 'StopIteration'>, 'GeneratorExit': <class 'GeneratorExit'>, 'SystemExit': <class 'SystemExit'>, 'KeyboardInterrupt': <class 'KeyboardInterrupt'>, 'ImportError': <class 'ImportError'>, 'ModuleNotFoundError': <class 'ModuleNotFoundError'>, 'OSError': <class 'OSError'>, 'EnvironmentError': <class 'OSError'>, 'IOError': <class 'OSError'>, 'EOFError': <class 'EOFError'>, 'RuntimeError': <class 'RuntimeError'>, 'RecursionError': <class 'RecursionError'>, 'NotImplementedError': <class 'NotImplementedError'>, 'NameError': <class 'NameError'>, 'UnboundLocalError': <class 'UnboundLocalError'>, 'AttributeError': <class 'AttributeError'>, 'SyntaxError': <class 'SyntaxError'>, 'IndentationError': <class 'IndentationError'>, 'TabError': <class 'TabError'>, 'LookupError': <class 'LookupError'>, 'IndexError': <class 'IndexError'>, 'KeyError': <class 'KeyError'>, 'ValueError': <class 'ValueError'>, 'UnicodeError': <class 'UnicodeError'>, 'UnicodeEncodeError': <class 'UnicodeEncodeError'>, 'UnicodeDecodeError': <class 'UnicodeDecodeError'>, 'UnicodeTranslateError': <class 'UnicodeTranslateError'>, 'AssertionError': <class 'AssertionError'>, 'ArithmeticError': <class 'ArithmeticError'>, 'FloatingPointError': <class 'FloatingPointError'>, 'OverflowError': <class 'OverflowError'>, 'ZeroDivisionError': <class 'ZeroDivisionError'>, 'SystemError': <class 'SystemError'>, 'ReferenceError': <class 'ReferenceError'>, 'MemoryError': <class 'MemoryError'>, 'BufferError': <class 'BufferError'>, 'Warning': <class 'Warning'>, 'UserWarning': <class 'UserWarning'>, 'DeprecationWarning': <class 'DeprecationWarning'>, 'PendingDeprecationWarning': <class 'PendingDeprecationWarning'>, 'SyntaxWarning': <class 'SyntaxWarning'>, 'RuntimeWarning': <class 'RuntimeWarning'>, 'FutureWarning': <class 'FutureWarning'>, 'ImportWarning': <class 'ImportWarning'>, 'UnicodeWarning': <class 'UnicodeWarning'>, 'BytesWarning': <class 'BytesWarning'>, 'ResourceWarning': <class 'ResourceWarning'>, 'ConnectionError': <class 'ConnectionError'>, 'BlockingIOError': <class 'BlockingIOError'>, 'BrokenPipeError': <class 'BrokenPipeError'>, 'ChildProcessError': <class 'ChildProcessError'>, 'ConnectionAbortedError': <class 'ConnectionAbortedError'>, 'ConnectionRefusedError': <class 'ConnectionRefusedError'>, 'ConnectionResetError': <class 'ConnectionResetError'>, 'FileExistsError': <class 'FileExistsError'>, 'FileNotFoundError': <class 'FileNotFoundError'>, 'IsADirectoryError': <class 'IsADirectoryError'>, 'NotADirectoryError': <class 'NotADirectoryError'>, 'InterruptedError': <class 'InterruptedError'>, 'PermissionError': <class 'PermissionError'>, 'ProcessLookupError': <class 'ProcessLookupError'>, 'TimeoutError': <class 'TimeoutError'>, 'open': <built-in function open>, 'copyright': Copyright (c) 2001-2021 Python Software Foundation.\n",
       "All Rights Reserved.\n",
       "\n",
       "Copyright (c) 2000 BeOpen.com.\n",
       "All Rights Reserved.\n",
       "\n",
       "Copyright (c) 1995-2001 Corporation for National Research Initiatives.\n",
       "All Rights Reserved.\n",
       "\n",
       "Copyright (c) 1991-1995 Stichting Mathematisch Centrum, Amsterdam.\n",
       "All Rights Reserved., 'credits':     Thanks to CWI, CNRI, BeOpen.com, Zope Corporation and a cast of thousands\n",
       "    for supporting Python development.  See www.python.org for more information., 'license': Type license() to see the full license text, 'help': Type help() for interactive help, or help(object) for help about object., 'execfile': <function execfile at 0x7fa4268334c0>, 'runfile': <function runfile at 0x7fa4264f0280>, '__IPYTHON__': True, 'display': <function display at 0x7fa4279c9040>, 'get_ipython': <bound method InteractiveShell.get_ipython of <ipykernel.zmqshell.ZMQInteractiveShell object at 0x7fa4252385e0>>})"
      ]
     },
     "metadata": {},
     "execution_count": 30
    }
   ],
   "metadata": {}
  },
  {
   "cell_type": "code",
   "execution_count": 31,
   "source": [
    "from collections import Counter"
   ],
   "outputs": [],
   "metadata": {}
  },
  {
   "cell_type": "code",
   "execution_count": 36,
   "source": [
    "ct = Counter('abracadabra')"
   ],
   "outputs": [],
   "metadata": {}
  },
  {
   "cell_type": "code",
   "execution_count": 37,
   "source": [
    "ct"
   ],
   "outputs": [
    {
     "output_type": "execute_result",
     "data": {
      "text/plain": [
       "Counter({'a': 5, 'b': 2, 'r': 2, 'c': 1, 'd': 1})"
      ]
     },
     "metadata": {},
     "execution_count": 37
    }
   ],
   "metadata": {}
  },
  {
   "cell_type": "code",
   "execution_count": 38,
   "source": [
    "ct.update('aaazz')\n",
    "ct"
   ],
   "outputs": [
    {
     "output_type": "execute_result",
     "data": {
      "text/plain": [
       "Counter({'a': 8, 'b': 2, 'r': 2, 'c': 1, 'd': 1, 'z': 2})"
      ]
     },
     "metadata": {},
     "execution_count": 38
    }
   ],
   "metadata": {}
  },
  {
   "cell_type": "code",
   "execution_count": 39,
   "source": [
    "ct.most_common(2)"
   ],
   "outputs": [
    {
     "output_type": "execute_result",
     "data": {
      "text/plain": [
       "[('a', 8), ('b', 2)]"
      ]
     },
     "metadata": {},
     "execution_count": 39
    }
   ],
   "metadata": {}
  },
  {
   "cell_type": "code",
   "execution_count": null,
   "source": [],
   "outputs": [],
   "metadata": {}
  }
 ],
 "metadata": {
  "orig_nbformat": 4,
  "language_info": {
   "name": "python",
   "version": "3.9.7",
   "mimetype": "text/x-python",
   "codemirror_mode": {
    "name": "ipython",
    "version": 3
   },
   "pygments_lexer": "ipython3",
   "nbconvert_exporter": "python",
   "file_extension": ".py"
  },
  "kernelspec": {
   "name": "python3",
   "display_name": "Python 3.9.7 64-bit"
  },
  "interpreter": {
   "hash": "e7370f93d1d0cde622a1f8e1c04877d8463912d04d973331ad4851f04de6915a"
  }
 },
 "nbformat": 4,
 "nbformat_minor": 2
}