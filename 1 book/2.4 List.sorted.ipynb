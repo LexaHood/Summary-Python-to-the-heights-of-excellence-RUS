{
 "cells": [
  {
   "cell_type": "code",
   "execution_count": 11,
   "source": [
    "text = [\n",
    "'Freelander',\n",
    "'Grand Am',\n",
    "'Sentra',\n",
    "'BBbbbb',\n",
    "'Spirit',\n",
    "'350Z',\n",
    "'Caprice',\n",
    "'Sephia',\n",
    "'Acord',\n",
    "'CLS-Class',\n",
    "'Firebird',\n",
    "'Voyager']"
   ],
   "outputs": [],
   "metadata": {}
  },
  {
   "cell_type": "code",
   "execution_count": 12,
   "source": [
    "sorted(text)"
   ],
   "outputs": [
    {
     "output_type": "execute_result",
     "data": {
      "text/plain": [
       "['350Z',\n",
       " 'Acord',\n",
       " 'BBbbbb',\n",
       " 'CLS-Class',\n",
       " 'Caprice',\n",
       " 'Firebird',\n",
       " 'Freelander',\n",
       " 'Grand Am',\n",
       " 'Sentra',\n",
       " 'Sephia',\n",
       " 'Spirit',\n",
       " 'Voyager']"
      ]
     },
     "metadata": {},
     "execution_count": 12
    }
   ],
   "metadata": {}
  },
  {
   "cell_type": "code",
   "execution_count": 13,
   "source": [
    "text"
   ],
   "outputs": [
    {
     "output_type": "execute_result",
     "data": {
      "text/plain": [
       "['Freelander',\n",
       " 'Grand Am',\n",
       " 'Sentra',\n",
       " 'BBbbbb',\n",
       " 'Spirit',\n",
       " '350Z',\n",
       " 'Caprice',\n",
       " 'Sephia',\n",
       " 'Acord',\n",
       " 'CLS-Class',\n",
       " 'Firebird',\n",
       " 'Voyager']"
      ]
     },
     "metadata": {},
     "execution_count": 13
    }
   ],
   "metadata": {}
  },
  {
   "cell_type": "code",
   "execution_count": 14,
   "source": [
    "sorted(text, reverse=True)"
   ],
   "outputs": [
    {
     "output_type": "execute_result",
     "data": {
      "text/plain": [
       "['Voyager',\n",
       " 'Spirit',\n",
       " 'Sephia',\n",
       " 'Sentra',\n",
       " 'Grand Am',\n",
       " 'Freelander',\n",
       " 'Firebird',\n",
       " 'Caprice',\n",
       " 'CLS-Class',\n",
       " 'BBbbbb',\n",
       " 'Acord',\n",
       " '350Z']"
      ]
     },
     "metadata": {},
     "execution_count": 14
    }
   ],
   "metadata": {}
  },
  {
   "cell_type": "code",
   "execution_count": 15,
   "source": [
    "sorted(text, key=len)"
   ],
   "outputs": [
    {
     "output_type": "execute_result",
     "data": {
      "text/plain": [
       "['350Z',\n",
       " 'Acord',\n",
       " 'Sentra',\n",
       " 'BBbbbb',\n",
       " 'Spirit',\n",
       " 'Sephia',\n",
       " 'Caprice',\n",
       " 'Voyager',\n",
       " 'Grand Am',\n",
       " 'Firebird',\n",
       " 'CLS-Class',\n",
       " 'Freelander']"
      ]
     },
     "metadata": {},
     "execution_count": 15
    }
   ],
   "metadata": {}
  },
  {
   "cell_type": "code",
   "execution_count": 16,
   "source": [
    "sorted(text, key=len, reverse=True)"
   ],
   "outputs": [
    {
     "output_type": "execute_result",
     "data": {
      "text/plain": [
       "['Freelander',\n",
       " 'CLS-Class',\n",
       " 'Grand Am',\n",
       " 'Firebird',\n",
       " 'Caprice',\n",
       " 'Voyager',\n",
       " 'Sentra',\n",
       " 'BBbbbb',\n",
       " 'Spirit',\n",
       " 'Sephia',\n",
       " 'Acord',\n",
       " '350Z']"
      ]
     },
     "metadata": {},
     "execution_count": 16
    }
   ],
   "metadata": {}
  },
  {
   "cell_type": "code",
   "execution_count": null,
   "source": [],
   "outputs": [],
   "metadata": {}
  }
 ],
 "metadata": {
  "orig_nbformat": 4,
  "language_info": {
   "name": "python",
   "version": "3.9.7",
   "mimetype": "text/x-python",
   "codemirror_mode": {
    "name": "ipython",
    "version": 3
   },
   "pygments_lexer": "ipython3",
   "nbconvert_exporter": "python",
   "file_extension": ".py"
  },
  "kernelspec": {
   "name": "python3",
   "display_name": "Python 3.9.7 64-bit"
  },
  "interpreter": {
   "hash": "e7370f93d1d0cde622a1f8e1c04877d8463912d04d973331ad4851f04de6915a"
  }
 },
 "nbformat": 4,
 "nbformat_minor": 2
}