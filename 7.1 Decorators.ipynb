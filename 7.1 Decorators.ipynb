{
 "cells": [
  {
   "cell_type": "markdown",
   "source": [
    "# Декораторы"
   ],
   "metadata": {}
  },
  {
   "cell_type": "code",
   "execution_count": 1,
   "source": [
    "def decor(func):\n",
    "    def inner():\n",
    "        print('running inner()')\n",
    "    return inner\n",
    "\n",
    "@decor\n",
    "def target():\n",
    "    print('running target')\n",
    "\n",
    "target()"
   ],
   "outputs": [
    {
     "output_type": "stream",
     "name": "stdout",
     "text": [
      "running inner()\n"
     ]
    }
   ],
   "metadata": {}
  },
  {
   "cell_type": "code",
   "execution_count": 2,
   "source": [
    "target"
   ],
   "outputs": [
    {
     "output_type": "execute_result",
     "data": {
      "text/plain": [
       "<function __main__.decor.<locals>.inner()>"
      ]
     },
     "metadata": {},
     "execution_count": 2
    }
   ],
   "metadata": {}
  },
  {
   "cell_type": "code",
   "execution_count": 3,
   "source": [
    "registry = []  # <1>\n",
    "\n",
    "def register(func):  # <2>\n",
    "    print('running register(%s)' % func)  # <3>\n",
    "    registry.append(func)  # <4>\n",
    "    return func  # <5>\n",
    "\n",
    "@register  # <6>\n",
    "def f1():\n",
    "    print('running f1()')\n",
    "\n",
    "@register\n",
    "def f2():\n",
    "    print('running f2()')\n",
    "\n",
    "def f3():  # <7>\n",
    "    print('running f3()')\n",
    "\n",
    "def main():  # <8>\n",
    "    print('running main()')\n",
    "    print('registry ->', registry)\n",
    "    f1()\n",
    "    f2()\n",
    "    f3()\n",
    "\n",
    "if __name__=='__main__':\n",
    "    main()  # <9>"
   ],
   "outputs": [
    {
     "output_type": "stream",
     "name": "stdout",
     "text": [
      "running register(<function f1 at 0x7f5913f32b00>)\n",
      "running register(<function f2 at 0x7f5913f335b0>)\n",
      "running main()\n",
      "registry -> [<function f1 at 0x7f5913f32b00>, <function f2 at 0x7f5913f335b0>]\n",
      "running f1()\n",
      "running f2()\n",
      "running f3()\n"
     ]
    }
   ],
   "metadata": {}
  },
  {
   "cell_type": "markdown",
   "source": [
    "## Если registration.py импортируется и не запускается, то вывод будет выглядеть так:\n",
    "* running register(<function f1 at 0x7f9a54753a30>) \n",
    "* running register(<function f2 at 0x7f9a54753be0>)"
   ],
   "metadata": {}
  },
  {
   "cell_type": "code",
   "execution_count": 4,
   "source": [
    "registry"
   ],
   "outputs": [
    {
     "output_type": "execute_result",
     "data": {
      "text/plain": [
       "[<function __main__.f1()>, <function __main__.f2()>]"
      ]
     },
     "metadata": {},
     "execution_count": 4
    }
   ],
   "metadata": {}
  },
  {
   "cell_type": "code",
   "execution_count": 5,
   "source": [
    "registry[1]"
   ],
   "outputs": [
    {
     "output_type": "execute_result",
     "data": {
      "text/plain": [
       "<function __main__.f2()>"
      ]
     },
     "metadata": {},
     "execution_count": 5
    }
   ],
   "metadata": {}
  },
  {
   "cell_type": "code",
   "execution_count": 6,
   "source": [
    "registry[0]()"
   ],
   "outputs": [
    {
     "output_type": "stream",
     "name": "stdout",
     "text": [
      "running f1()\n"
     ]
    }
   ],
   "metadata": {}
  },
  {
   "cell_type": "markdown",
   "source": [
    "# Реализация простого декоратора"
   ],
   "metadata": {}
  },
  {
   "cell_type": "code",
   "execution_count": 7,
   "source": [
    "import time\n",
    "\n",
    "def clock(func):\n",
    "    def clocked(*args): # 1\n",
    "        t0 = time.perf_counter()\n",
    "        result = func(*args) # 2\n",
    "        elapsed = time.perf_counter() - t0\n",
    "        name = func.__name__\n",
    "        arg_str = ', '.join(repr(arg) for arg in args)\n",
    "        print('[%0.8fs] %s(%s) -> %r' % (elapsed, name, arg_str, result))\n",
    "        return result\n",
    "    return clocked # 3"
   ],
   "outputs": [],
   "metadata": {}
  },
  {
   "cell_type": "markdown",
   "source": [
    "* 1 Определяем внутреннюю фун-ию ```clocked```, принимающую произвольное число позиционных аргументов.\n",
    "* 2 Эта функция работает только потому, что замыкание ```clocked``` включает свободную переменную func.\n",
    "* 3 Возвращает внутрненюю фун-ию взамен декорирующей. "
   ],
   "metadata": {}
  },
  {
   "cell_type": "code",
   "execution_count": 8,
   "source": [
    "@clock\n",
    "def snooze(seconds):\n",
    "    time.sleep(seconds)\n",
    "\n",
    "@clock\n",
    "def factorial(n):\n",
    "    return 1 if n < 2 else n*factorial(n-1)\n",
    "\n",
    "if __name__ == '__main__':\n",
    "    print('*' * 40, 'Calling snooze(.123)')\n",
    "    snooze(.123)\n",
    "    print('*' * 40, 'Calling factorial(6)')\n",
    "    print('6! =', factorial(6))"
   ],
   "outputs": [
    {
     "output_type": "stream",
     "name": "stdout",
     "text": [
      "**************************************** Calling snooze(.123)\n",
      "[0.12313016s] snooze(0.123) -> None\n",
      "**************************************** Calling factorial(6)\n",
      "[0.00000038s] factorial(1) -> 1\n",
      "[0.00001640s] factorial(2) -> 2\n",
      "[0.00002985s] factorial(3) -> 6\n",
      "[0.00004283s] factorial(4) -> 24\n",
      "[0.00005589s] factorial(5) -> 120\n",
      "[0.00006938s] factorial(6) -> 720\n",
      "6! = 720\n"
     ]
    }
   ],
   "metadata": {}
  },
  {
   "cell_type": "markdown",
   "source": [
    "Код выше эквивалентен:\n",
    "\n",
    "```python\n",
    "@clock\n",
    "def factorial(n):\n",
    "    return 1 if n < 2 else n*factorial(n-1)\n",
    "```\n",
    "тоже самое что и\n",
    "\n",
    "```python\n",
    "def factorial(n):\n",
    "    return 1 if n < 2 else n*factorial(n-1)\n",
    "    factorial = clock(factorial)\n",
    "```\n",
    "\n",
    "То есть в обоих случиях декоратор ```@clock``` получает фун-ию ```factorial``` в качестве аргумента func. Затем он создает и возвращает функцию ```clocked()```, которую интерпритатор Python за кулисами связывает с именем factorial.\n",
    "На самом деле, если вывести атрибут ```__name__```"
   ],
   "metadata": {}
  },
  {
   "cell_type": "markdown",
   "source": [
    "## Улучшенный декоратор clock\n",
    "Декоратор выше имеет ряд недостатоков: он не поддерживает именованные аргументы и маскирует атрибуты name и doc декорированной фун-ей"
   ],
   "metadata": {}
  },
  {
   "cell_type": "code",
   "execution_count": 9,
   "source": [
    "import time\n",
    "import functools\n",
    "\n",
    "def clock(func):\n",
    "    @functools.wraps(func)\n",
    "    def clocked(*args, **kwargs):\n",
    "        t0 = time.time()\n",
    "        result = func(*args, **kwargs)\n",
    "        elapsed = time.time() - t0\n",
    "        name = func.__name__\n",
    "        arg_lst = []\n",
    "        if args:\n",
    "            arg_lst.append(', '.join(repr(arg) for arg in args))\n",
    "        if kwargs:\n",
    "            pairs = ['%s=%r' % (k, w) for k, w in sorted(kwargs.items())]\n",
    "            arg_lst.append(', '.join(pairs))\n",
    "        arg_str = ', '.join(arg_lst)\n",
    "        print('[%0.8fs] %s(%s) -> %r' % (elapsed, name, arg_str, result))\n",
    "        return result\n",
    "    return clocked # 3"
   ],
   "outputs": [],
   "metadata": {}
  },
  {
   "cell_type": "code",
   "execution_count": 10,
   "source": [
    "@clock\n",
    "def fibonachi(n):\n",
    "    if n < 2:\n",
    "        return n\n",
    "    return fibonachi(n-2) + fibonachi(n-1)\n",
    "\n",
    "if __name__ == '__main__':\n",
    "    print(fibonachi(6))"
   ],
   "outputs": [
    {
     "output_type": "stream",
     "name": "stdout",
     "text": [
      "[0.00000024s] fibonachi(0) -> 0\n",
      "[0.00000048s] fibonachi(1) -> 1\n",
      "[0.00010180s] fibonachi(2) -> 1\n",
      "[0.00000024s] fibonachi(1) -> 1\n",
      "[0.00000024s] fibonachi(0) -> 0\n",
      "[0.00000024s] fibonachi(1) -> 1\n",
      "[0.00002170s] fibonachi(2) -> 1\n",
      "[0.00004268s] fibonachi(3) -> 2\n",
      "[0.00016642s] fibonachi(4) -> 3\n",
      "[0.00000000s] fibonachi(1) -> 1\n",
      "[0.00000024s] fibonachi(0) -> 0\n",
      "[0.00000024s] fibonachi(1) -> 1\n",
      "[0.00002122s] fibonachi(2) -> 1\n",
      "[0.00004220s] fibonachi(3) -> 2\n",
      "[0.00000024s] fibonachi(0) -> 0\n",
      "[0.00000024s] fibonachi(1) -> 1\n",
      "[0.00002098s] fibonachi(2) -> 1\n",
      "[0.00000024s] fibonachi(1) -> 1\n",
      "[0.00000024s] fibonachi(0) -> 0\n",
      "[0.00000048s] fibonachi(1) -> 1\n",
      "[0.00002432s] fibonachi(2) -> 1\n",
      "[0.00010657s] fibonachi(3) -> 2\n",
      "[0.00014830s] fibonachi(4) -> 3\n",
      "[0.00021148s] fibonachi(5) -> 5\n",
      "[0.00039959s] fibonachi(6) -> 8\n",
      "8\n"
     ]
    }
   ],
   "metadata": {}
  },
  {
   "cell_type": "markdown",
   "source": [
    "Непроизводительные затраты бросаются в глаза: fibonachi(1) -> 7 вызовов, fibonachi(2) -> 5 вызовов и тд. *Что делать?*"
   ],
   "metadata": {}
  },
  {
   "cell_type": "markdown",
   "source": [
    "## Кэширование с помощью functools.lru_cache\n",
    "\n",
    "Этот декоратор очень полезен, когда смысл оптимизации заключается в сохранении предидущих дорогостоющих вызовов фун-ии, что позволяет избежать повторного вычисления с теми же аргументами."
   ],
   "metadata": {}
  },
  {
   "cell_type": "markdown",
   "source": [
    "* 1 ```lru_cache``` следует вызыват ькак обычную фун-ию. Причина в том что декоратор принимает конфигурационные параметры\n",
    "* 2 пример композиции декораторов ```lru_cache()``` применяется фун-ии возвращенной декоратором ```@clock```"
   ],
   "metadata": {}
  },
  {
   "cell_type": "code",
   "execution_count": 12,
   "source": [
    "@functools.lru_cache() # 1\n",
    "@clock # 2\n",
    "def fibonachi_2(n):\n",
    "    if n < 2:\n",
    "        return n\n",
    "    return fibonachi_2(n-2) + fibonachi_2(n-1)\n",
    "\n",
    "if __name__ == '__main__':\n",
    "    print(fibonachi_2(6))"
   ],
   "outputs": [
    {
     "output_type": "stream",
     "name": "stdout",
     "text": [
      "[0.00000024s] fibonachi_2(0) -> 0\n",
      "[0.00000048s] fibonachi_2(1) -> 1\n",
      "[0.00013375s] fibonachi_2(2) -> 1\n",
      "[0.00000048s] fibonachi_2(3) -> 2\n",
      "[0.00016022s] fibonachi_2(4) -> 3\n",
      "[0.00000072s] fibonachi_2(5) -> 5\n",
      "[0.00018573s] fibonachi_2(6) -> 8\n",
      "8\n"
     ]
    }
   ],
   "metadata": {}
  },
  {
   "cell_type": "code",
   "execution_count": 21,
   "source": [
    "fibonachi_2(40)"
   ],
   "outputs": [
    {
     "output_type": "execute_result",
     "data": {
      "text/plain": [
       "102334155"
      ]
     },
     "metadata": {},
     "execution_count": 21
    }
   ],
   "metadata": {}
  },
  {
   "cell_type": "code",
   "execution_count": 19,
   "source": [
    "def fibonachi_non_text(n):\n",
    "    if n < 2:\n",
    "        return n\n",
    "    return fibonachi_non_text(n-2) + fibonachi_non_text(n-1)\n",
    "\n",
    "fibonachi_non_text(40)"
   ],
   "outputs": [
    {
     "output_type": "execute_result",
     "data": {
      "text/plain": [
       "102334155"
      ]
     },
     "metadata": {},
     "execution_count": 19
    }
   ],
   "metadata": {}
  },
  {
   "cell_type": "markdown",
   "source": [
    "Разница во времени выполенения коллосальная 0.1 сек против 30 сек"
   ],
   "metadata": {}
  },
  {
   "cell_type": "markdown",
   "source": [
    "```lru_cache``` можно настроить\n",
    "\n",
    "```python\n",
    "functools.lru_cache(maxsize=128, typed=False)\n",
    "```\n",
    "* maxsize - Сколько результатов хранить\n",
    "* typed - Если True, то результы для разных типов хранятся поразень"
   ],
   "metadata": {}
  },
  {
   "cell_type": "markdown",
   "source": [
    "## Одиночная диспетчирезация и обобщённые функции"
   ],
   "metadata": {}
  },
  {
   "cell_type": "markdown",
   "source": [
    "### Одиночная"
   ],
   "metadata": {}
  },
  {
   "cell_type": "code",
   "execution_count": 22,
   "source": [
    "import html\n",
    "\n",
    "def htmlize(obj):\n",
    "    content = html.escape(repr(obj))\n",
    "    return '<pre>{}</pre>'.format(content)"
   ],
   "outputs": [],
   "metadata": {}
  },
  {
   "cell_type": "code",
   "execution_count": 23,
   "source": [
    "htmlize({1, 2, 3})"
   ],
   "outputs": [
    {
     "output_type": "execute_result",
     "data": {
      "text/plain": [
       "'<pre>{1, 2, 3}</pre>'"
      ]
     },
     "metadata": {},
     "execution_count": 23
    }
   ],
   "metadata": {}
  },
  {
   "cell_type": "code",
   "execution_count": 24,
   "source": [
    "htmlize(abs)"
   ],
   "outputs": [
    {
     "output_type": "execute_result",
     "data": {
      "text/plain": [
       "'<pre>&lt;built-in function abs&gt;</pre>'"
      ]
     },
     "metadata": {},
     "execution_count": 24
    }
   ],
   "metadata": {}
  },
  {
   "cell_type": "code",
   "execution_count": 25,
   "source": [
    "print(htmlize(['alpha', 66, {3, 2, 1}]))"
   ],
   "outputs": [
    {
     "output_type": "stream",
     "name": "stdout",
     "text": [
      "<pre>[&#x27;alpha&#x27;, 66, {1, 2, 3}]</pre>\n"
     ]
    }
   ],
   "metadata": {}
  },
  {
   "cell_type": "markdown",
   "source": [
    "### Обобщенная"
   ],
   "metadata": {}
  },
  {
   "cell_type": "code",
   "execution_count": 26,
   "source": [
    "from functools import singledispatch\n",
    "from collections import abc\n",
    "import numbers\n",
    "import html\n",
    "\n",
    "@singledispatch  # <1>\n",
    "def htmlize(obj):\n",
    "    content = html.escape(repr(obj))\n",
    "    return '<pre>{}</pre>'.format(content)\n",
    "\n",
    "@htmlize.register(str)  # <2>\n",
    "def _(text):            # <3>\n",
    "    content = html.escape(text).replace('\\n', '<br>\\n')\n",
    "    return '<p>{0}</p>'.format(content)\n",
    "\n",
    "@htmlize.register(numbers.Integral)  # <4>\n",
    "def _(n):\n",
    "    return '<pre>{0} (0x{0:x})</pre>'.format(n)\n",
    "\n",
    "@htmlize.register(tuple)  # <5>\n",
    "@htmlize.register(abc.MutableSequence)\n",
    "def _(seq):\n",
    "    inner = '</li>\\n<li>'.join(htmlize(item) for item in seq)\n",
    "    return '<ul>\\n<li>' + inner + '</li>\\n</ul>'"
   ],
   "outputs": [],
   "metadata": {}
  },
  {
   "cell_type": "code",
   "execution_count": 27,
   "source": [
    "htmlize({1, 2, 3})"
   ],
   "outputs": [
    {
     "output_type": "execute_result",
     "data": {
      "text/plain": [
       "'<pre>{1, 2, 3}</pre>'"
      ]
     },
     "metadata": {},
     "execution_count": 27
    }
   ],
   "metadata": {}
  },
  {
   "cell_type": "code",
   "execution_count": 28,
   "source": [
    "htmlize(abs)\n"
   ],
   "outputs": [
    {
     "output_type": "execute_result",
     "data": {
      "text/plain": [
       "'<pre>&lt;built-in function abs&gt;</pre>'"
      ]
     },
     "metadata": {},
     "execution_count": 28
    }
   ],
   "metadata": {}
  },
  {
   "cell_type": "code",
   "execution_count": 31,
   "source": [
    "print(htmlize(['alpha', 66, {3, 2, 1}]))"
   ],
   "outputs": [
    {
     "output_type": "stream",
     "name": "stdout",
     "text": [
      "<ul>\n",
      "<li><p>alpha</p></li>\n",
      "<li><pre>66 (0x42)</pre></li>\n",
      "<li><pre>{1, 2, 3}</pre></li>\n",
      "</ul>\n"
     ]
    }
   ],
   "metadata": {}
  },
  {
   "cell_type": "markdown",
   "source": [
    "* 1 ```@singledispatch``` помечает базовую функцию, которая обрабатывает тип object\n",
    "* 2 Каждая специализированная фун-ия снабжается декоратором ```@base_object```\n",
    "* 3 Имена специализированных фун-ий не существенны, поэтому _ в качестве имени\n",
    "* 4 Для каждого типа, нуждающегося в специальнной обработке, регистрируется новая функция ```numbers.Integral``` - виртуальный класс ```int```\n",
    "* 5 Можно указывать несколько декораторов ```register```, если требуется, чтобы одна функция поддерживала несколько типов   "
   ],
   "metadata": {}
  },
  {
   "cell_type": "markdown",
   "source": [
    "## Композиция декораторов\n",
    "\n",
    "Когда два ```@d1``` и ```@d2``` декоратора применяются к одной фун-ции это тоже самое что и в результате композиции ```f = d1(d1(f))```\n",
    "Иными словами:\n",
    "```\n",
    "@d1\n",
    "@d2\n",
    "def f():\n",
    "    print(f)\n",
    "```\n",
    "Эвивалентен:\n",
    "```\n",
    "def f():\n",
    "    print(f)\n",
    "\n",
    "f = d1(d2(f))\n",
    "```"
   ],
   "metadata": {}
  },
  {
   "cell_type": "markdown",
   "source": [
    "## Параметризированные декораторы\n",
    "\n",
    "Т.к декоратор в качетсве первого аргумента функции-декоратору, берет декорируемую функцию, какже передать другие аргументы?\n",
    "Ответ: написать *фабрику декораторов*, которая бы принимает аргументы и возвращает декоратор, который затем применяется к декорируемой функции"
   ],
   "metadata": {}
  },
  {
   "cell_type": "code",
   "execution_count": 32,
   "source": [
    "registry = [] \n",
    "\n",
    "def register(func): \n",
    "    print('running register(%s)' % func) \n",
    "    registry.append(func) \n",
    "    return func \n",
    "\n",
    "@register \n",
    "def f1():\n",
    "    print('running f1()')"
   ],
   "outputs": [
    {
     "output_type": "stream",
     "name": "stdout",
     "text": [
      "running register(<function f1 at 0x7f5913f330a0>)\n"
     ]
    }
   ],
   "metadata": {}
  },
  {
   "cell_type": "code",
   "execution_count": 33,
   "source": [
    "print('run main()')\n",
    "print('registry ->', registry)\n",
    "f1()"
   ],
   "outputs": [
    {
     "output_type": "stream",
     "name": "stdout",
     "text": [
      "run main()\n",
      "registry -> [<function f1 at 0x7f5913f330a0>]\n",
      "running f1()\n"
     ]
    }
   ],
   "metadata": {}
  },
  {
   "cell_type": "markdown",
   "source": [
    "## Параметризированный регистрационный декоратор"
   ],
   "metadata": {}
  },
  {
   "cell_type": "code",
   "execution_count": 39,
   "source": [
    "registry = set()  # <1>\n",
    "\n",
    "def register(active=True):  # <2>\n",
    "    def decorate(func):  # <3>\n",
    "        print('running register(active=%s)->decorate(%s)'\n",
    "              % (active, func))\n",
    "        if active:   # <4>\n",
    "            registry.add(func)\n",
    "        else:\n",
    "            registry.discard(func)  # <5>\n",
    "\n",
    "        return func  # <6>\n",
    "    return decorate  # <7>\n",
    "\n",
    "@register(active=False)  # <8>\n",
    "def f1():\n",
    "    print('running f1()')\n",
    "\n",
    "@register()  # <9>\n",
    "def f2():\n",
    "    print('running f2()')\n",
    "\n",
    "def f3():\n",
    "    print('running f3()')\n"
   ],
   "outputs": [
    {
     "output_type": "stream",
     "name": "stdout",
     "text": [
      "running register(active=False)->decorate(<function f1 at 0x7f58f98a5510>)\n",
      "running register(active=True)->decorate(<function f2 at 0x7f58f98a5360>)\n"
     ]
    }
   ],
   "metadata": {}
  },
  {
   "cell_type": "markdown",
   "source": [
    "* 1 Теперь ```registry``` имет тип ```set```, чтобы ускорить добавление и удаление функций\n",
    "* 2 Функция ```register``` принимает необязательный именованный аргумент.\n",
    "* 3 Собственно декоратором является собственная функция ```decorate```, она принимает в качетве аргумента функцию\n",
    "* 4 Регистриуем ```func```, только если аргумент ```active``` (определенный в замыкании) равен ```True```\n",
    "* 5 Если ```not active``` и функция ```func``` присутсвует в ```registry```, удаляем ее\n",
    "* 6 Поскольку ```decorate``` - декоратор, он ддолжен возвращать функцию\n",
    "* 7 Функция ```register``` - наша *фабрика декораторов*, поэтому возвращает ```decorate```\n",
    "* 8 Фабрику ```@register``` следует вызвать как функцию, передавая ей нужные параметры\n",
    "* 9 Даже если параметров нет, ```register``` все равно нужно вызвать как функцию - ```@register()``` - чтобы она вернула настоящий декоратор ```decorate```"
   ],
   "metadata": {}
  },
  {
   "cell_type": "code",
   "execution_count": 44,
   "source": [
    "registry # <1>"
   ],
   "outputs": [
    {
     "output_type": "execute_result",
     "data": {
      "text/plain": [
       "{<function __main__.f2()>}"
      ]
     },
     "metadata": {},
     "execution_count": 44
    }
   ],
   "metadata": {}
  },
  {
   "cell_type": "code",
   "execution_count": 45,
   "source": [
    "register()(f3) # <2>"
   ],
   "outputs": [
    {
     "output_type": "stream",
     "name": "stdout",
     "text": [
      "running register(active=True)->decorate(<function f3 at 0x7f5913f31000>)\n"
     ]
    },
    {
     "output_type": "execute_result",
     "data": {
      "text/plain": [
       "<function __main__.f3()>"
      ]
     },
     "metadata": {},
     "execution_count": 45
    }
   ],
   "metadata": {}
  },
  {
   "cell_type": "code",
   "execution_count": 46,
   "source": [
    "registry # <3>"
   ],
   "outputs": [
    {
     "output_type": "execute_result",
     "data": {
      "text/plain": [
       "{<function __main__.f2()>, <function __main__.f3()>}"
      ]
     },
     "metadata": {},
     "execution_count": 46
    }
   ],
   "metadata": {}
  },
  {
   "cell_type": "code",
   "execution_count": 47,
   "source": [
    "register(active=False)(f2) # <4>"
   ],
   "outputs": [
    {
     "output_type": "stream",
     "name": "stdout",
     "text": [
      "running register(active=False)->decorate(<function f2 at 0x7f58f98a5360>)\n"
     ]
    },
    {
     "output_type": "execute_result",
     "data": {
      "text/plain": [
       "<function __main__.f2()>"
      ]
     },
     "metadata": {},
     "execution_count": 47
    }
   ],
   "metadata": {}
  },
  {
   "cell_type": "code",
   "execution_count": 48,
   "source": [
    "registry # <5>"
   ],
   "outputs": [
    {
     "output_type": "execute_result",
     "data": {
      "text/plain": [
       "{<function __main__.f3()>}"
      ]
     },
     "metadata": {},
     "execution_count": 48
    }
   ],
   "metadata": {}
  },
  {
   "cell_type": "markdown",
   "source": [
    "* 1 После импортирования модуля ```f2``` оказывается в ```registry``` \n",
    "* 2 Выражение ```register()``` возвращает декоратор ```decorate```, который затем применяется а ```f3```\n",
    "* 3 В предидущей строке ```f3``` была добавлена в ```registery```\n",
    "* 4 Этот вызов удаляет ```f2``` из ```registery```\n",
    "* 5 Убеждаемся, что ```f3``` осталась в ```registery```"
   ],
   "metadata": {}
  },
  {
   "cell_type": "markdown",
   "source": [
    "## Параметризованный декоратор clock"
   ],
   "metadata": {}
  },
  {
   "cell_type": "code",
   "execution_count": 50,
   "source": [
    "import time\n",
    "\n",
    "DEFAULT_FMT = '[{elapsed:0.8f}s] {name}({args}) -> {result}'\n",
    "\n",
    "def clock(fmt=DEFAULT_FMT):  # <1>\n",
    "    def decorate(func):      # <2>\n",
    "        def clocked(*_args): # <3>\n",
    "            t0 = time.time()\n",
    "            _result = func(*_args)  # <4>\n",
    "            elapsed = time.time() - t0\n",
    "            name = func.__name__\n",
    "            args = ', '.join(repr(arg) for arg in _args)  # <5>\n",
    "            result = repr(_result)  # <6>\n",
    "            print(fmt.format(**locals()))  # <7>\n",
    "            return _result  # <8>\n",
    "        return clocked  # <9>\n",
    "    return decorate  # <10>\n",
    "\n",
    "if __name__ == '__main__':\n",
    "\n",
    "    @clock()  # <11>\n",
    "    def snooze(seconds):\n",
    "        time.sleep(seconds)\n",
    "\n",
    "    for i in range(3):\n",
    "        snooze(.123)"
   ],
   "outputs": [
    {
     "output_type": "stream",
     "name": "stdout",
     "text": [
      "[0.12313986s] snooze(0.123) -> None\n",
      "[0.12313557s] snooze(0.123) -> None\n",
      "[0.12313676s] snooze(0.123) -> None\n"
     ]
    }
   ],
   "metadata": {}
  },
  {
   "cell_type": "markdown",
   "source": [
    "* 1 Теперь ```clock``` - наша фабрика параметризованных декораторов\n",
    "* 2 ```decorate``` - это собственно конструктор\n",
    "* 3 ```clocked``` обертывает декорированную функцию\n",
    "* 4 ```_result_``` - результат, возвращенный декорированной функцией\n",
    "* 5 В ```_args``` хранятся фактические аргументы ```clocked```, тогда как ```args``` - отображаемая строка\n",
    "* 6 ```result``` - строковое представление ```_result```, предназначенное для отображения\n",
    "* 7 Использование ```**locals()``` позволяет ссылаться в ```fmt``` на любую локальную переменную ```clocked```\n",
    "* 8 ```clocked``` заменяет декорированную функцию без аргументов, поэтом должна возвращать то, что вернула бы эта функция в отсутсвие декоратора\n",
    "* 9 ```decorate``` возвращает ```clocked```\n",
    "* 10 ```clock``` возвращает ```decorate```\n",
    "* 11 В этом тесте ```clock()``` вызывается без аргументов, поэтому декоратор будет использовать, форматную строку по умолчанию"
   ],
   "metadata": {}
  }
 ],
 "metadata": {
  "orig_nbformat": 4,
  "language_info": {
   "name": "python",
   "version": "3.10.0rc2",
   "mimetype": "text/x-python",
   "codemirror_mode": {
    "name": "ipython",
    "version": 3
   },
   "pygments_lexer": "ipython3",
   "nbconvert_exporter": "python",
   "file_extension": ".py"
  },
  "kernelspec": {
   "name": "python3",
   "display_name": "Python 3.10.0rc2 64-bit ('3.10.0rc2': pyenv)"
  },
  "interpreter": {
   "hash": "d19139f9a9002f9d9575466607891e08c558a7bf0611b686880f47102338ac30"
  }
 },
 "nbformat": 4,
 "nbformat_minor": 2
}