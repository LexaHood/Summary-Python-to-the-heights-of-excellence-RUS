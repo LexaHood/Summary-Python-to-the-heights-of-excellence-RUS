{
 "cells": [
  {
   "cell_type": "markdown",
   "source": [
    "# Глава 10. Рубим, перемешиваем и нарезаем последовательбности"
   ],
   "metadata": {}
  },
  {
   "cell_type": "markdown",
   "source": [
    "При реализации многомерного вектора, мы будетм польщоваться не наследованием, а *композицией*. Компненты веткора будут хранится в массиве ```array``` чисел с плавающей точкой, и мы напишем методы, необходимые для того чтобы ```Vector``` вел себя как неизменяемая плоская последовательность."
   ],
   "metadata": {}
  },
  {
   "cell_type": "markdown",
   "source": [
    "## ```Vector```, попытка №1: совместимость с ```Vector2d```"
   ],
   "metadata": {}
  },
  {
   "cell_type": "code",
   "execution_count": 129,
   "source": [
    "from array import array\n",
    "import reprlib\n",
    "import math\n",
    "\n",
    "\n",
    "class Vector:\n",
    "    typecode = 'd'\n",
    "\n",
    "    def __init__(self, components):\n",
    "        self._components = array(self.typecode, components)  # <1>\n",
    "\n",
    "    def __iter__(self):\n",
    "        return iter(self._components)  # <2>\n",
    "\n",
    "    def __repr__(self):\n",
    "        components = reprlib.repr(self._components)  # <3>\n",
    "        components = components[components.find('['):-1]  # <4>\n",
    "        return 'Vector({})'.format(components)\n",
    "\n",
    "    def __str__(self):\n",
    "        return str(tuple(self))\n",
    "\n",
    "    def __bytes__(self):\n",
    "        return (bytes([ord(self.typecode)]) +\n",
    "                bytes(self._components))  # <5>\n",
    "\n",
    "    def __eq__(self, other):\n",
    "        return tuple(self) == tuple(other)\n",
    "\n",
    "    def __abs__(self):\n",
    "        return math.sqrt(sum(x * x for x in self))  # <6>\n",
    "\n",
    "    def __bool__(self):\n",
    "        return bool(abs(self))\n",
    "\n",
    "    @classmethod\n",
    "    def frombytes(cls, octets):\n",
    "        typecode = chr(octets[0])\n",
    "        memv = memoryview(octets[1:]).cast(typecode)\n",
    "        return cls(memv)  # <7>"
   ],
   "outputs": [],
   "metadata": {}
  },
  {
   "cell_type": "markdown",
   "source": [
    "* 1 В \"защищенном\" атрибуте экземпляра ```self.components``` хранится массив ```array``` компонент ```Vector```\n",
    "* 2 Чтобы было возможно итерированние, возвращаем итератор, построенноый по ```self.components```\n",
    "* 3 Используем ```reprlib.repr()``` для получения представления ```self._copmponents``` ограниченной длинны (например, ```array('d', [0.0, 1.0, 2.0, 3.0, 4.0, ...]```)\n",
    "* 4 Удаляем префикс ```array```(```'d'``` и закрываем скобку), перед тем как подставить строку в вызов конструтора ```Vector```\n",
    "* 5 Строим объект ```bytes``` из ```self._components```\n",
    "* 6 Метод ```hypot``` больше не применим, поэтому вычисляем сумму квадратов компонент и извлекаем из нее квадратный корень\n",
    "* 7 Единственное отличие от написанного ранее метода ```frombytes``` - последняя строка: мы передаем объект ```memoryview``` напрямую конструктору, не распаковывая его с помощью ```*```, как раньше"
   ],
   "metadata": {}
  },
  {
   "cell_type": "code",
   "execution_count": 130,
   "source": [
    "def reprs(_components):\n",
    "        components = reprlib.repr(_components)  # <3>\n",
    "        print(f'reprlib.repr(_components) = {components}')\n",
    "        print(f'components.find(\"[\") = {components.find(\"[\")}')\n",
    "        print(f'components[components.find(\"[\"):-1] = {components[components.find(\"[\"):-1]}')\n",
    "        components = components[components.find('['):-1]  # <4>\n",
    "        return 'Vector({})'.format(components)\n",
    "\n",
    "_components = array('d', [1.0, 2.0, 3.0, 4.0, 5.0, 6.0, 7.0])\n",
    "reprs(_components)"
   ],
   "outputs": [
    {
     "output_type": "stream",
     "name": "stdout",
     "text": [
      "reprlib.repr(_components) = array('d', [1.0, 2.0, 3.0, 4.0, 5.0, ...])\n",
      "components.find(\"[\") = 11\n",
      "components[components.find(\"[\"):-1] = [1.0, 2.0, 3.0, 4.0, 5.0, ...]\n"
     ]
    },
    {
     "output_type": "execute_result",
     "data": {
      "text/plain": [
       "'Vector([1.0, 2.0, 3.0, 4.0, 5.0, ...])'"
      ]
     },
     "metadata": {},
     "execution_count": 130
    }
   ],
   "metadata": {}
  },
  {
   "cell_type": "markdown",
   "source": [
    "Модуль ```reprlib``` обеспечивает средство для производства представлений объекта с ограничениями на размер получающегося строки. Он используется в отладчике Python и может быть полезно и в других контекстах.\n",
    "\n",
    "Модуль предоставляет класс, сущность и функцию:\n",
    "\n",
    "* ```class reprlib.Repr```\n",
    "Класс, который предоставляет услуги форматирования, полезные в осуществлении функций, подобных встроенному repr(); добавляются ограничения по размеру для различных типов объектов, чтобы избежать создания чрезмерно длинных представлений.\n",
    "\n",
    "* ```reprlib.aRepr```\n",
    "Это - сущность Repr, который является используемый, чтобы обеспечить функцию repr(), описанную ниже. Изменение атрибуты этого объекта затронет пределы размера используемый repr() и отладчиком Python.\n",
    "\n",
    "* ```reprlib.repr(obj)```\n",
    "Это метод ```repr() aRepr```. Это возвращает подобное строка этому возвращенный встроенной функцией того же имени, но с ограничениями на большинство размеров.\n",
    "\n",
    "В дополнение к средствам ограничения размера модуль также предоставляет декоратор для обнаружения рекурсивных вызовов ```__repr__()``` и замены местозаполнителя строка вместо него."
   ],
   "metadata": {}
  },
  {
   "cell_type": "markdown",
   "source": [
    "## Протоколы и динамическая типизация"
   ],
   "metadata": {}
  },
  {
   "cell_type": "markdown",
   "source": [
    "Еще в главе 1 мы видели, что для создания полнофункционального типа последовательности в Python необязательно наследовать какому-то специальному классу;\n",
    "нужно лишь реализовать методы, удовлетворяющие протоколу последовательности. Но что это за протокол такой?\n",
    "В объектно-ориентированном программировании протоколом называется\n",
    "неформальный интерфейс, определенный только в документации, но не в коде.\n",
    "Например, протокол последовательности в Python подразумевает только наличие методов ```__len__``` и ```__getitem__```. Любой класс Spam, в котором есть такие\n",
    "методы со стандартной сигнатурой и семантикой, можно использовать всюду,\n",
    "где ожидается последовательность. Является Spam подклассом какого-то другого класса или нет, роли не играет."
   ],
   "metadata": {}
  },
  {
   "cell_type": "code",
   "execution_count": 131,
   "source": [
    "import collections\n",
    "\n",
    "Card = collections.namedtuple('Card', ['rank', 'suit'])\n",
    "\n",
    "class FrenchDeck:\n",
    "    ranks = [str(n) for n in range(2, 11)] + list('JQKA')\n",
    "    suits = 'spades diamonds clubs hearts'.split()\n",
    "\n",
    "    def __init__(self):\n",
    "        self._cards = [Card(rank, suit) for suit in self.suits\n",
    "                                        for rank in self.ranks]\n",
    "\n",
    "    def __len__(self):\n",
    "        return len(self._cards)\n",
    "\n",
    "    def __getitem__(self, position):\n",
    "        return self._cards[position] \n",
    "\n",
    "beer_card = Card (7, 'diamonds')\n",
    "print(beer_card)\n",
    "deck = FrenchDeck()\n",
    "print(deck.suits)\n",
    "print(deck[11::13])"
   ],
   "outputs": [
    {
     "output_type": "stream",
     "name": "stdout",
     "text": [
      "Card(rank=7, suit='diamonds')\n",
      "['spades', 'diamonds', 'clubs', 'hearts']\n",
      "[Card(rank='K', suit='spades'), Card(rank='K', suit='diamonds'), Card(rank='K', suit='clubs'), Card(rank='K', suit='hearts')]\n"
     ]
    }
   ],
   "metadata": {}
  },
  {
   "cell_type": "markdown",
   "source": [
    "Любому опытному программисту на Python достаточно\n",
    "одного взгляда на код, что понять, что это именно класс последовательности, несмотря на то, что он является подклассом ```object```. Мы говорим, что он является\n",
    "последовательностью, потому что ведет себя, как последовательность, а только\n",
    "это и важно.\n",
    "Такой подход получил название **«динамическая типизация»**"
   ],
   "metadata": {}
  },
  {
   "cell_type": "markdown",
   "source": [
    "## ```Vector```, попытка № 2: последовательность, допускающая срезку"
   ],
   "metadata": {}
  },
  {
   "cell_type": "markdown",
   "source": [
    "B нашем случае таким атрибутом будет массив\n",
    "self._components. Для начала нас вполне устроят такие однострочные методы```__len__``` и ```__getitem__```:\n",
    "```\n",
    "class Vector:\n",
    "    # много строк опущено\n",
    "    # ...\n",
    "    def __len__(self):\n",
    "        return len(self._components)\n",
    "    def __getitem__(self, index):\n",
    "        return self._components[index]\n",
    " ```"
   ],
   "metadata": {}
  },
  {
   "cell_type": "code",
   "execution_count": 132,
   "source": [
    "class Vector:\n",
    "    typecode = 'd'\n",
    "\n",
    "    def __init__(self, components):\n",
    "        self._components = array(self.typecode, components)\n",
    "\n",
    "    def __iter__(self):\n",
    "        return iter(self._components)\n",
    "\n",
    "    def __repr__(self):\n",
    "        components = reprlib.repr(self._components)\n",
    "        components = components[components.find('['):-1]\n",
    "        return 'Vector({})'.format(components)\n",
    "\n",
    "    def __str__(self):\n",
    "        return str(tuple(self))\n",
    "\n",
    "    def __bytes__(self):\n",
    "        return (bytes([ord(self.typecode)]) +\n",
    "                bytes(self._components))\n",
    "\n",
    "    def __eq__(self, other):\n",
    "        return tuple(self) == tuple(other)\n",
    "\n",
    "    def __abs__(self):\n",
    "        return math.sqrt(sum(x * x for x in self))\n",
    "\n",
    "    def __bool__(self):\n",
    "        return bool(abs(self))\n",
    "\n",
    "# BEGIN VECTOR_V2\n",
    "    def __len__(self):\n",
    "        return len(self._components)\n",
    "\n",
    "    def __getitem__(self, index):\n",
    "        return self._components[index]\n",
    "# END VECTOR_V2\n",
    "\n",
    "    @classmethod\n",
    "    def frombytes(cls, octets):\n",
    "        typecode = chr(octets[0])\n",
    "        memv = memoryview(octets[1:]).cast(typecode)\n",
    "        return cls(memv)"
   ],
   "outputs": [],
   "metadata": {}
  },
  {
   "cell_type": "code",
   "execution_count": 133,
   "source": [
    "v1 = Vector([3, 4, 5])\n",
    "len(v1)"
   ],
   "outputs": [
    {
     "output_type": "execute_result",
     "data": {
      "text/plain": [
       "3"
      ]
     },
     "metadata": {},
     "execution_count": 133
    }
   ],
   "metadata": {}
  },
  {
   "cell_type": "code",
   "execution_count": 134,
   "source": [
    "v1[0], v1[-1]"
   ],
   "outputs": [
    {
     "output_type": "execute_result",
     "data": {
      "text/plain": [
       "(3.0, 5.0)"
      ]
     },
     "metadata": {},
     "execution_count": 134
    }
   ],
   "metadata": {}
  },
  {
   "cell_type": "code",
   "execution_count": 135,
   "source": [
    "v7 = Vector(range(7))\n",
    "v7"
   ],
   "outputs": [
    {
     "output_type": "execute_result",
     "data": {
      "text/plain": [
       "Vector([0.0, 1.0, 2.0, 3.0, 4.0, ...])"
      ]
     },
     "metadata": {},
     "execution_count": 135
    }
   ],
   "metadata": {}
  },
  {
   "cell_type": "code",
   "execution_count": 136,
   "source": [
    "v7[0::2]"
   ],
   "outputs": [
    {
     "output_type": "execute_result",
     "data": {
      "text/plain": [
       "array('d', [0.0, 2.0, 4.0, 6.0])"
      ]
     },
     "metadata": {},
     "execution_count": 136
    }
   ],
   "metadata": {}
  },
  {
   "cell_type": "code",
   "execution_count": 137,
   "source": [
    "v7[-1]"
   ],
   "outputs": [
    {
     "output_type": "execute_result",
     "data": {
      "text/plain": [
       "6.0"
      ]
     },
     "metadata": {},
     "execution_count": 137
    }
   ],
   "metadata": {}
  },
  {
   "cell_type": "code",
   "execution_count": 138,
   "source": [
    "v7[1:4]"
   ],
   "outputs": [
    {
     "output_type": "execute_result",
     "data": {
      "text/plain": [
       "array('d', [1.0, 2.0, 3.0])"
      ]
     },
     "metadata": {},
     "execution_count": 138
    }
   ],
   "metadata": {}
  },
  {
   "cell_type": "code",
   "execution_count": 139,
   "source": [
    "v7[-1:]"
   ],
   "outputs": [
    {
     "output_type": "execute_result",
     "data": {
      "text/plain": [
       "array('d', [6.0])"
      ]
     },
     "metadata": {},
     "execution_count": 139
    }
   ],
   "metadata": {}
  },
  {
   "cell_type": "code",
   "execution_count": 140,
   "source": [
    "try:\n",
    "    v7[1,2]\n",
    "except Exception as err:\n",
    "    print(err)\n",
    "# TypeError"
   ],
   "outputs": [
    {
     "output_type": "stream",
     "name": "stdout",
     "text": [
      "array indices must be integers\n"
     ]
    }
   ],
   "metadata": {}
  },
  {
   "cell_type": "markdown",
   "source": [
    "Как видите, даже срезы поддерживаются – но не очень хорошо. Было бы лучше,\n",
    "если бы срез вектора также был экземпляром класса ```Vector```, а не массивом. В старом классе ```FrenchDeck``` была такая же проблема: срез оказывался объектом класса\n",
    "```list```. Но в случае ```Vector``` мы утрачиваем значительную часть функциональности,\n",
    "если операция среза возвращает простой массив."
   ],
   "metadata": {}
  },
  {
   "cell_type": "markdown",
   "source": [
    "## Как работает срезка"
   ],
   "metadata": {}
  },
  {
   "cell_type": "code",
   "execution_count": 141,
   "source": [
    "class MySeq:\n",
    "    def __getitem__(self, index):\n",
    "        return index # 1\n",
    "\n",
    "s = MySeq()\n",
    "s[1] # 2"
   ],
   "outputs": [
    {
     "output_type": "execute_result",
     "data": {
      "text/plain": [
       "1"
      ]
     },
     "metadata": {},
     "execution_count": 141
    }
   ],
   "metadata": {}
  },
  {
   "cell_type": "code",
   "execution_count": 142,
   "source": [
    "s[1:4] # 3"
   ],
   "outputs": [
    {
     "output_type": "execute_result",
     "data": {
      "text/plain": [
       "slice(1, 4, None)"
      ]
     },
     "metadata": {},
     "execution_count": 142
    }
   ],
   "metadata": {}
  },
  {
   "cell_type": "code",
   "execution_count": 143,
   "source": [
    "s[1:4:2] # 4"
   ],
   "outputs": [
    {
     "output_type": "execute_result",
     "data": {
      "text/plain": [
       "slice(1, 4, 2)"
      ]
     },
     "metadata": {},
     "execution_count": 143
    }
   ],
   "metadata": {}
  },
  {
   "cell_type": "code",
   "execution_count": 144,
   "source": [
    "s[1:4:2, 9] # 5"
   ],
   "outputs": [
    {
     "output_type": "execute_result",
     "data": {
      "text/plain": [
       "(slice(1, 4, 2), 9)"
      ]
     },
     "metadata": {},
     "execution_count": 144
    }
   ],
   "metadata": {}
  },
  {
   "cell_type": "code",
   "execution_count": 145,
   "source": [
    "s[1:4:2, 7:9] # 6"
   ],
   "outputs": [
    {
     "output_type": "execute_result",
     "data": {
      "text/plain": [
       "(slice(1, 4, 2), slice(7, 9, None))"
      ]
     },
     "metadata": {},
     "execution_count": 145
    }
   ],
   "metadata": {}
  },
  {
   "cell_type": "markdown",
   "source": [
    "* 1 Здесь ```__getitem__``` просто возвращает то, что ему передали\n",
    "* 2 Один индекс, ничего нового\n",
    "* 3 Нотация ```1:4``` преобразуется в ```slice(1, 4, None)```\n",
    "* 4 ```slice(1, 4, 2)``` означает: начать с 1, закончить на 4, шаг 2\n",
    "* 5 Сорприз: при наличии запятых внутри ```[]``` метод ```__getitem__``` получает кортеж\n",
    "* 6 Этот кортеж может даже содержать несколько объектов среза"
   ],
   "metadata": {}
  },
  {
   "cell_type": "code",
   "execution_count": 146,
   "source": [
    "slice # 1"
   ],
   "outputs": [
    {
     "output_type": "execute_result",
     "data": {
      "text/plain": [
       "slice"
      ]
     },
     "metadata": {},
     "execution_count": 146
    }
   ],
   "metadata": {}
  },
  {
   "cell_type": "code",
   "execution_count": 147,
   "source": [
    "dir(slice) # 2"
   ],
   "outputs": [
    {
     "output_type": "execute_result",
     "data": {
      "text/plain": [
       "['__class__',\n",
       " '__delattr__',\n",
       " '__dir__',\n",
       " '__doc__',\n",
       " '__eq__',\n",
       " '__format__',\n",
       " '__ge__',\n",
       " '__getattribute__',\n",
       " '__gt__',\n",
       " '__hash__',\n",
       " '__init__',\n",
       " '__init_subclass__',\n",
       " '__le__',\n",
       " '__lt__',\n",
       " '__ne__',\n",
       " '__new__',\n",
       " '__reduce__',\n",
       " '__reduce_ex__',\n",
       " '__repr__',\n",
       " '__setattr__',\n",
       " '__sizeof__',\n",
       " '__str__',\n",
       " '__subclasshook__',\n",
       " 'indices',\n",
       " 'start',\n",
       " 'step',\n",
       " 'stop']"
      ]
     },
     "metadata": {},
     "execution_count": 147
    }
   ],
   "metadata": {}
  },
  {
   "cell_type": "markdown",
   "source": [
    "* 1 ```slice``` - встроенный тип (мы это уже поняли в разделе \"Объекты среза\" главы 2)\n",
    "* 2 Инспекция ```slice``` показывает наличие атрибутов ```start, stop, step```, и методода ```indeces```"
   ],
   "metadata": {}
  },
  {
   "cell_type": "code",
   "execution_count": 148,
   "source": [
    "help(slice.indices)"
   ],
   "outputs": [
    {
     "output_type": "stream",
     "name": "stdout",
     "text": [
      "Help on method_descriptor:\n",
      "\n",
      "indices(...)\n",
      "    S.indices(len) -> (start, stop, stride)\n",
      "    \n",
      "    Assuming a sequence of length len, calculate the start and stop\n",
      "    indices, and the stride length of the extended slice described by\n",
      "    S. Out of bounds indices are clipped in a manner consistent with the\n",
      "    handling of normal slices.\n",
      "\n"
     ]
    }
   ],
   "metadata": {}
  },
  {
   "cell_type": "markdown",
   "source": [
    "```\n",
    "help(slice.indices):\n",
    "S.indices(len) -> (start, stop, stride)\n",
    "```\n",
    "\n",
    "В предположении, что длина последовательности равна len, вычисляет индексы start и stop, а также длину stride расширенного\n",
    "среза, представленного объектом S. Индексы, выходящие за границы, приводятся к границам так же, как при обработке обычных\n",
    "срезов."
   ],
   "metadata": {}
  },
  {
   "cell_type": "markdown",
   "source": [
    "Иначе говоря, метод ```indices``` раскрывает нетривиальную логику, применяемую\n",
    "во встроенных последовательностях для корректной обработки отсутствующих\n",
    "или отрицательных индексов и срезов, длина которых превышает длину конечной\n",
    "последовательности. Этот метод возвращается «нормализованные» кортежи, содержащие неотрицательные целые числа ```start, stop, stride```, скорректированные\n",
    "так, чтобы не выходить за границы последовательности заданной длины."
   ],
   "metadata": {}
  },
  {
   "cell_type": "code",
   "execution_count": 149,
   "source": [
    "help(MySeq)\n"
   ],
   "outputs": [
    {
     "output_type": "stream",
     "name": "stdout",
     "text": [
      "Help on class MySeq in module __main__:\n",
      "\n",
      "class MySeq(builtins.object)\n",
      " |  Methods defined here:\n",
      " |  \n",
      " |  __getitem__(self, index)\n",
      " |  \n",
      " |  ----------------------------------------------------------------------\n",
      " |  Data descriptors defined here:\n",
      " |  \n",
      " |  __dict__\n",
      " |      dictionary for instance variables (if defined)\n",
      " |  \n",
      " |  __weakref__\n",
      " |      list of weak references to the object (if defined)\n",
      "\n"
     ]
    }
   ],
   "metadata": {}
  },
  {
   "cell_type": "code",
   "execution_count": 150,
   "source": [
    "abc = 'ABCDE'\n",
    "len(abc)"
   ],
   "outputs": [
    {
     "output_type": "execute_result",
     "data": {
      "text/plain": [
       "5"
      ]
     },
     "metadata": {},
     "execution_count": 150
    }
   ],
   "metadata": {}
  },
  {
   "cell_type": "code",
   "execution_count": 151,
   "source": [
    "slice(None, 10, 2).indices(len(abc)) # 1 "
   ],
   "outputs": [
    {
     "output_type": "execute_result",
     "data": {
      "text/plain": [
       "(0, 5, 2)"
      ]
     },
     "metadata": {},
     "execution_count": 151
    }
   ],
   "metadata": {}
  },
  {
   "cell_type": "code",
   "execution_count": 152,
   "source": [
    "slice(-3, None, None).indices(len(abc)) # 2"
   ],
   "outputs": [
    {
     "output_type": "execute_result",
     "data": {
      "text/plain": [
       "(2, 5, 1)"
      ]
     },
     "metadata": {},
     "execution_count": 152
    }
   ],
   "metadata": {}
  },
  {
   "cell_type": "markdown",
   "source": [
    "* 1 ```ABCDE[:10:2]``` - то же самое, что ```ABCDE[0:5:2]```\n",
    "* 2 ```ABCDE[-3]``` - то же самое, что ```ABCDE[2:5:1]```"
   ],
   "metadata": {}
  },
  {
   "cell_type": "markdown",
   "source": [
    "## Метод ```__getitem__``` с учетом срезов"
   ],
   "metadata": {}
  },
  {
   "cell_type": "code",
   "execution_count": 153,
   "source": [
    "from array import array\n",
    "import reprlib\n",
    "import math\n",
    "import numbers\n",
    "\n",
    "class Vector:\n",
    "    typecode = 'd'\n",
    "\n",
    "    def __init__(self, components):\n",
    "        self._components = array(self.typecode, components)\n",
    "\n",
    "    def __iter__(self):\n",
    "        return iter(self._components)\n",
    "\n",
    "    def __repr__(self):\n",
    "        components = reprlib.repr(self._components)\n",
    "        components = components[components.find('['):-1]\n",
    "        return 'Vector({})'.format(components)\n",
    "\n",
    "    def __str__(self):\n",
    "        return str(tuple(self))\n",
    "\n",
    "    def __bytes__(self):\n",
    "        return (bytes([ord(self.typecode)]) +\n",
    "                bytes(self._components))\n",
    "\n",
    "    def __eq__(self, other):\n",
    "        return tuple(self) == tuple(other)\n",
    "\n",
    "    def __abs__(self):\n",
    "        return math.sqrt(sum(x * x for x in self))\n",
    "\n",
    "    def __bool__(self):\n",
    "        return bool(abs(self))\n",
    "\n",
    "# BEGIN VECTOR_V2\n",
    "    def __len__(self):\n",
    "        return len(self._components)\n",
    "\n",
    "    def __getitem__(self, index):\n",
    "        cls = type(self)  # <1>\n",
    "        if isinstance(index, slice):  # <2>\n",
    "            return cls(self._components[index])  # <3>\n",
    "        elif isinstance(index, numbers.Integral):  # <4>\n",
    "            return self._components[index]  # <5>\n",
    "        else:\n",
    "            msg = '{cls.__name__} indices must be integers'\n",
    "            raise TypeError(msg.format(cls=cls))  # <6>\n",
    "# END VECTOR_V2\n",
    "\n",
    "    @classmethod\n",
    "    def frombytes(cls, octets):\n",
    "        typecode = chr(octets[0])\n",
    "        memv = memoryview(octets[1:]).cast(typecode)\n",
    "        return cls(memv)"
   ],
   "outputs": [],
   "metadata": {}
  },
  {
   "cell_type": "markdown",
   "source": [
    "* 1 Получаем класс экземпляра ```Vector```, он понадобится позже\n",
    "* 2 Если аргумент ```index``` принадлежи типу ```slice```\n",
    "* 3 ...то вызываем  класс для построения нового экземпляра ```Vector``` по срезу массива ```_components```...\n",
    "* 4 Если ```index``` принадлежит типу ```int``` или другому целочисленому типу...\n",
    "* 5 ...то просто возвращаем один конкретный элемент из ```_compomemts```\n",
    "* 6 Иначе возбуждаем исключение "
   ],
   "metadata": {}
  },
  {
   "cell_type": "markdown",
   "source": [
    "```raise``` Возбуждает указанное исключение. Инструкция позволяет прервать штатный поток исполнения при помощи возбуждения исключения."
   ],
   "metadata": {}
  },
  {
   "cell_type": "code",
   "execution_count": 154,
   "source": [
    "v7 = Vector(range(7))\n",
    "v7[-1] # 1"
   ],
   "outputs": [
    {
     "output_type": "execute_result",
     "data": {
      "text/plain": [
       "6.0"
      ]
     },
     "metadata": {},
     "execution_count": 154
    }
   ],
   "metadata": {}
  },
  {
   "cell_type": "code",
   "execution_count": 155,
   "source": [
    "v7[1:4] # 2"
   ],
   "outputs": [
    {
     "output_type": "execute_result",
     "data": {
      "text/plain": [
       "Vector([1.0, 2.0, 3.0])"
      ]
     },
     "metadata": {},
     "execution_count": 155
    }
   ],
   "metadata": {}
  },
  {
   "cell_type": "code",
   "execution_count": 156,
   "source": [
    "v7[-1:] # 3"
   ],
   "outputs": [
    {
     "output_type": "execute_result",
     "data": {
      "text/plain": [
       "Vector([6.0])"
      ]
     },
     "metadata": {},
     "execution_count": 156
    }
   ],
   "metadata": {}
  },
  {
   "cell_type": "code",
   "execution_count": 158,
   "source": [
    "try:\n",
    "    v7[1,2]\n",
    "except TypeError as err:\n",
    "    print(err)"
   ],
   "outputs": [
    {
     "output_type": "stream",
     "name": "stdout",
     "text": [
      "Vector indices must be integers\n"
     ]
    }
   ],
   "metadata": {}
  },
  {
   "cell_type": "markdown",
   "source": [
    "* 1 Если индекс - целое число, то извлекается ровно одна компонента типа ```float```\n",
    "* 2 Если задан индекс типа ```slice```, то создается новый объект ```Vector```\n",
    "* 3 Если длина среза ```len == 1```, то все равно создается новый объект ```Vector```\n",
    "* 4 Класс ```vector```не поддерживает многомерное использование индексирование, поэтому при задании кортежа индексов или срезов возбуждается исключение"
   ],
   "metadata": {}
  },
  {
   "cell_type": "markdown",
   "source": [
    "## ```Vector```, попытка №3: доступ к динамическим атрибутам"
   ],
   "metadata": {}
  },
  {
   "cell_type": "markdown",
   "source": [
    "При переходе от класса ```Vector2d``` к ```Vector``` мы потеряли возможность обращаться\n",
    "к компонентам вектора по имени, например: ```v.x```, ```v.y```. Теперь мы имеем дело с векторами, имеющими сколь угодно много компонент. Тем не менее, иногда удобно\n",
    "обращаться к нескольким первым компонентам по именам, состоящим из одной\n",
    "буквы, например, ```x```, ```y```, ```z``` вместо ```v[0]```, ```v[1]``` и ```v[2]```."
   ],
   "metadata": {}
  },
  {
   "cell_type": "markdown",
   "source": [
    "```Python\n",
    ">>> v = Vector(range(10))\n",
    ">>> v.x\n",
    "0.0\n",
    ">>> v.y, v.z, v.t\n",
    "(1.0, 2.0, 3.0)\n",
    "```"
   ],
   "metadata": {}
  },
  {
   "cell_type": "markdown",
   "source": [
    "В классе ```Vector2d``` мы предоставляли доступ для чтения компонент ```x``` и ```y``` с помощью декоратора ```@property```. Мы могли бы завести и в ```Vector``` четыре свойства, но это утомительно. Специальный метод ```__getattr__``` позволяет сделать\n",
    "это по-другому и лучше."
   ],
   "metadata": {}
  },
  {
   "cell_type": "code",
   "execution_count": 165,
   "source": [
    "class Vector:\n",
    "    typecode = 'd'\n",
    "\n",
    "    def __init__(self, components):\n",
    "        self._components = array(self.typecode, components)\n",
    "\n",
    "    def __iter__(self):\n",
    "        return iter(self._components)\n",
    "\n",
    "    def __repr__(self):\n",
    "        components = reprlib.repr(self._components)\n",
    "        components = components[components.find('['):-1]\n",
    "        return 'Vector({})'.format(components)\n",
    "\n",
    "    def __str__(self):\n",
    "        return str(tuple(self))\n",
    "\n",
    "    def __bytes__(self):\n",
    "        return (bytes([ord(self.typecode)]) +\n",
    "                bytes(self._components))\n",
    "\n",
    "    def __eq__(self, other):\n",
    "        return tuple(self) == tuple(other)\n",
    "\n",
    "    def __abs__(self):\n",
    "        return math.sqrt(sum(x * x for x in self))\n",
    "\n",
    "    def __bool__(self):\n",
    "        return bool(abs(self))\n",
    "\n",
    "    def __len__(self):\n",
    "        return len(self._components)\n",
    "\n",
    "    def __getitem__(self, index):\n",
    "        cls = type(self)\n",
    "        if isinstance(index, slice):\n",
    "            return cls(self._components[index])\n",
    "        elif isinstance(index, numbers.Integral):\n",
    "            return self._components[index]\n",
    "        else:\n",
    "            msg = '{.__name__} indices must be integers'\n",
    "            raise TypeError(msg.format(cls))\n",
    "\n",
    "# BEGIN VECTOR_V3_GETATTR\n",
    "    shortcut_names = 'xyzt'\n",
    "\n",
    "    def __getattr__(self, name):\n",
    "        cls = type(self)  # <1>\n",
    "        if len(name) == 1:  # <2>\n",
    "            pos = cls.shortcut_names.find(name)  # <3>\n",
    "            if 0 <= pos < len(self._components):  # <4>\n",
    "                return self._components[pos]\n",
    "        msg = '{.__name__!r} object has no attribute {!r}'  # <5>\n",
    "        raise AttributeError(msg.format(cls, name))\n",
    "# END VECTOR_V3_GETATTR\n",
    "\n",
    "    @classmethod\n",
    "    def frombytes(cls, octets):\n",
    "        typecode = chr(octets[0])\n",
    "        memv = memoryview(octets[1:]).cast(typecode)\n",
    "        return cls(memv)"
   ],
   "outputs": [],
   "metadata": {}
  },
  {
   "cell_type": "markdown",
   "source": [
    "* 1 Получить и запомнить класс ```Vector```, он понадобится позже\n",
    "* 2 Если имя состоит из одного символа, то этот символ может входить в строку ```shortcut_names```\n",
    "* 3 Найти позицию символа, составляюего односимвольное имя; метод ```str.find``` нашел бы точно такую же строку ```'yz'```, но нам это нe нужно, отсюда и  дополнительная проверка строчкой выше\n",
    "* 4 Если символ найден, вернуть эелемент массива\n",
    "* 5 Если предидущая проверка не прошла, возбудить исключение ```AttributeError``` со стандартным собщением"
   ],
   "metadata": {}
  },
  {
   "cell_type": "code",
   "execution_count": 166,
   "source": [
    "v = Vector(range(5))\n",
    "v"
   ],
   "outputs": [
    {
     "output_type": "execute_result",
     "data": {
      "text/plain": [
       "Vector([0.0, 1.0, 2.0, 3.0, 4.0])"
      ]
     },
     "metadata": {},
     "execution_count": 166
    }
   ],
   "metadata": {}
  },
  {
   "cell_type": "code",
   "execution_count": 167,
   "source": [
    "v.x # 1"
   ],
   "outputs": [
    {
     "output_type": "execute_result",
     "data": {
      "text/plain": [
       "0.0"
      ]
     },
     "metadata": {},
     "execution_count": 167
    }
   ],
   "metadata": {}
  },
  {
   "cell_type": "code",
   "execution_count": 169,
   "source": [
    "v.x = 10 # 2\n",
    "v.x # 3"
   ],
   "outputs": [
    {
     "output_type": "execute_result",
     "data": {
      "text/plain": [
       "10"
      ]
     },
     "metadata": {},
     "execution_count": 169
    }
   ],
   "metadata": {}
  },
  {
   "cell_type": "code",
   "execution_count": 170,
   "source": [
    "v # 4"
   ],
   "outputs": [
    {
     "output_type": "execute_result",
     "data": {
      "text/plain": [
       "Vector([0.0, 1.0, 2.0, 3.0, 4.0])"
      ]
     },
     "metadata": {},
     "execution_count": 170
    }
   ],
   "metadata": {}
  },
  {
   "cell_type": "markdown",
   "source": [
    "Реализовать метод ```__getattr__``` просто, но в данном случае недостаточно.\n",
    "Неправильное поведение: присваивание v.x не приводит к ошибке, но результат получается несогласованным"
   ],
   "metadata": {}
  },
  {
   "cell_type": "markdown",
   "source": [
    "* 1 Доступ к элементу ```v[0]``` по имени ```v.x```\n",
    "* 2 Присваиваем ```v.x``` новое значение. При этом должно бы возникнуть исключение\n",
    "* 3 Чтение ```v.x``` показывает новое значение, 10\n",
    "* 4 Онако компоненты вектора не изменились"
   ],
   "metadata": {}
  },
  {
   "cell_type": "markdown",
   "source": [
    "Метод ```__getattr__``` вызывается интерпретатором, если поиск атрибута завершается неудачно. Иначе говоря, анализируя выражение ```my_obj.x```, Python проверяет, есть ли у объекта ```my_obj``` атрибут с именем ```x```; если нет, поиск повторяется в классе ```(my_obj.__class__)```, а затем вверх по иерархии наследования3\n",
    ". Если\n",
    "атрибут ```x``` все равно не найден, то вызывается метод ```__getattr__```, определенный\n",
    "в классе ```my_obj```, причем ему передается ```self``` и имя атрибута в виде строки (например, ```'x'```).\n",
    "В примере приведен код метода ```__getattr__```. Он проверяет, является ли\n",
    "искомый атрибут одной из букв ```xyzt```, и, если да, то возвращает соответствующую\n",
    "компоненту вектора."
   ],
   "metadata": {}
  },
  {
   "cell_type": "markdown",
   "source": [
    "Несогласованность возникла из-за способа работы ```__getattr__```:\n",
    "Python вызывает этот метод только в том случае, когда у объекта нет атрибута\n",
    "с указанным именем. Однако же после присваивания ```v.x = 10``` у объекта v появился атрибут ```x```, поэтому ```__getattr__``` больше не вызывается для доступа к ```v.x```:\n",
    "интерпретатор просто вернет значение *10*, связанное с ```v.x```. С другой стороны, в\n",
    "реализации ```__getattr__``` мы игнорируем все атрибуты экземпляра, кроме ```self.\n",
    "_components```, откуда читаются значения «виртуальных атрибутов», перечисленных\n",
    "в строке ```shortcut_names```."
   ],
   "metadata": {}
  },
  {
   "cell_type": "markdown",
   "source": [
    "Напомним, что в последних вариантах класса ```Vector2d``` в главе 9 попытка\n",
    "присвоить значение атрибутам экземпляра ```.x``` или ```.y``` приводила к исключению\n",
    "```AttributeError```. В классе ```Vector``` мы хотим возбуждать такое же исключение при\n",
    "любой попытке присвоить значение атрибуту с однобуквенным именем – просто\n",
    "во избежание недоразумений. Для этого реализуем метод ```__setattr__```."
   ],
   "metadata": {}
  },
  {
   "cell_type": "code",
   "execution_count": 171,
   "source": [
    "class Vector:\n",
    "    typecode = 'd'\n",
    "    shortcut_names = 'xyzt'\n",
    "\n",
    "    def __init__(self, components):\n",
    "        self._components = array(self.typecode, components)\n",
    "\n",
    "    def __iter__(self):\n",
    "        return iter(self._components)\n",
    "\n",
    "    def __repr__(self):\n",
    "        components = reprlib.repr(self._components)\n",
    "        components = components[components.find('['):-1]\n",
    "        return 'Vector({})'.format(components)\n",
    "\n",
    "    def __str__(self):\n",
    "        return str(tuple(self))\n",
    "\n",
    "    def __bytes__(self):\n",
    "        return (bytes([ord(self.typecode)]) +\n",
    "                bytes(self._components))\n",
    "\n",
    "    def __eq__(self, other):\n",
    "        return tuple(self) == tuple(other)\n",
    "\n",
    "    def __abs__(self):\n",
    "        return math.sqrt(sum(x * x for x in self))\n",
    "\n",
    "    def __bool__(self):\n",
    "        return bool(abs(self))\n",
    "\n",
    "    def __len__(self):\n",
    "        return len(self._components)\n",
    "\n",
    "    def __getitem__(self, index):\n",
    "        cls = type(self)\n",
    "        if isinstance(index, slice):\n",
    "            return cls(self._components[index])\n",
    "        elif isinstance(index, numbers.Integral):\n",
    "            return self._components[index]\n",
    "        else:\n",
    "            msg = '{.__name__} indices must be integers'\n",
    "            raise TypeError(msg.format(cls))\n",
    "\n",
    "    def __getattr__(self, name):\n",
    "        cls = type(self)\n",
    "        if len(name) == 1:\n",
    "            pos = cls.shortcut_names.find(name)\n",
    "            if 0 <= pos < len(self._components):\n",
    "                return self._components[pos]\n",
    "        msg = '{.__name__!r} object has no attribute {!r}' \n",
    "        raise AttributeError(msg.format(cls, name))\n",
    "\n",
    "# BEGIN VECTOR_V3_SETATTR\n",
    "    def __setattr__(self, name, value):\n",
    "        cls = type(self)\n",
    "        if len(name) == 1:  # <1>\n",
    "            if name in cls.shortcut_names:  # <2>\n",
    "                error = 'readonly attribute {attr_name!r}'\n",
    "            elif name.islower():  # <3>\n",
    "                error = \"can't set attributes 'a' to 'z' in {cls_name!r}\"\n",
    "            else:\n",
    "                error = ''  # <4>\n",
    "            if error:  # <5>\n",
    "                msg = error.format(cls_name=cls.__name__, attr_name=name)\n",
    "                raise AttributeError(msg)\n",
    "        super().__setattr__(name, value)  # <6>\n",
    "\n",
    "# END VECTOR_V3_SETATTR\n",
    "\n",
    "    @classmethod\n",
    "    def frombytes(cls, octets):\n",
    "        typecode = chr(octets[0])\n",
    "        memv = memoryview(octets[1:]).cast(typecode)\n",
    "        return cls(memv)"
   ],
   "outputs": [],
   "metadata": {}
  },
  {
   "cell_type": "markdown",
   "source": [
    "* 1 Специальная обработка односимвольных имен атрибутов\n",
    "* 2 Если имя совпадает с одним их символов ```xyzt```, задать один текст сообщения об ошибке\n",
    "* 3 Еслм имя - строчная буква, задать другой текст сообщения - обо всех однобуквенных именах\n",
    "* 4 В противном случае оставить сообщение об ошибке пустым\n",
    "* 5 Если сообщение об ошибке не пусто, возбуждаем исключение\n",
    "* 6 Случай по умолчанию: вызвать метод ```__setatr__``` суперкласса для поолучения стандартного поведения"
   ],
   "metadata": {}
  },
  {
   "cell_type": "code",
   "execution_count": 172,
   "source": [
    "v = Vector(range(7))\n",
    "v"
   ],
   "outputs": [
    {
     "output_type": "execute_result",
     "data": {
      "text/plain": [
       "Vector([0.0, 1.0, 2.0, 3.0, 4.0, ...])"
      ]
     },
     "metadata": {},
     "execution_count": 172
    }
   ],
   "metadata": {}
  },
  {
   "cell_type": "code",
   "execution_count": 173,
   "source": [
    "v.x"
   ],
   "outputs": [
    {
     "output_type": "execute_result",
     "data": {
      "text/plain": [
       "0.0"
      ]
     },
     "metadata": {},
     "execution_count": 173
    }
   ],
   "metadata": {}
  },
  {
   "cell_type": "code",
   "execution_count": 180,
   "source": [
    "v.t"
   ],
   "outputs": [
    {
     "output_type": "execute_result",
     "data": {
      "text/plain": [
       "3.0"
      ]
     },
     "metadata": {},
     "execution_count": 180
    }
   ],
   "metadata": {}
  },
  {
   "cell_type": "code",
   "execution_count": 179,
   "source": [
    "try:\n",
    "    v.x = 10\n",
    "except AttributeError as err:\n",
    "    print(err)"
   ],
   "outputs": [
    {
     "output_type": "stream",
     "name": "stdout",
     "text": [
      "readonly attribute 'x'\n"
     ]
    }
   ],
   "metadata": {}
  },
  {
   "cell_type": "markdown",
   "source": [
    "Если бы мы решили допустить изменение компонент, то могли бы реализовать метод ```__setitem__```, чтобы можно было писать ```v[0] = 1.1```, и (или) метод\n",
    "```__setattr__```, чтобы работала конструкция ```v.x = 1.1```. Но сам класс ```Vector``` должен\n",
    "оставаться неизменяемым, потому что в следующем разделе мы собираемся сделать его хэшируемым."
   ],
   "metadata": {}
  },
  {
   "cell_type": "markdown",
   "source": [
    "## ```Vector```, попытка №4: хэширование и ускорение оператора ```==```"
   ],
   "metadata": {}
  },
  {
   "cell_type": "markdown",
   "source": [
    "И снова нам предстоит реализовать метод ```__hash__```. В сочетании с уже имеющимся методом ```__eq__``` это сделает экземпляры класса Vector хэшируемыми. Метод ```__hash__``` в примере ```9.1 Vetor2d``` просто вычислял выражение ```hash(self.x) ^ hash(self.y)```. Теперь мы хотели бы применить оператор **^ (ИСКЛЮЧАЮЩЕЕ ИЛИ)** к хэшам всех компонент: ```v[0] ^ v[1] ^ v[2]…``` . Тут нам на помощь придет функция ```functools.reduce```. Выше я говорил, что функция ```reduce``` уже не так популярна, как в былые времена, но для вычисления хэша всех компонент она\n",
    "подходит идеально. На рис. 10.1_reduce_1 и 10.1_reduce_2 представлена общая идея функции ```reduce```."
   ],
   "metadata": {}
  },
  {
   "cell_type": "markdown",
   "source": [
    "![body](img/10.1_reduce_2.png)\n",
    "![body](img/10.1_reduce_1.png)"
   ],
   "metadata": {}
  },
  {
   "cell_type": "markdown",
   "source": [
    "Редуцирующие функции – ```reduce, sum, any, all``` – порождают единственное значение-агрегат из последовательности или произвольного конечного итерируемого объекта"
   ],
   "metadata": {}
  },
  {
   "cell_type": "markdown",
   "source": [
    "До сих пор мы видели, что функцию ```functools.reduce()``` можно заменить функцией ```sum()```, а теперь объясним, как же она все-таки работает. Идея в том, чтобы редуцировать последовательность значений в единственное значение. Первый\n",
    "аргумент ```reduce()``` – функция с двумя аргументами, а второй – итерируемый объект. Допустим, что имеется функция с двумя аргументами fn и список ```lst```. Если написать ```reduce(fn, lst)```, то ```fn``` сначала применяется к первым двум элементам – ```fn(lst[0], lst[1])``` – и в результате получится первый результат ```r1```. Затем ```fn``` применяется к``` r1``` и следующему элементу – ```fn(r1, lst[2]);``` так мы получаем второй результат ```r2```. Затем вызов ```fn(r2, lst[3])``` порождает ```r3``` … и так далее до последнего\n",
    "элемента, после чего возвращается окончательный результат ```rN```. Вот как можно было бы применить ```reduce``` для вычисления 5! (факториал 5):"
   ],
   "metadata": {}
  },
  {
   "cell_type": "code",
   "execution_count": 181,
   "source": [
    "2 * 3 * 4 * 5 #  Ожтдаемый результат 5!=120"
   ],
   "outputs": [
    {
     "output_type": "execute_result",
     "data": {
      "text/plain": [
       "120"
      ]
     },
     "metadata": {},
     "execution_count": 181
    }
   ],
   "metadata": {}
  },
  {
   "cell_type": "code",
   "execution_count": 182,
   "source": [
    "import functools\n",
    "functools.reduce(lambda a,b: a*b, range(1, 6))"
   ],
   "outputs": [
    {
     "output_type": "execute_result",
     "data": {
      "text/plain": [
       "120"
      ]
     },
     "metadata": {},
     "execution_count": 182
    }
   ],
   "metadata": {}
  },
  {
   "cell_type": "markdown",
   "source": [
    "Но вернемся к проблеме хэширования. В примере показано, как можно было бы вычислить результат многократного применения ^ тремя способами:\n",
    "один – с помощью цикла ```for``` и два – с помощью ```reduce```."
   ],
   "metadata": {}
  },
  {
   "cell_type": "code",
   "execution_count": 191,
   "source": [
    "n = 0\n",
    "for i in range(1, 6): # 1\n",
    "    n ^= i\n",
    "\n",
    "n"
   ],
   "outputs": [
    {
     "output_type": "execute_result",
     "data": {
      "text/plain": [
       "1"
      ]
     },
     "metadata": {},
     "execution_count": 191
    }
   ],
   "metadata": {}
  },
  {
   "cell_type": "code",
   "execution_count": 192,
   "source": [
    "functools.reduce(lambda a,b: a^b, range(1, 6)) # 2"
   ],
   "outputs": [
    {
     "output_type": "execute_result",
     "data": {
      "text/plain": [
       "1"
      ]
     },
     "metadata": {},
     "execution_count": 192
    }
   ],
   "metadata": {}
  },
  {
   "cell_type": "code",
   "execution_count": 193,
   "source": [
    "import operator\n",
    "functools.reduce(operator.xor, range(1, 6)) # 3"
   ],
   "outputs": [
    {
     "output_type": "execute_result",
     "data": {
      "text/plain": [
       "1"
      ]
     },
     "metadata": {},
     "execution_count": 193
    }
   ],
   "metadata": {}
  },
  {
   "cell_type": "markdown",
   "source": [
    "* 1 Агрегирование в цикле ```for``` в накопительную переменную\n",
    "* 2 ```functools.reduce``` с анонимной функцией\n",
    "* 3 ```functools.reduce``` с заменой специального написного лямбда-выражения функцией ```operator.xor``` "
   ],
   "metadata": {}
  },
  {
   "cell_type": "code",
   "execution_count": 195,
   "source": [
    "from array import array\n",
    "import reprlib\n",
    "import math\n",
    "import numbers\n",
    "import functools # 1\n",
    "import operator # 2 \n",
    "\n",
    "\n",
    "class Vector:\n",
    "    typecode = 'd'\n",
    "\n",
    "    def __init__(self, components):\n",
    "        self._components = array(self.typecode, components)\n",
    "\n",
    "    def __iter__(self):\n",
    "        return iter(self._components)\n",
    "\n",
    "    def __repr__(self):\n",
    "        components = reprlib.repr(self._components)\n",
    "        components = components[components.find('['):-1]\n",
    "        return 'Vector({})'.format(components)\n",
    "\n",
    "    def __str__(self):\n",
    "        return str(tuple(self))\n",
    "\n",
    "    def __bytes__(self):\n",
    "        return (bytes([ord(self.typecode)]) +\n",
    "                bytes(self._components))\n",
    "\n",
    "    def __eq__(self, other):\n",
    "        return tuple(self) == tuple(other) # 3\n",
    "\n",
    "    def __hash__(self):\n",
    "        hashes = (hash(x) for x in self._components) # 4\n",
    "        return functools.reduce(operator.xor, hashes, 0) # 5\n",
    "\n",
    "    def __abs__(self):\n",
    "        return math.sqrt(sum(x * x for x in self))\n",
    "\n",
    "    def __bool__(self):\n",
    "        return bool(abs(self))\n",
    "\n",
    "    def __len__(self):\n",
    "        return len(self._components)\n",
    "\n",
    "    def __getitem__(self, index):\n",
    "        cls = type(self)\n",
    "        if isinstance(index, slice):\n",
    "            return cls(self._components[index])\n",
    "        elif isinstance(index, numbers.Integral):\n",
    "            return self._components[index]\n",
    "        else:\n",
    "            msg = '{.__name__} indices must be integers'\n",
    "            raise TypeError(msg.format(cls))\n",
    "\n",
    "    shortcut_names = 'xyzt'\n",
    "\n",
    "    def __getattr__(self, name):\n",
    "        cls = type(self)\n",
    "        if len(name) == 1:\n",
    "            pos = cls.shortcut_names.find(name)\n",
    "            if 0 <= pos < len(self._components):\n",
    "                return self._components[pos]\n",
    "        msg = '{.__name__!r} object has no attribute {!r}'\n",
    "        raise AttributeError(msg.format(cls, name))\n",
    "\n",
    "    def __setattr__(self, name, value):\n",
    "        cls = type(self)\n",
    "        if len(name) == 1:\n",
    "            if name in cls.shortcut_names:\n",
    "                error = 'readonly attribute {attr_name!r}'\n",
    "            elif name.islower():\n",
    "                error = \"can't set attributes 'a' to 'z' in {cls_name!r}\"\n",
    "            else:\n",
    "                error = ''\n",
    "            if error:\n",
    "                msg = error.format(cls_name=cls.__name__, attr_name=name)\n",
    "                raise AttributeError(msg)\n",
    "        super().__setattr__(name, value)\n",
    "\n",
    "    @classmethod\n",
    "    def frombytes(cls, octets):\n",
    "        typecode = chr(octets[0])\n",
    "        memv = memoryview(octets[1:]).cast(typecode)\n",
    "        return cls(memv)"
   ],
   "outputs": [],
   "metadata": {}
  },
  {
   "cell_type": "markdown",
   "source": [
    "* 1 Импортируем ```functools``` для использования ```reduce```\n",
    "* 2 Импортируем ```operator``` для использования ```xor```\n",
    "* 3 Метод ```__eq__``` не изменился; я привел его, только  потому что методы ```__eq__``` и ```__hash__``` принято распологать в коде рядом т.к. они дополняют друг друга\n",
    "* 4 Создаем генераторное выражение для отложеного вычисления хэша каждой компоненты\n",
    "* Подаем выражение ```hashes``` на вход вместе с функцией ```xor``` - для вычисления итогового хэш-значения; третий аргумент, равный 0, - **инициализатор**"
   ],
   "metadata": {}
  },
  {
   "cell_type": "markdown",
   "source": [
    "При использовании ```reduce``` рекомендуется задавать третий аргумент, ```reduce(function, iterable, initializer)```, чтобы предотвратить появление исключения ```TypeError: reduce() of empty sequence with no initial value``` (отличное сообщение: описывается проблема и способ исправления). Значение ```initializer``` возвращается, если последовательность пуста, а, кроме того,\n",
    "используется в качестве первого аргумента в цикле редукции,\n",
    "поэтому оно должно быть нейтральным элементом относительно выполняемой операции. Так, для операций ```+, |, ^ initializer```\n",
    "должен быть равен 0, а для ```*, & – 1```."
   ],
   "metadata": {}
  },
  {
   "cell_type": "markdown",
   "source": [
    "Метод ```__hash__ ```в данном примере – отличный пример техники **mapreduce**"
   ],
   "metadata": {}
  },
  {
   "cell_type": "markdown",
   "source": [
    "![title](img/10.1_reduce_map.png)"
   ],
   "metadata": {}
  },
  {
   "cell_type": "markdown",
   "source": [
    "**Map-reduce**: применить функцию к каждому элементу\n",
    "для генерации новой последовательности ```map```,\n",
    "затем вычислить агрегат ```reduce```"
   ],
   "metadata": {}
  },
  {
   "cell_type": "markdown",
   "source": [
    "На шаге отображения (```map```) порождается один хэш для каждого компонента, а\n",
    "на шаге редукции (```reduce```) все хэши агрегируются с помощью оператора ```xor```. Если\n",
    "использовать функцию ```map``` вместо генераторного выражения, то шаг отображения\n",
    "станет даже более наглядным:\n",
    "\n",
    "```\n",
    "def __hash__(self):\n",
    "    hashes = map(hash, self._components)\n",
    "    return functools.reduce(operator.xor, hashes)\n",
    "```"
   ],
   "metadata": {}
  },
  {
   "cell_type": "markdown",
   "source": [
    "Решение на основе map не так эффективно в Python 2, где функция map строит список, содержащий результаты. Однако в Python 3\n",
    "map откладывает вычисления: она порождает генератор, который\n",
    "отдает результаты по требованию, экономя тем самым память, –\n",
    "точно так же, как генераторное выражение в методе ```__hash__``` из\n",
    "примера"
   ],
   "metadata": {}
  },
  {
   "cell_type": "markdown",
   "source": [
    "```\n",
    "def __eq__(self, other):\n",
    "    return tuple(self) == tuple(other)\n",
    "```\n",
    "Она работает для ```Vector2d``` и для ```Vector``` – и даже считает, что ```Vector([1, 2])```\n",
    "равен (1, 2); это может оказаться проблемой, но пока закроем на нее глаза5\n",
    ". Но для\n",
    "векторов с тысячами компонент эта реализация крайне неэффективна. Она строит\n",
    "два кортежа, полностью копируя оба операнда, только для того, чтобы воспользоваться оператором ```__eq__``` из типа ```tuple```. Такая экономия усилий вполне оправдана\n",
    "для класса ```Vector2d``` (всего с двумя компонентами), но не для многомерных век- компонентами), но не для многомерных век- ами), но не для многомерных векторов. Более эффективный способ сравнения объекта ```Vector``` с другим объектом\n",
    "```Vector```"
   ],
   "metadata": {}
  },
  {
   "cell_type": "code",
   "execution_count": 198,
   "source": [
    "def __eq__(self, other):\n",
    "    if len(self) != len(other): # 1\n",
    "        return False\n",
    "    for a, b in zip(self, other): # 2 \n",
    "        if a != b: # 3\n",
    "            return False\n",
    "    return True # 4"
   ],
   "outputs": [],
   "metadata": {}
  },
  {
   "cell_type": "markdown",
   "source": [
    "* 1 Если длины объектов различны, то они не равны\n",
    "* 2 Функция ```zip``` порождает генератор кортежей, содержащих соответственные элементы каждого переданного ей итерируемого объекта. Если вы с\n",
    "ней незнакомы, см. врезку «Удивительная функция ```zip```» ниже. Сравнение\n",
    "длин в предыдущем предложении необходимо, потому что ```zip``` без предупреждения перестает порождать значения, как только хотя бы один входной аргумент оказывается исчерпанным.\n",
    "* 3 Как только встречаются две различных компоненты, выходим и возвращая - компоненты, выходим и возвращаем ```False```.\n",
    "* 4 В противном случае объекты равны."
   ],
   "metadata": {}
  },
  {
   "cell_type": "markdown",
   "source": [
    "### Удивительная функция ```zip```"
   ],
   "metadata": {}
  }
 ],
 "metadata": {
  "orig_nbformat": 4,
  "language_info": {
   "name": "python",
   "version": "3.10.0",
   "mimetype": "text/x-python",
   "codemirror_mode": {
    "name": "ipython",
    "version": 3
   },
   "pygments_lexer": "ipython3",
   "nbconvert_exporter": "python",
   "file_extension": ".py"
  },
  "kernelspec": {
   "name": "python3",
   "display_name": "Python 3.10.0 64-bit ('3.10.0': pyenv)"
  },
  "interpreter": {
   "hash": "9a819d62bba945ff271b2659de97f002de1d348b88788c1b21b602751b814f4c"
  }
 },
 "nbformat": 4,
 "nbformat_minor": 2
}