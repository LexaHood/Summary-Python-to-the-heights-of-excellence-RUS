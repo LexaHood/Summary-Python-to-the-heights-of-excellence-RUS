{
 "cells": [
  {
   "cell_type": "code",
   "execution_count": 1,
   "source": [
    "# import pyuca\n",
    "# модуль сортировки для разных кодировок "
   ],
   "outputs": [
    {
     "output_type": "error",
     "ename": "ModuleNotFoundError",
     "evalue": "No module named 'pyuca'",
     "traceback": [
      "\u001b[1;31m---------------------------------------------------------------------------\u001b[0m",
      "\u001b[1;31mModuleNotFoundError\u001b[0m                       Traceback (most recent call last)",
      "\u001b[1;32mC:\\Users\\ALEKS~1.PET\\AppData\\Local\\Temp/ipykernel_18216/3325548935.py\u001b[0m in \u001b[0;36m<module>\u001b[1;34m\u001b[0m\n\u001b[1;32m----> 1\u001b[1;33m \u001b[1;32mimport\u001b[0m \u001b[0mpyuca\u001b[0m\u001b[1;33m\u001b[0m\u001b[1;33m\u001b[0m\u001b[0m\n\u001b[0m",
      "\u001b[1;31mModuleNotFoundError\u001b[0m: No module named 'pyuca'"
     ]
    }
   ],
   "metadata": {}
  },
  {
   "cell_type": "code",
   "execution_count": 1,
   "source": [
    "# BEGIN NUMERICS_DEMO\n",
    "import unicodedata\n",
    "import re\n",
    "\n",
    "re_digit = re.compile(r'\\d')\n",
    "\n",
    "sample = '1\\xbc\\xb2\\u0969\\u136b\\u216b\\u2466\\u2480\\u3285'\n",
    "\n",
    "for char in sample:\n",
    "    print('U+%04x' % ord(char),                       # <1>\n",
    "          char.center(6),                             # <2>\n",
    "          're_dig' if re_digit.match(char) else '-',  # <3>\n",
    "          'isdig' if char.isdigit() else '-',         # <4>\n",
    "          'isnum' if char.isnumeric() else '-',       # <5>\n",
    "          format(unicodedata.numeric(char), '5.2f'),  # <6>\n",
    "          unicodedata.name(char),                     # <7>\n",
    "          sep='\\t')\n",
    "# END NUMERICS_DEMO"
   ],
   "outputs": [
    {
     "output_type": "stream",
     "name": "stdout",
     "text": [
      "U+0031\t  1   \tre_dig\tisdig\tisnum\t 1.00\tDIGIT ONE\n",
      "U+00bc\t  ¼   \t-\t-\tisnum\t 0.25\tVULGAR FRACTION ONE QUARTER\n",
      "U+00b2\t  ²   \t-\tisdig\tisnum\t 2.00\tSUPERSCRIPT TWO\n",
      "U+0969\t  ३   \tre_dig\tisdig\tisnum\t 3.00\tDEVANAGARI DIGIT THREE\n",
      "U+136b\t  ፫   \t-\tisdig\tisnum\t 3.00\tETHIOPIC DIGIT THREE\n",
      "U+216b\t  Ⅻ   \t-\t-\tisnum\t12.00\tROMAN NUMERAL TWELVE\n",
      "U+2466\t  ⑦   \t-\tisdig\tisnum\t 7.00\tCIRCLED DIGIT SEVEN\n",
      "U+2480\t  ⒀   \t-\t-\tisnum\t13.00\tPARENTHESIZED NUMBER THIRTEEN\n",
      "U+3285\t  ㊅   \t-\t-\tisnum\t 6.00\tCIRCLED IDEOGRAPH SIX\n"
     ]
    }
   ],
   "metadata": {}
  },
  {
   "cell_type": "code",
   "execution_count": 2,
   "source": [
    "import re\n",
    "\n",
    "re_numbers_str = re.compile(r'\\d+')\n",
    "re_words_str = re.compile(r'\\w+')\n",
    "re_numbers_bytes = re.compile(rb'\\d+')\n",
    "re_words_bytes = re.compile(rb'\\w+')\n",
    "\n",
    "text_str = (\"Ramanujan saw \\u0be7\\u0bed\\u0be8\\u0bef\"\" as 1729 = 1³ + 12³ = 9³ + 10³.\")\n",
    "text_bytes = text_str.encode('utf-8')"
   ],
   "outputs": [],
   "metadata": {}
  },
  {
   "cell_type": "code",
   "execution_count": 3,
   "source": [
    "print('Text', repr(text_str), sep='\\n')"
   ],
   "outputs": [
    {
     "output_type": "stream",
     "name": "stdout",
     "text": [
      "Text\n",
      "'Ramanujan saw ௧௭௨௯ as 1729 = 1³ + 12³ = 9³ + 10³.'\n"
     ]
    }
   ],
   "metadata": {}
  },
  {
   "cell_type": "code",
   "execution_count": 4,
   "source": [
    "print('Numbers')"
   ],
   "outputs": [
    {
     "output_type": "stream",
     "name": "stdout",
     "text": [
      "Numbers\n"
     ]
    }
   ],
   "metadata": {}
  },
  {
   "cell_type": "code",
   "execution_count": 5,
   "source": [
    "print(' str :', re_numbers_str.findall(text_str))"
   ],
   "outputs": [
    {
     "output_type": "stream",
     "name": "stdout",
     "text": [
      " str : ['௧௭௨௯', '1729', '1', '12', '9', '10']\n"
     ]
    }
   ],
   "metadata": {}
  },
  {
   "cell_type": "code",
   "execution_count": 6,
   "source": [
    "print(' bytes:', re_numbers_bytes.findall(text_bytes))"
   ],
   "outputs": [
    {
     "output_type": "stream",
     "name": "stdout",
     "text": [
      " bytes: [b'1729', b'1', b'12', b'9', b'10']\n"
     ]
    }
   ],
   "metadata": {}
  },
  {
   "cell_type": "code",
   "execution_count": 7,
   "source": [
    "print('Words')"
   ],
   "outputs": [
    {
     "output_type": "stream",
     "name": "stdout",
     "text": [
      "Words\n"
     ]
    }
   ],
   "metadata": {}
  },
  {
   "cell_type": "code",
   "execution_count": 8,
   "source": [
    "print(' str:', re_words_str.findall(text_str))"
   ],
   "outputs": [
    {
     "output_type": "stream",
     "name": "stdout",
     "text": [
      " str: ['Ramanujan', 'saw', '௧௭௨௯', 'as', '1729', '1³', '12³', '9³', '10³']\n"
     ]
    }
   ],
   "metadata": {}
  },
  {
   "cell_type": "code",
   "execution_count": 9,
   "source": [
    "print(' bytes:', re_numbers_bytes.findall(text_bytes))"
   ],
   "outputs": [
    {
     "output_type": "stream",
     "name": "stdout",
     "text": [
      " bytes: [b'1729', b'1', b'12', b'9', b'10']\n"
     ]
    }
   ],
   "metadata": {}
  },
  {
   "cell_type": "code",
   "execution_count": 11,
   "source": [
    "import os"
   ],
   "outputs": [],
   "metadata": {}
  },
  {
   "cell_type": "code",
   "execution_count": 12,
   "source": [
    "os.listdir('.')"
   ],
   "outputs": [
    {
     "output_type": "execute_result",
     "data": {
      "text/plain": [
       "['1.2 Vector.ipynb',\n",
       " '2.1 Genexp and listcomp.ipynb',\n",
       " '2.2 Сortege.ipynb',\n",
       " '2.3 Slices.ipynb',\n",
       " '2.4 List.sorted.ipynb',\n",
       " '2.5 Bisect sort.ipynb',\n",
       " '2.6 Array.ipynb',\n",
       " '2.7 Numpy.ipynb',\n",
       " '2.8 Deque.ipynb',\n",
       " '1.1 Frenchdeck.ipynb',\n",
       " '3.1 Dict.ipynb',\n",
       " '3.2 Multitudes.ipynb',\n",
       " '4.1 Text and Bytes.ipynb',\n",
       " '4.2 Encoding Decoding.ipynb',\n",
       " '4.3 Text comparison.ipynb',\n",
       " '4.4 Sort Unicode.ipynb',\n",
       " '5.1 Api.ipynb']"
      ]
     },
     "metadata": {},
     "execution_count": 12
    }
   ],
   "metadata": {}
  },
  {
   "cell_type": "code",
   "execution_count": 13,
   "source": [
    "os.listdir(b'.')"
   ],
   "outputs": [
    {
     "output_type": "execute_result",
     "data": {
      "text/plain": [
       "[b'1.2 Vector.ipynb',\n",
       " b'2.1 Genexp and listcomp.ipynb',\n",
       " b'2.2 \\xd0\\xa1ortege.ipynb',\n",
       " b'2.3 Slices.ipynb',\n",
       " b'2.4 List.sorted.ipynb',\n",
       " b'2.5 Bisect sort.ipynb',\n",
       " b'2.6 Array.ipynb',\n",
       " b'2.7 Numpy.ipynb',\n",
       " b'2.8 Deque.ipynb',\n",
       " b'1.1 Frenchdeck.ipynb',\n",
       " b'3.1 Dict.ipynb',\n",
       " b'3.2 Multitudes.ipynb',\n",
       " b'4.1 Text and Bytes.ipynb',\n",
       " b'4.2 Encoding Decoding.ipynb',\n",
       " b'4.3 Text comparison.ipynb',\n",
       " b'4.4 Sort Unicode.ipynb',\n",
       " b'5.1 Api.ipynb']"
      ]
     },
     "metadata": {},
     "execution_count": 13
    }
   ],
   "metadata": {}
  },
  {
   "cell_type": "code",
   "execution_count": null,
   "source": [],
   "outputs": [],
   "metadata": {}
  }
 ],
 "metadata": {
  "interpreter": {
   "hash": "d19139f9a9002f9d9575466607891e08c558a7bf0611b686880f47102338ac30"
  },
  "kernelspec": {
   "name": "python3",
   "display_name": "Python 3.10.0rc2 64-bit ('3.10.0rc2': pyenv)"
  },
  "language_info": {
   "name": "python",
   "version": "3.10.0rc2",
   "mimetype": "text/x-python",
   "codemirror_mode": {
    "name": "ipython",
    "version": 3
   },
   "pygments_lexer": "ipython3",
   "nbconvert_exporter": "python",
   "file_extension": ".py"
  },
  "orig_nbformat": 4
 },
 "nbformat": 4,
 "nbformat_minor": 2
}