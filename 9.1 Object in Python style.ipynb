{
 "cells": [
  {
   "cell_type": "markdown",
   "source": [
    "## Объекты"
   ],
   "metadata": {}
  },
  {
   "cell_type": "code",
   "execution_count": 21,
   "source": [
    "from array import array\n",
    "import math\n",
    "\n",
    "class Vector2d:\n",
    "    typecode = 'd'  # <1>\n",
    "\n",
    "    def __init__(self, x, y):\n",
    "        self.x = float(x)    # <2>\n",
    "        self.y = float(y)\n",
    "\n",
    "    def __iter__(self):\n",
    "        return (i for i in (self.x, self.y))  # <3>\n",
    "\n",
    "    def __repr__(self):\n",
    "        class_name = type(self).__name__\n",
    "        return '{}({!r}, {!r})'.format(class_name, *self)  # <4>\n",
    "\n",
    "    def __str__(self):\n",
    "        return str(tuple(self))  # <5>\n",
    "\n",
    "    def __bytes__(self):\n",
    "        return (bytes([ord(self.typecode)]) +  # <6>\n",
    "                bytes(array(self.typecode, self)))  # <7>\n",
    "\n",
    "    def __eq__(self, other):\n",
    "        return tuple(self) == tuple(other)  # <8>\n",
    "\n",
    "    def __abs__(self):\n",
    "        return math.hypot(self.x, self.y)  # <9>\n",
    "\n",
    "    def __bool__(self):\n",
    "        return bool(abs(self))  # <10>"
   ],
   "outputs": [],
   "metadata": {}
  },
  {
   "cell_type": "markdown",
   "source": [
    "* 1 ```typecode``` - это атрибут класса, которым мы воспользуемся, когда будем преобразовывать экземпляры ```Vector2d``` в последовательности байтов и наоборот\n",
    "* 2 Преобразование ```x``` и ```y``` в тип ```float``` в методе ```__init__``` позволяет на ранней стадии обнаружить оишбки, это полезно в случае, когда конструктор ```Vector2d``` вызывается с неподходящими аргументами\n",
    "* 3 Наличие метода ```__iter__``` делает ```Vector2d``` итерируемым; именно благодаря ему работает распаковка (например: ```x, y = my_vector```). Мы реализуем его просто с помощью генераторного выражения, которое отдает компоненты поочередно.\n",
    "* 4 Метод ```__repr__``` строит строку, интеполируя компоненты с помощью синаксиса ```{!r}``` для получения их представления, возвращаемого функции ```repr```; поскольку ```Vector2d``` - итерируемый объект, ```*self``` поставляет компоненты ```x``` и ```y``` функции ```format```\n",
    "* 5 Из итерируемого объекта ```Vector2d``` легко построить кортеж для отображения в виде упорядоченной пары\n",
    "* 6 Для генерации объекта типа ```bytes``` мы преобразуем ```typecode``` в ```bytes``` и конкатенируем\n",
    "* 7 ... с объектом ```bytes```, полученным преобразованием массива, который построен путем обхода экземпляра\n",
    "* 8 Для быстрого сравнения всех компонентов мы строим кортежи из операндов. Это работает, когда операнды являются экземплярами класса ```Vector2d```, но не без проблем\n",
    "* 9 Модулем вектора называется длина гипотенузы прямоугольного треугольника с катетами ```x``` и ```y```\n",
    "* 10 Метод ```__bool__``` вызывает ```abs(self)``` для вычисления модуля, а затем преобразует полученное значение в тип ```bool```, так что 0.0 преобразуется в ```False```, а любое число, отличное от нуля, - в ```True```"
   ],
   "metadata": {}
  },
  {
   "cell_type": "code",
   "execution_count": 22,
   "source": [
    "v1 = Vector2d(3, 4)\n",
    "print(v1.x, v1.y) # 1"
   ],
   "outputs": [
    {
     "output_type": "stream",
     "name": "stdout",
     "text": [
      "3.0 4.0\n"
     ]
    }
   ],
   "metadata": {}
  },
  {
   "cell_type": "code",
   "execution_count": 23,
   "source": [
    "x, y = v1 # 2\n",
    "x, y"
   ],
   "outputs": [
    {
     "output_type": "execute_result",
     "data": {
      "text/plain": [
       "(3.0, 4.0)"
      ]
     },
     "metadata": {},
     "execution_count": 23
    }
   ],
   "metadata": {}
  },
  {
   "cell_type": "code",
   "execution_count": 24,
   "source": [
    "v1 # 3"
   ],
   "outputs": [
    {
     "output_type": "execute_result",
     "data": {
      "text/plain": [
       "Vector2d(3.0, 4.0)"
      ]
     },
     "metadata": {},
     "execution_count": 24
    }
   ],
   "metadata": {}
  },
  {
   "cell_type": "code",
   "execution_count": 25,
   "source": [
    "v1_clone = eval(repr(v1)) # 4\n",
    "v1 == v1_clone # 5"
   ],
   "outputs": [
    {
     "output_type": "execute_result",
     "data": {
      "text/plain": [
       "True"
      ]
     },
     "metadata": {},
     "execution_count": 25
    }
   ],
   "metadata": {}
  },
  {
   "cell_type": "code",
   "execution_count": 26,
   "source": [
    "print(v1) # 6"
   ],
   "outputs": [
    {
     "output_type": "stream",
     "name": "stdout",
     "text": [
      "(3.0, 4.0)\n"
     ]
    }
   ],
   "metadata": {}
  },
  {
   "cell_type": "code",
   "execution_count": 27,
   "source": [
    "ocerts = bytes(v1) # 7\n",
    "ocerts"
   ],
   "outputs": [
    {
     "output_type": "execute_result",
     "data": {
      "text/plain": [
       "b'd\\x00\\x00\\x00\\x00\\x00\\x00\\x08@\\x00\\x00\\x00\\x00\\x00\\x00\\x10@'"
      ]
     },
     "metadata": {},
     "execution_count": 27
    }
   ],
   "metadata": {}
  },
  {
   "cell_type": "code",
   "execution_count": 28,
   "source": [
    "abs(v1) # 8"
   ],
   "outputs": [
    {
     "output_type": "execute_result",
     "data": {
      "text/plain": [
       "5.0"
      ]
     },
     "metadata": {},
     "execution_count": 28
    }
   ],
   "metadata": {}
  },
  {
   "cell_type": "code",
   "execution_count": 29,
   "source": [
    "bool(v1), bool(Vector2d(0, 0)) #9"
   ],
   "outputs": [
    {
     "output_type": "execute_result",
     "data": {
      "text/plain": [
       "(True, False)"
      ]
     },
     "metadata": {},
     "execution_count": 29
    }
   ],
   "metadata": {}
  },
  {
   "cell_type": "markdown",
   "source": [
    "* 1 К компонентам ```Vector2d``` можно обращаться напрямую, как к атрибутам *(методом чтения нет)*\n",
    "* 2 Объект ```Vector2d``` можно распоковать в кортеж переменных\n",
    "* 3 ```repr``` для объекта имитирует исходный конструированияэкземпляра\n",
    "* 4 Использование ```eval``` показывает, что результат ```repr``` для ```Vector2d``` - точное представление вызова конструктора\n",
    "* 5 ```Vector2d``` поддерживает сравнение с помощью ```==```; это полезно для тестирования\n",
    "* 6 ```print``` вызывает функцию ```str```, которая для ```Vector2d``` порождает упорядоченную пару\n",
    "* 7 ```bytes``` используется методом ```__bytes__``` для получения двоичного представления\n",
    "* 8 ```abs``` вызывает метод ```__abs__```, чтобы вернуть модуль вектора\n",
    "* 9 ```Vector2d``` пользуется методом ```__bool__```, чтобы вернуть ```False``` для объекта ```Vector2d``` нулевой длины, и ```True``` в противном случае"
   ],
   "metadata": {}
  },
  {
   "cell_type": "markdown",
   "source": [
    "## Альтернативный конструктор"
   ],
   "metadata": {}
  },
  {
   "cell_type": "code",
   "execution_count": 30,
   "source": [
    "class Vector2d:\n",
    "    typecode = 'd'\n",
    "\n",
    "    def __init__(self, x, y):\n",
    "        self.x = float(x)\n",
    "        self.y = float(y)\n",
    "\n",
    "    def __iter__(self):\n",
    "        return (i for i in (self.x, self.y))\n",
    "\n",
    "    def __repr__(self):\n",
    "        class_name = type(self).__name__\n",
    "        return '{}({!r}, {!r})'.format(class_name, *self)\n",
    "\n",
    "    def __str__(self):\n",
    "        return str(tuple(self))\n",
    "\n",
    "    def __bytes__(self):\n",
    "        return (bytes([ord(self.typecode)]) +\n",
    "                bytes(array(self.typecode, self)))\n",
    "\n",
    "    def __eq__(self, other):\n",
    "        return tuple(self) == tuple(other)\n",
    "\n",
    "    def __abs__(self):\n",
    "        return math.hypot(self.x, self.y)\n",
    "\n",
    "    def __bool__(self):\n",
    "        return bool(abs(self))\n",
    "\n",
    "    @classmethod  # <1>\n",
    "    def frombytes(cls, octets):  # <2>\n",
    "        typecode = chr(octets[0])  # <3>\n",
    "        memv = memoryview(octets[1:]).cast(typecode)  # <4>\n",
    "        return cls(*memv)  # <5>"
   ],
   "outputs": [],
   "metadata": {}
  },
  {
   "cell_type": "markdown",
   "source": [
    "* 1 Метод класса снабжен декоратором ```classmethod```\n",
    "* 2 Аргумент ```self``` отсутвует; вместо него в аргументе ```cls``` прередается сам класс\n",
    "* 3 Читаем ```typecode``` из первого байта\n",
    "* 4 Создаем объект ```memoryview``` из двоичной последовательности октетов и приводим его к типу ```typecode```\n",
    "* 5 Распаковываем ```memoryview```, получившийся в результате приведения типа,и получаем пару аргументов, необходимых конструктору"
   ],
   "metadata": {}
  },
  {
   "cell_type": "markdown",
   "source": [
    "## Декораторы ```classmethod``` и ```staticmethod```"
   ],
   "metadata": {}
  },
  {
   "cell_type": "code",
   "execution_count": 31,
   "source": [
    "class Demo:\n",
    "    @classmethod\n",
    "    def klassmeth(*args):\n",
    "        return args # 1\n",
    "\n",
    "    @staticmethod\n",
    "    def statmeth(*args):\n",
    "        return args # 2\n",
    "\n",
    "Demo.klassmeth() # 3"
   ],
   "outputs": [
    {
     "output_type": "execute_result",
     "data": {
      "text/plain": [
       "(__main__.Demo,)"
      ]
     },
     "metadata": {},
     "execution_count": 31
    }
   ],
   "metadata": {}
  },
  {
   "cell_type": "code",
   "execution_count": 32,
   "source": [
    "Demo.klassmeth('spam')"
   ],
   "outputs": [
    {
     "output_type": "execute_result",
     "data": {
      "text/plain": [
       "(__main__.Demo, 'spam')"
      ]
     },
     "metadata": {},
     "execution_count": 32
    }
   ],
   "metadata": {}
  },
  {
   "cell_type": "code",
   "execution_count": 33,
   "source": [
    "Demo.statmeth() # 4"
   ],
   "outputs": [
    {
     "output_type": "execute_result",
     "data": {
      "text/plain": [
       "()"
      ]
     },
     "metadata": {},
     "execution_count": 33
    }
   ],
   "metadata": {}
  },
  {
   "cell_type": "code",
   "execution_count": 34,
   "source": [
    "Demo.statmeth('spam')"
   ],
   "outputs": [
    {
     "output_type": "execute_result",
     "data": {
      "text/plain": [
       "('spam',)"
      ]
     },
     "metadata": {},
     "execution_count": 34
    }
   ],
   "metadata": {}
  },
  {
   "cell_type": "markdown",
   "source": [
    "* 1 ```klassmeth``` просто возвращает все позиционные аргументы\n",
    "* 2 ```statmeth```делает тоже самое\n",
    "* 3 Вне зависимости от способа вызова ```Demo.klassmeth``` получает класс ```Demo``` в качестве первого аргумента\n",
    "* 4 ```Demo.statmeth``` ведет себя, как обычная функция"
   ],
   "metadata": {}
  },
  {
   "cell_type": "markdown",
   "source": [
    "## Форматирование при выводе"
   ],
   "metadata": {}
  },
  {
   "cell_type": "code",
   "execution_count": 35,
   "source": [
    "brl = 1/5.46 # Курс Бразильского реала к доллару\n",
    "brl"
   ],
   "outputs": [
    {
     "output_type": "execute_result",
     "data": {
      "text/plain": [
       "0.18315018315018314"
      ]
     },
     "metadata": {},
     "execution_count": 35
    }
   ],
   "metadata": {}
  },
  {
   "cell_type": "code",
   "execution_count": 36,
   "source": [
    "format(brl, '0.4f') # 1"
   ],
   "outputs": [
    {
     "output_type": "execute_result",
     "data": {
      "text/plain": [
       "'0.1832'"
      ]
     },
     "metadata": {},
     "execution_count": 36
    }
   ],
   "metadata": {}
  },
  {
   "cell_type": "code",
   "execution_count": 37,
   "source": [
    "'1 BRL = {rate:0.2f} USD'.format(rate=brl) # 2"
   ],
   "outputs": [
    {
     "output_type": "execute_result",
     "data": {
      "text/plain": [
       "'1 BRL = 0.18 USD'"
      ]
     },
     "metadata": {},
     "execution_count": 37
    }
   ],
   "metadata": {}
  },
  {
   "cell_type": "markdown",
   "source": [
    "* 1 Спецификатор формата ``` ```\n",
    "* 2 Спецификатор формата  ```0.2f```. Подстройка ```rate``` в поле подстановки называется именем поля. Она не свзяна со спецификатором формата, а определяет, какой аргумент метода ```.foramat()``` попадает в это поле подстановки."
   ],
   "metadata": {}
  },
  {
   "cell_type": "markdown",
   "source": [
    "Например ```{0.mass:5.3e}``` мы видим две соверешенно разных нотации. Часть ```0.mass``` слева от двоеточия - это имя поля подстановки ```field.name```, а часть ```5.3e``` после двоеточия - спецификатор формата. Нотация, применяемая в спецификаторе формата, называется также **миниязыком спецификации формата** "
   ],
   "metadata": {}
  },
  {
   "cell_type": "code",
   "execution_count": 38,
   "source": [
    "format(42, 'b') # Двоичная система"
   ],
   "outputs": [
    {
     "output_type": "execute_result",
     "data": {
      "text/plain": [
       "'101010'"
      ]
     },
     "metadata": {},
     "execution_count": 38
    }
   ],
   "metadata": {}
  },
  {
   "cell_type": "code",
   "execution_count": 39,
   "source": [
    "format(42, 'x') # 16-ричная система"
   ],
   "outputs": [
    {
     "output_type": "execute_result",
     "data": {
      "text/plain": [
       "'2a'"
      ]
     },
     "metadata": {},
     "execution_count": 39
    }
   ],
   "metadata": {}
  },
  {
   "cell_type": "code",
   "execution_count": 40,
   "source": [
    "format(2/3, '.1%')"
   ],
   "outputs": [
    {
     "output_type": "execute_result",
     "data": {
      "text/plain": [
       "'66.7%'"
      ]
     },
     "metadata": {},
     "execution_count": 40
    }
   ],
   "metadata": {}
  },
  {
   "cell_type": "code",
   "execution_count": 41,
   "source": [
    "from datetime import datetime\n",
    "\n",
    "now = datetime.now()\n",
    "format(now, '%H:%M')"
   ],
   "outputs": [
    {
     "output_type": "execute_result",
     "data": {
      "text/plain": [
       "'10:30'"
      ]
     },
     "metadata": {},
     "execution_count": 41
    }
   ],
   "metadata": {}
  },
  {
   "cell_type": "code",
   "execution_count": 42,
   "source": [
    "'Сейчас {:%I:%M %p}'.format(now)"
   ],
   "outputs": [
    {
     "output_type": "execute_result",
     "data": {
      "text/plain": [
       "'Сейчас 10:30 AM'"
      ]
     },
     "metadata": {},
     "execution_count": 42
    }
   ],
   "metadata": {}
  },
  {
   "cell_type": "markdown",
   "source": [
    "Если в классе не рализован метод ```__format__```, то используется метод, унаследованный от ```object```, который возвращает значение ```str(my_object)```. Поскольку в классе ```Vector2d``` есть метод ```__str__```, это работает следующим образом:"
   ],
   "metadata": {}
  },
  {
   "cell_type": "code",
   "execution_count": 43,
   "source": [
    "v1 = Vector2d(3, 4)\n",
    "format(v1)"
   ],
   "outputs": [
    {
     "output_type": "execute_result",
     "data": {
      "text/plain": [
       "'(3.0, 4.0)'"
      ]
     },
     "metadata": {},
     "execution_count": 43
    }
   ],
   "metadata": {}
  },
  {
   "cell_type": "code",
   "execution_count": 44,
   "source": [
    "v1"
   ],
   "outputs": [
    {
     "output_type": "execute_result",
     "data": {
      "text/plain": [
       "Vector2d(3.0, 4.0)"
      ]
     },
     "metadata": {},
     "execution_count": 44
    }
   ],
   "metadata": {}
  },
  {
   "cell_type": "markdown",
   "source": [
    "Но если передать спецификатор формата, то ```object.__format__``` возбудит исключение ```TypeError``` "
   ],
   "metadata": {}
  },
  {
   "cell_type": "code",
   "execution_count": 45,
   "source": [
    "format(v1, '.3f')"
   ],
   "outputs": [
    {
     "output_type": "error",
     "ename": "TypeError",
     "evalue": "unsupported format string passed to Vector2d.__format__",
     "traceback": [
      "\u001b[0;31m---------------------------------------------------------------------------\u001b[0m",
      "\u001b[0;31mTypeError\u001b[0m                                 Traceback (most recent call last)",
      "\u001b[0;32m/tmp/ipykernel_139127/3504218493.py\u001b[0m in \u001b[0;36m<module>\u001b[0;34m\u001b[0m\n\u001b[0;32m----> 1\u001b[0;31m \u001b[0mformat\u001b[0m\u001b[0;34m(\u001b[0m\u001b[0mv1\u001b[0m\u001b[0;34m,\u001b[0m \u001b[0;34m'.3f'\u001b[0m\u001b[0;34m)\u001b[0m\u001b[0;34m\u001b[0m\u001b[0;34m\u001b[0m\u001b[0m\n\u001b[0m",
      "\u001b[0;31mTypeError\u001b[0m: unsupported format string passed to Vector2d.__format__"
     ]
    }
   ],
   "metadata": {}
  },
  {
   "cell_type": "code",
   "execution_count": 49,
   "source": [
    "class Vector2d:\n",
    "    typecode = 'd'\n",
    "\n",
    "    def __init__(self, x, y):\n",
    "        self.x = float(x)\n",
    "        self.y = float(y)\n",
    "\n",
    "    def __iter__(self):\n",
    "        return (i for i in (self.x, self.y))\n",
    "\n",
    "    def __repr__(self):\n",
    "        class_name = type(self).__name__\n",
    "        return '{}({!r}, {!r})'.format(class_name, *self)\n",
    "\n",
    "    def __str__(self):\n",
    "        return str(tuple(self))\n",
    "\n",
    "    def __bytes__(self):\n",
    "        return (bytes([ord(self.typecode)]) +\n",
    "                bytes(array(self.typecode, self)))\n",
    "\n",
    "    def __eq__(self, other):\n",
    "        return tuple(self) == tuple(other)\n",
    "\n",
    "    def __abs__(self):\n",
    "        return math.hypot(self.x, self.y)\n",
    "\n",
    "    def __bool__(self):\n",
    "        return bool(abs(self))\n",
    "\n",
    "    def angle(self):\n",
    "        return math.atan2(self.y, self.x)\n",
    "\n",
    "    def __format__(self, fmt_spec=''):\n",
    "        if fmt_spec.endswith('p'):  # <1>\n",
    "            fmt_spec = fmt_spec[:-1]  # <2>\n",
    "            coords = (abs(self), self.angle())  # <3>\n",
    "            outer_fmt = '<{}, {}>'  # <4>\n",
    "        else:\n",
    "            coords = self  # <5>\n",
    "            outer_fmt = '({}, {})'  # <6>\n",
    "        components = (format(c, fmt_spec) for c in coords)  # <7>\n",
    "        return outer_fmt.format(*components)  # <8>\n",
    "\n",
    "    @classmethod\n",
    "    def frombytes(cls, octets):\n",
    "        typecode = chr(octets[0])\n",
    "        memv = memoryview(octets[1:]).cast(typecode)\n",
    "        return cls(*memv)"
   ],
   "outputs": [],
   "metadata": {}
  },
  {
   "cell_type": "markdown",
   "source": [
    "* 1 Формат заканчивается буквой ```'p'```: полярные координаты\n",
    "* 2 Удаляем суффикс ```'p'``` из ```fmt_spec```\n",
    "* 3 Строим кортеж полярных координат: ```(magnitude, angle)```\n",
    "* 4 Конфигурируем внешний формат, используя угловые скобки\n",
    "* 5 Иначе используем компоненты ```x, y``` вектора ```self``` для представления в прямоугольных координатах\n",
    "* 6 Конфигурируем внешний формат, используя круглые скобки\n",
    "* 7 Порождаем итерируемый объект, компонентами которого являются отформатированные строки\n",
    "* 8 Подставляем строки во внешний формат"
   ],
   "metadata": {}
  },
  {
   "cell_type": "code",
   "execution_count": 51,
   "source": [
    "format(Vector2d(1, 1), 'p')"
   ],
   "outputs": [
    {
     "output_type": "execute_result",
     "data": {
      "text/plain": [
       "'<1.4142135623730951, 0.7853981633974483>'"
      ]
     },
     "metadata": {},
     "execution_count": 51
    }
   ],
   "metadata": {}
  },
  {
   "cell_type": "code",
   "execution_count": 52,
   "source": [
    "format(Vector2d(1, 1), '.3ep')"
   ],
   "outputs": [
    {
     "output_type": "execute_result",
     "data": {
      "text/plain": [
       "'<1.414e+00, 7.854e-01>'"
      ]
     },
     "metadata": {},
     "execution_count": 52
    }
   ],
   "metadata": {}
  },
  {
   "cell_type": "code",
   "execution_count": 54,
   "source": [
    "format(Vector2d(1, 1), '0.4p')"
   ],
   "outputs": [
    {
     "output_type": "execute_result",
     "data": {
      "text/plain": [
       "'<1.414, 0.7854>'"
      ]
     },
     "metadata": {},
     "execution_count": 54
    }
   ],
   "metadata": {}
  },
  {
   "cell_type": "code",
   "execution_count": 50,
   "source": [
    "a = Vector2d(1, 1)\n",
    "format(a, '.3f')"
   ],
   "outputs": [
    {
     "output_type": "execute_result",
     "data": {
      "text/plain": [
       "'(1.000, 1.000)'"
      ]
     },
     "metadata": {},
     "execution_count": 50
    }
   ],
   "metadata": {}
  },
  {
   "cell_type": "markdown",
   "source": [
    "## Хэшируемый класс"
   ],
   "metadata": {}
  },
  {
   "cell_type": "markdown",
   "source": [
    "До сих поря экземпляры класса ```Vector2d``` были не хэшируемыми, поэтому мы не могли поместить их в множество"
   ],
   "metadata": {}
  },
  {
   "cell_type": "code",
   "execution_count": 55,
   "source": [
    "v1 = Vector2d(3 ,4)\n",
    "hash(v1)"
   ],
   "outputs": [
    {
     "output_type": "error",
     "ename": "TypeError",
     "evalue": "unhashable type: 'Vector2d'",
     "traceback": [
      "\u001b[0;31m---------------------------------------------------------------------------\u001b[0m",
      "\u001b[0;31mTypeError\u001b[0m                                 Traceback (most recent call last)",
      "\u001b[0;32m/tmp/ipykernel_139127/66573098.py\u001b[0m in \u001b[0;36m<module>\u001b[0;34m\u001b[0m\n\u001b[1;32m      1\u001b[0m \u001b[0mv1\u001b[0m \u001b[0;34m=\u001b[0m \u001b[0mVector2d\u001b[0m\u001b[0;34m(\u001b[0m\u001b[0;36m3\u001b[0m \u001b[0;34m,\u001b[0m\u001b[0;36m4\u001b[0m\u001b[0;34m)\u001b[0m\u001b[0;34m\u001b[0m\u001b[0;34m\u001b[0m\u001b[0m\n\u001b[0;32m----> 2\u001b[0;31m \u001b[0mhash\u001b[0m\u001b[0;34m(\u001b[0m\u001b[0mv1\u001b[0m\u001b[0;34m)\u001b[0m\u001b[0;34m\u001b[0m\u001b[0;34m\u001b[0m\u001b[0m\n\u001b[0m",
      "\u001b[0;31mTypeError\u001b[0m: unhashable type: 'Vector2d'"
     ]
    }
   ],
   "metadata": {}
  },
  {
   "cell_type": "markdown",
   "source": [
    "Что бы класс ```Vector2d``` был хэшируемым, мы должны реализовать метод ```__hash__```(необходим еще метод ```__eq__```, но он у нас уже есть). Также нужно, чтобы векторы были неизменяемыми\n"
   ],
   "metadata": {}
  },
  {
   "cell_type": "code",
   "execution_count": 56,
   "source": [
    "v1.x = 7"
   ],
   "outputs": [],
   "metadata": {}
  },
  {
   "cell_type": "code",
   "execution_count": 57,
   "source": [
    "v1"
   ],
   "outputs": [
    {
     "output_type": "execute_result",
     "data": {
      "text/plain": [
       "Vector2d(7, 4.0)"
      ]
     },
     "metadata": {},
     "execution_count": 57
    }
   ],
   "metadata": {}
  },
  {
   "cell_type": "markdown",
   "source": [
    "Мы добъемся этого, сделав компоненты ```x``` и ```y``` свойствами, доступными только для чтения"
   ],
   "metadata": {}
  },
  {
   "cell_type": "code",
   "execution_count": 58,
   "source": [
    "class Vector2d:\n",
    "    typecode = 'd'\n",
    "\n",
    "    def __init__(self, x, y):\n",
    "        self.__x = float(x)  # <1>\n",
    "        self.__y = float(y)\n",
    "\n",
    "    @property  # <2>\n",
    "    def x(self):  # <3>\n",
    "        return self.__x  # <4>\n",
    "\n",
    "    @property  # <5>\n",
    "    def y(self):\n",
    "        return self.__y\n",
    "\n",
    "    def __iter__(self):\n",
    "        return (i for i in (self.x, self.y)) \n",
    "\n",
    "    # remaining methods follow (omitted in book listing)\n",
    "# END VECTOR2D_V3_PROP\n",
    "\n",
    "    def __repr__(self):\n",
    "        class_name = type(self).__name__\n",
    "        return '{}({!r}, {!r})'.format(class_name, *self)\n",
    "\n",
    "    def __str__(self):\n",
    "        return str(tuple(self))\n",
    "\n",
    "    def __bytes__(self):\n",
    "        return (bytes([ord(self.typecode)]) +\n",
    "                bytes(array(self.typecode, self)))\n",
    "\n",
    "    def __eq__(self, other):\n",
    "        return tuple(self) == tuple(other)\n",
    "\n",
    "# BEGIN VECTOR_V3_HASH\n",
    "    def __hash__(self):\n",
    "        return hash(self.x) ^ hash(self.y) # 6\n",
    "# END VECTOR_V3_HASH\n",
    "\n",
    "    def __abs__(self):\n",
    "        return math.hypot(self.x, self.y)\n",
    "\n",
    "    def __bool__(self):\n",
    "        return bool(abs(self))\n",
    "\n",
    "    def angle(self):\n",
    "        return math.atan2(self.y, self.x)\n",
    "\n",
    "    def __format__(self, fmt_spec=''):\n",
    "        if fmt_spec.endswith('p'):\n",
    "            fmt_spec = fmt_spec[:-1]\n",
    "            coords = (abs(self), self.angle())\n",
    "            outer_fmt = '<{}, {}>'\n",
    "        else:\n",
    "            coords = self\n",
    "            outer_fmt = '({}, {})'\n",
    "        components = (format(c, fmt_spec) for c in coords)\n",
    "        return outer_fmt.format(*components)\n",
    "\n",
    "    @classmethod\n",
    "    def frombytes(cls, octets):\n",
    "        typecode = chr(octets[0])\n",
    "        memv = memoryview(octets[1:]).cast(typecode)\n",
    "        return cls(*memv)"
   ],
   "outputs": [],
   "metadata": {}
  },
  {
   "cell_type": "markdown",
   "source": [
    "* 1 Используем ровнодва начальных подчерка(и нуль или один конечный), чтобы сделать атрибут закрытым\n",
    "* 2 Декоратор ```@property``` помечает метод чтения свойства\n",
    "* 3 Просто возвращаем ```self.__x```\n",
    "* 4 Повторяем то же самое для свойства ```y```\n",
    "* 5 Все методы, которые просто читают компоненты ```self.x``` и ```self.y```, не изменяются, только теперь ```x``` и ```y```, означает чтение открытых свойств, а не закрытых атрибутов.\n",
    "* 6 Метод ```__hash__``` должен возвращать ```int```, и в идеале учитывать хэши объектов-атрибутов, которые используются в методе ```__eq__```, потому что у объектов должны быть одинаковые хэши. Также рекомендуется объединять хэши компонентов, с помощью поразрядного опретора **ИСКЛЮЧАЮЩЕЕ ИЛИ** (```^```)"
   ],
   "metadata": {}
  },
  {
   "cell_type": "code",
   "execution_count": 59,
   "source": [
    "v1 = Vector2d(3, 4)\n",
    "v2 = Vector2d(3.1, 4.2)\n",
    "hash(v1), hash(v2)"
   ],
   "outputs": [
    {
     "output_type": "execute_result",
     "data": {
      "text/plain": [
       "(7, 384307168202284039)"
      ]
     },
     "metadata": {},
     "execution_count": 59
    }
   ],
   "metadata": {}
  },
  {
   "cell_type": "code",
   "execution_count": 60,
   "source": [
    "set([v1, v2])"
   ],
   "outputs": [
    {
     "output_type": "execute_result",
     "data": {
      "text/plain": [
       "{Vector2d(3.0, 4.0), Vector2d(3.1, 4.2)}"
      ]
     },
     "metadata": {},
     "execution_count": 60
    }
   ],
   "metadata": {}
  },
  {
   "cell_type": "markdown",
   "source": [
    "## Закрытые и \"защищенные\" атрибуты в Python"
   ],
   "metadata": {}
  },
  {
   "cell_type": "markdown",
   "source": [
    "Рассмотрим такую ситуацию: кто-то написал класс ```Dog```, в котором используется внутренний атрибут экземпляра ```mood```, который автор не захотел раскрывать клиентам. Нам нужно написать подкасс ```Dog - Beagle```. Если мы создадим свой атрибут экземпляра ```mood```, не подозревая о конфликте имен, то затрем атрибут ```mood```, испольщуемый в методах, унаследованных от ```Dog```. Чтобы предотвратить это, мы можем назвать атрибут ```__mood``` (с двумя начальными прочерками и, возможно, одним - не более - конечным прочекрком). Тогда Python сохранить имя в словаре экземпляра ```__dict__```, добавив в начало один подчерк и имя класса, т.е. в классе ```Dog``` атрибут ```__mood``` будет называться ```_Dog__mood```, а в классе ```Beagle - _Beagle__mood```. Эта особенность языка называется *ДЕКОРИРОВАНИЕ ИМЕН(name mangling)* "
   ],
   "metadata": {}
  },
  {
   "cell_type": "code",
   "execution_count": 62,
   "source": [
    "v1.__dict__"
   ],
   "outputs": [
    {
     "output_type": "execute_result",
     "data": {
      "text/plain": [
       "{'_Vector2d__x': 3.0, '_Vector2d__y': 4.0}"
      ]
     },
     "metadata": {},
     "execution_count": 62
    }
   ],
   "metadata": {}
  },
  {
   "cell_type": "code",
   "execution_count": 63,
   "source": [
    "v1"
   ],
   "outputs": [
    {
     "output_type": "execute_result",
     "data": {
      "text/plain": [
       "Vector2d(3.0, 4.0)"
      ]
     },
     "metadata": {},
     "execution_count": 63
    }
   ],
   "metadata": {}
  },
  {
   "cell_type": "code",
   "execution_count": 64,
   "source": [
    "v1._Vector2d__x = -7"
   ],
   "outputs": [],
   "metadata": {}
  },
  {
   "cell_type": "code",
   "execution_count": 65,
   "source": [
    "v1"
   ],
   "outputs": [
    {
     "output_type": "execute_result",
     "data": {
      "text/plain": [
       "Vector2d(-7, 4.0)"
      ]
     },
     "metadata": {},
     "execution_count": 65
    }
   ],
   "metadata": {}
  },
  {
   "cell_type": "markdown",
   "source": [
    "## Экономия памяти с помощью атрибута класса ```__slots__```"
   ],
   "metadata": {}
  },
  {
   "cell_type": "markdown",
   "source": [
    "По умолчанию Python хранит атрибуты экземпляра в словаре ```__dict__```, принадлежащему самому экземпляру. Со словарями сопрежены значитаельные накладные расходы из-за того что, для обеспечения быстрого доступа используется хэш-таблица. Если имеются миллионы экземпляров, а колличество атрибутов у каждого мало, то атрибут класса ```__slots__```позволит сэкономить очень много памяти за счет того, что интерпетатору разрешено хранить атрибуты экзэмпляра не в словаре, а в кортеже."
   ],
   "metadata": {}
  },
  {
   "cell_type": "markdown",
   "source": [
    "Атрибут ```__slots__```, унаследованный от суперкласса, не оказывает никакого влияния. Python принимает в расчет только атрибуты ```__slots__```, определенные в самом классе."
   ],
   "metadata": {}
  },
  {
   "cell_type": "code",
   "execution_count": 68,
   "source": [
    "class Vector2d:\n",
    "    __slots__ = ('__x', '__y') # 1\n",
    "\n",
    "    typecode = 'd'\n",
    "\n",
    "    # methods follow (omitted in book listing)\n",
    "# END VECTOR2D_V3_SLOTS\n",
    "\n",
    "    def __init__(self, x, y):\n",
    "        self.__x = float(x)\n",
    "        self.__y = float(y)\n",
    "\n",
    "    @property\n",
    "    def x(self):\n",
    "        return self.__x\n",
    "\n",
    "    @property\n",
    "    def y(self):\n",
    "        return self.__y\n",
    "\n",
    "    def __iter__(self):\n",
    "        return (i for i in (self.x, self.y))\n",
    "\n",
    "    def __repr__(self):\n",
    "        class_name = type(self).__name__\n",
    "        return '{}({!r}, {!r})'.format(class_name, *self)\n",
    "\n",
    "    def __str__(self):\n",
    "        return str(tuple(self))\n",
    "\n",
    "    def __bytes__(self):\n",
    "        return (bytes([ord(self.typecode)]) +\n",
    "                bytes(array(self.typecode, self)))\n",
    "\n",
    "    def __eq__(self, other):\n",
    "        return tuple(self) == tuple(other)\n",
    "\n",
    "    def __hash__(self):\n",
    "        return hash(self.x) ^ hash(self.y)\n",
    "\n",
    "    def __abs__(self):\n",
    "        return math.hypot(self.x, self.y)\n",
    "\n",
    "    def __bool__(self):\n",
    "        return bool(abs(self))\n",
    "\n",
    "    def angle(self):\n",
    "        return math.atan2(self.y, self.x)\n",
    "\n",
    "    def __format__(self, fmt_spec=''):\n",
    "        if fmt_spec.endswith('p'):\n",
    "            fmt_spec = fmt_spec[:-1]\n",
    "            coords = (abs(self), self.angle())\n",
    "            outer_fmt = '<{}, {}>'\n",
    "        else:\n",
    "            coords = self\n",
    "            outer_fmt = '({}, {})'\n",
    "        components = (format(c, fmt_spec) for c in coords)\n",
    "        return outer_fmt.format(*components)\n",
    "\n",
    "    @classmethod\n",
    "    def frombytes(cls, octets):\n",
    "        typecode = chr(octets[0])\n",
    "        memv = memoryview(octets[1:]).cast(typecode)\n",
    "        return cls(*memv)"
   ],
   "outputs": [],
   "metadata": {}
  },
  {
   "cell_type": "markdown",
   "source": [
    "* 1 Определяя атрибут ```__slots__```, мы говорим интерпретатору \"Это все атрибуты в данном классе\". Тогда все переменные помещаются в кортежную структуру, что позволяет избежать накладных расходов хранения в ```__dict__```"
   ],
   "metadata": {}
  },
  {
   "cell_type": "markdown",
   "source": [
    "Если в классе определен атрибут ```__slots__```, то запрещается включать в его экземпляры какие-либот атрибуты, кроме перечисленных в ```__slots__```. Но это побочный эффект, а не причина существования ```__slots__```. Считается дурным тоном использовать ```__slots__``` только для того, чтобы не дать пользователям класса создавать новые атрибуты в его экземплярах. **Атрибут ```__slots__``` предназначен для оптимизации**, а не для связвания рук программистам."
   ],
   "metadata": {}
  },
  {
   "cell_type": "markdown",
   "source": [
    "Однако же возможно и \"память сэкономить, и косточкой не подавится\": если добавить имя ```__dict__``` в список ```__slots__```, то все атрибуты, перечисленные в ```__dict__```, будут хранится в кортеже, принадлежащим экземпляру, но при этом разрешено динамически создавать новые атрибуты, которые хранятся в словаре ```__dict__```, как обычно. Разумеется, помещение ```__dict__``` в атрибут ```__slots__``` может свести все преимущества последнего, но это уже зависит от колличества статических и динамических атрибутов, и того как они используются. "
   ],
   "metadata": {}
  },
  {
   "cell_type": "markdown",
   "source": [
    "Существует еще один специальный атрибут экземпляра, который имеет смысл сохранить: ```__weakref__``` необходим, чтобы объект поддерживал слабые ссылки. Если в классе определен атрибут ```__slots__```, а вам нужно чтобы его экземпляры могли быть объектами слабых сылок, то ```__weakref``` необходимо явно включить в список имен атрибутов ```__slots__```."
   ],
   "metadata": {}
  },
  {
   "cell_type": "markdown",
   "source": [
    "* Не забывайте заново объявлять ```__slots__``` в каждом подклассе, потому что унаследованный атрибут интепретатор игнорирует\n",
    "* Экземпляры класса могут иметь атрибуты, явно перечисленные в ```__slots__```, если не включено также имя ```__dict__```\n",
    "* Экземпляры класса не могут быть объектами слабых ссылок, если не включить в ```__slots__``` имя ```__weakref__```"
   ],
   "metadata": {}
  },
  {
   "cell_type": "markdown",
   "source": [
    "#### Результаты выполнения тестов"
   ],
   "metadata": {}
  },
  {
   "cell_type": "markdown",
   "source": [
    "```\n",
    "$ time python3 mem_test.py Vector2d.py \n",
    "Selected Vector2d type: Vector2d.Vector2d\n",
    "Creating 10,000,000 Vector2d instances\n",
    "Initial RAM usage:          9,300\n",
    "  Final RAM usage:      1,655,928\n",
    "python3 mem_test.py Vector2d.py  7,86s user 0,35s system 99% cpu 8,246 total\n",
    "```"
   ],
   "metadata": {}
  },
  {
   "cell_type": "markdown",
   "source": [
    "```\n",
    "$ time python3 mem_test.py Vector2d_slots.py \n",
    "Selected Vector2d type: Vector2d_slots.Vector2d\n",
    "Creating 10,000,000 Vector2d instances\n",
    "Initial RAM usage:          9,428\n",
    "  Final RAM usage:        558,136\n",
    "python3 mem_test.py Vector2d_slots.py  5,82s user 0,10s system 99% cpu 5,933 total\n",
    "```"
   ],
   "metadata": {}
  },
  {
   "cell_type": "markdown",
   "source": [
    "## Переопределение атрибутов класса"
   ],
   "metadata": {}
  },
  {
   "cell_type": "code",
   "execution_count": 70,
   "source": [
    "v1 = Vector2d(1.1, 2.2)\n",
    "dumpd = bytes(v1)\n",
    "dumpd"
   ],
   "outputs": [
    {
     "output_type": "execute_result",
     "data": {
      "text/plain": [
       "b'd\\x9a\\x99\\x99\\x99\\x99\\x99\\xf1?\\x9a\\x99\\x99\\x99\\x99\\x99\\x01@'"
      ]
     },
     "metadata": {},
     "execution_count": 70
    }
   ],
   "metadata": {}
  },
  {
   "cell_type": "code",
   "execution_count": 72,
   "source": [
    "len(dumpd) # 1"
   ],
   "outputs": [
    {
     "output_type": "execute_result",
     "data": {
      "text/plain": [
       "17"
      ]
     },
     "metadata": {},
     "execution_count": 72
    }
   ],
   "metadata": {}
  },
  {
   "cell_type": "code",
   "execution_count": 75,
   "source": [
    "v1.typecode = 'f' # 2\n",
    "dumpd = bytes(v1)\n",
    "dumpd"
   ],
   "outputs": [
    {
     "output_type": "error",
     "ename": "AttributeError",
     "evalue": "'Vector2d' object attribute 'typecode' is read-only",
     "traceback": [
      "\u001b[0;31m---------------------------------------------------------------------------\u001b[0m",
      "\u001b[0;31mAttributeError\u001b[0m                            Traceback (most recent call last)",
      "\u001b[0;32m/tmp/ipykernel_139127/1117897784.py\u001b[0m in \u001b[0;36m<module>\u001b[0;34m\u001b[0m\n\u001b[0;32m----> 1\u001b[0;31m \u001b[0mv1\u001b[0m\u001b[0;34m.\u001b[0m\u001b[0mtypecode\u001b[0m \u001b[0;34m=\u001b[0m \u001b[0;34m'f'\u001b[0m \u001b[0;31m# 2\u001b[0m\u001b[0;34m\u001b[0m\u001b[0;34m\u001b[0m\u001b[0m\n\u001b[0m\u001b[1;32m      2\u001b[0m \u001b[0mdumpd\u001b[0m \u001b[0;34m=\u001b[0m \u001b[0mbytes\u001b[0m\u001b[0;34m(\u001b[0m\u001b[0mv1\u001b[0m\u001b[0;34m)\u001b[0m\u001b[0;34m\u001b[0m\u001b[0;34m\u001b[0m\u001b[0m\n\u001b[1;32m      3\u001b[0m \u001b[0mdumpd\u001b[0m\u001b[0;34m\u001b[0m\u001b[0;34m\u001b[0m\u001b[0m\n",
      "\u001b[0;31mAttributeError\u001b[0m: 'Vector2d' object attribute 'typecode' is read-only"
     ]
    }
   ],
   "metadata": {}
  },
  {
   "cell_type": "markdown",
   "source": [
    "* 1 Подразумевается по умолчанию представление ```bytes``` имеет длину в 17 байтов\n",
    "* 2 Присваиваем ```typecode``` значение ```'f'``` в экземпляре ```v1``` "
   ],
   "metadata": {}
  },
  {
   "cell_type": "code",
   "execution_count": 76,
   "source": [
    "class ShortVector2d(Vector2d): # 1\n",
    "    typecode = 'f'"
   ],
   "outputs": [],
   "metadata": {}
  },
  {
   "cell_type": "code",
   "execution_count": 77,
   "source": [
    "sv = ShortVector2d(1/11, 1/27) # 2 \n",
    "sv"
   ],
   "outputs": [
    {
     "output_type": "execute_result",
     "data": {
      "text/plain": [
       "ShortVector2d(0.09090909090909091, 0.037037037037037035)"
      ]
     },
     "metadata": {},
     "execution_count": 77
    }
   ],
   "metadata": {}
  },
  {
   "cell_type": "code",
   "execution_count": 78,
   "source": [
    "len(bytes(sv)) # 3"
   ],
   "outputs": [
    {
     "output_type": "execute_result",
     "data": {
      "text/plain": [
       "9"
      ]
     },
     "metadata": {},
     "execution_count": 78
    }
   ],
   "metadata": {}
  },
  {
   "cell_type": "markdown",
   "source": [
    "* 1 Создаем ```ShortVector2d``` как подкласс ```Vector2d``` только для того, чтобы переопределить атрибут класса ```typecode```\n",
    "* 2 Создаем экземпляр ```ShortVector2d``` - объект ```sv```\n",
    "* 3 Проверяем, что экспортировано 9 байтов, а не 17, как раньше"
   ],
   "metadata": {}
  },
  {
   "cell_type": "markdown",
   "source": [
    "Этот пример также объясняет, почему значение ```class_name``` не \"зашито\" в код ```Vector2d.__repr__```, а получается в виде ```type(self).__name__```. \n",
    "```Python\n",
    "def __repr__(self):\n",
    "        class_name = type(self).__name__\n",
    "        return '{}({!r}, {!r})'.format(class_name, *self)\n",
    "```\n",
    "Если \"зашить\" ```class_name```, то подклассы ```Vector2d``` и, в частности, ```ShortVector2d``` должны были бы переопределять метод ```__repr__``` только для того, чтобы изменить ```class_name```. А получая имя от функции ```type```, примененной к экземпляру, ```__repr__``` стал безопасным относительно наследования."
   ],
   "metadata": {}
  }
 ],
 "metadata": {
  "interpreter": {
   "hash": "d19139f9a9002f9d9575466607891e08c558a7bf0611b686880f47102338ac30"
  },
  "kernelspec": {
   "name": "python3",
   "display_name": "Python 3.10.0rc2 64-bit ('3.10.0rc2': pyenv)"
  },
  "language_info": {
   "name": "python",
   "version": "3.10.0rc2",
   "mimetype": "text/x-python",
   "codemirror_mode": {
    "name": "ipython",
    "version": 3
   },
   "pygments_lexer": "ipython3",
   "nbconvert_exporter": "python",
   "file_extension": ".py"
  },
  "orig_nbformat": 4
 },
 "nbformat": 4,
 "nbformat_minor": 2
}