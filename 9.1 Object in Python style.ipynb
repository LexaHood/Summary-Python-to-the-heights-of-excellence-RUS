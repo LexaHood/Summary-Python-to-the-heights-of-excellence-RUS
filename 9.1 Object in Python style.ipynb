{
 "cells": [
  {
   "cell_type": "markdown",
   "metadata": {},
   "source": [
    "## Объекты"
   ]
  },
  {
   "cell_type": "code",
   "execution_count": 12,
   "metadata": {},
   "outputs": [],
   "source": [
    "from array import array\n",
    "import math\n",
    "\n",
    "class Vector2d:\n",
    "    typecode = 'd'  # <1>\n",
    "\n",
    "    def __init__(self, x, y):\n",
    "        self.x = float(x)    # <2>\n",
    "        self.y = float(y)\n",
    "\n",
    "    def __iter__(self):\n",
    "        return (i for i in (self.x, self.y))  # <3>\n",
    "\n",
    "    def __repr__(self):\n",
    "        class_name = type(self).__name__\n",
    "        return '{}({!r}, {!r})'.format(class_name, *self)  # <4>\n",
    "\n",
    "    def __str__(self):\n",
    "        return str(tuple(self))  # <5>\n",
    "\n",
    "    def __bytes__(self):\n",
    "        return (bytes([ord(self.typecode)]) +  # <6>\n",
    "                bytes(array(self.typecode, self)))  # <7>\n",
    "\n",
    "    def __eq__(self, other):\n",
    "        return tuple(self) == tuple(other)  # <8>\n",
    "\n",
    "    def __abs__(self):\n",
    "        return math.hypot(self.x, self.y)  # <9>\n",
    "\n",
    "    def __bool__(self):\n",
    "        return bool(abs(self))  # <10>"
   ]
  },
  {
   "cell_type": "markdown",
   "metadata": {},
   "source": [
    "* 1 ```typecode``` - это атрибут класса, которым мы воспользуемся, когда будем преобразовывать экземпляры ```Vector2d``` в последовательности байтов и наоборот\n",
    "* 2 Преобразование ```x``` и ```y``` в тип ```float``` в методе ```__init__``` позволяет на ранней стадии обнаружить оишбки, это полезно в случае, когда конструктор ```Vector2d``` вызывается с неподходящими аргументами\n",
    "* 3 Наличие метода ```__iter__``` делает ```Vector2d``` итерируемым; именно благодаря ему работает распаковка (например: ```x, y = my_vector```). Мы реализуем его просто с помощью генераторного выражения, которое отдает компоненты поочередно.\n",
    "* 4 Метод ```__repr__``` строит строку, интеполируя компоненты с помощью синаксиса ```{!r}``` для получения их представления, возвращаемого функции ```repr```; поскольку ```Vector2d``` - итерируемый объект, ```*self``` поставляет компоненты ```x``` и ```y``` функции ```format```\n",
    "* 5 Из итерируемого объекта ```Vector2d``` легко построить кортеж для отображения в виде упорядоченной пары\n",
    "* 6 Для генерации объекта типа ```bytes``` мы преобразуем ```typecode``` в ```bytes``` и конкатенируем\n",
    "* 7 ... с объектом ```bytes```, полученным преобразованием массива, который построен путем обхода экземпляра\n",
    "* 8 Для быстрого сравнения всех компонентов мы строим кортежи из операндов. Это работает, когда операнды являются экземплярами класса ```Vector2d```, но не без проблем\n",
    "* 9 Модулем вектора называется длина гипотенузы прямоугольного треугольника с катетами ```x``` и ```y```\n",
    "* 10 Метод ```__bool__``` вызывает ```abs(self)``` для вычисления модуля, а затем преобразует полученное значение в тип ```bool```, так что 0.0 преобразуется в ```False```, а любое число, отличное от нуля, - в ```True```"
   ]
  },
  {
   "cell_type": "code",
   "execution_count": 5,
   "metadata": {},
   "outputs": [
    {
     "name": "stdout",
     "output_type": "stream",
     "text": [
      "3.0 4.0\n"
     ]
    }
   ],
   "source": [
    "v1 = Vector2d(3, 4)\n",
    "print(v1.x, v1.y) # 1"
   ]
  },
  {
   "cell_type": "code",
   "execution_count": 7,
   "metadata": {},
   "outputs": [
    {
     "data": {
      "text/plain": [
       "(3.0, 4.0)"
      ]
     },
     "execution_count": 7,
     "metadata": {},
     "output_type": "execute_result"
    }
   ],
   "source": [
    "x, y = v1 # 2\n",
    "x, y"
   ]
  },
  {
   "cell_type": "code",
   "execution_count": 8,
   "metadata": {},
   "outputs": [
    {
     "data": {
      "text/plain": [
       "Vector2d(3.0, 4.0)"
      ]
     },
     "execution_count": 8,
     "metadata": {},
     "output_type": "execute_result"
    }
   ],
   "source": [
    "v1 # 3"
   ]
  },
  {
   "cell_type": "code",
   "execution_count": 9,
   "metadata": {},
   "outputs": [
    {
     "data": {
      "text/plain": [
       "True"
      ]
     },
     "execution_count": 9,
     "metadata": {},
     "output_type": "execute_result"
    }
   ],
   "source": [
    "v1_clone = eval(repr(v1)) # 4\n",
    "v1 == v1_clone # 5"
   ]
  },
  {
   "cell_type": "code",
   "execution_count": 10,
   "metadata": {},
   "outputs": [
    {
     "name": "stdout",
     "output_type": "stream",
     "text": [
      "(3.0, 4.0)\n"
     ]
    }
   ],
   "source": [
    "print(v1) # 6"
   ]
  },
  {
   "cell_type": "code",
   "execution_count": 13,
   "metadata": {},
   "outputs": [
    {
     "data": {
      "text/plain": [
       "b'd\\x00\\x00\\x00\\x00\\x00\\x00\\x08@\\x00\\x00\\x00\\x00\\x00\\x00\\x10@'"
      ]
     },
     "execution_count": 13,
     "metadata": {},
     "output_type": "execute_result"
    }
   ],
   "source": [
    "ocerts = bytes(v1) # 7\n",
    "ocerts"
   ]
  },
  {
   "cell_type": "code",
   "execution_count": 14,
   "metadata": {},
   "outputs": [
    {
     "data": {
      "text/plain": [
       "5.0"
      ]
     },
     "execution_count": 14,
     "metadata": {},
     "output_type": "execute_result"
    }
   ],
   "source": [
    "abs(v1) # 8"
   ]
  },
  {
   "cell_type": "code",
   "execution_count": 15,
   "metadata": {},
   "outputs": [
    {
     "data": {
      "text/plain": [
       "(True, False)"
      ]
     },
     "execution_count": 15,
     "metadata": {},
     "output_type": "execute_result"
    }
   ],
   "source": [
    "bool(v1), bool(Vector2d(0, 0)) #9"
   ]
  },
  {
   "cell_type": "markdown",
   "metadata": {},
   "source": [
    "* 1 К компонентам ```Vector2d``` можно обращаться напрямую, как к атрибутам *(методом чтения нет)*\n",
    "* 2 Объект ```Vector2d``` можно распоковать в кортеж переменных\n",
    "* 3 ```repr``` для объекта имитирует исходный конструированияэкземпляра\n",
    "* 4 Использование ```eval``` показывает, что результат ```repr``` для ```Vector2d``` - точное представление вызова конструктора\n",
    "* 5 ```Vector2d``` поддерживает сравнение с помощью ```==```; это полезно для тестирования\n",
    "* 6 ```print``` вызывает функцию ```str```, которая для ```Vector2d``` порождает упорядоченную пару\n",
    "* 7 ```bytes``` используется методом ```__bytes__``` для получения двоичного представления\n",
    "* 8 ```abs``` вызывает метод ```__abs__```, чтобы вернуть модуль вектора\n",
    "* 9 ```Vector2d``` пользуется методом ```__bool__```, чтобы вернуть ```False``` для объекта ```Vector2d``` нулевой длины, и ```True``` в противном случае"
   ]
  },
  {
   "cell_type": "markdown",
   "metadata": {},
   "source": [
    "## Альтернативный конструктор"
   ]
  },
  {
   "cell_type": "code",
   "execution_count": 18,
   "metadata": {},
   "outputs": [],
   "source": [
    "class Vector2d:\n",
    "    typecode = 'd'\n",
    "\n",
    "    def __init__(self, x, y):\n",
    "        self.x = float(x)\n",
    "        self.y = float(y)\n",
    "\n",
    "    def __iter__(self):\n",
    "        return (i for i in (self.x, self.y))\n",
    "\n",
    "    def __repr__(self):\n",
    "        class_name = type(self).__name__\n",
    "        return '{}({!r}, {!r})'.format(class_name, *self)\n",
    "\n",
    "    def __str__(self):\n",
    "        return str(tuple(self))\n",
    "\n",
    "    def __bytes__(self):\n",
    "        return (bytes([ord(self.typecode)]) +\n",
    "                bytes(array(self.typecode, self)))\n",
    "\n",
    "    def __eq__(self, other):\n",
    "        return tuple(self) == tuple(other)\n",
    "\n",
    "    def __abs__(self):\n",
    "        return math.hypot(self.x, self.y)\n",
    "\n",
    "    def __bool__(self):\n",
    "        return bool(abs(self))\n",
    "\n",
    "    @classmethod  # <1>\n",
    "    def frombytes(cls, octets):  # <2>\n",
    "        typecode = chr(octets[0])  # <3>\n",
    "        memv = memoryview(octets[1:]).cast(typecode)  # <4>\n",
    "        return cls(*memv)  # <5>"
   ]
  },
  {
   "cell_type": "markdown",
   "metadata": {},
   "source": [
    "* 1 Метод класса снабжен декоратором ```classmethod```\n",
    "* 2 Аргумент ```self``` отсутвует; вместо него в аргументе ```cls``` прередается сам класс\n",
    "* 3 Читаем ```typecode``` из первого байта\n",
    "* 4 Создаем объект ```memoryview``` из двоичной последовательности октетов и приводим его к типу ```typecode```\n",
    "* 5 Распаковываем ```memoryview```, получившийся в результате приведения типа,и получаем пару аргументов, необходимых конструктору"
   ]
  },
  {
   "cell_type": "markdown",
   "metadata": {},
   "source": [
    "## Декораторы ```classmethod``` и ```staticmethod```"
   ]
  },
  {
   "cell_type": "code",
   "execution_count": 19,
   "metadata": {},
   "outputs": [
    {
     "data": {
      "text/plain": [
       "(__main__.Demo,)"
      ]
     },
     "execution_count": 19,
     "metadata": {},
     "output_type": "execute_result"
    }
   ],
   "source": [
    "class Demo:\n",
    "    @classmethod\n",
    "    def klassmeth(*args):\n",
    "        return args # 1\n",
    "\n",
    "    @staticmethod\n",
    "    def statmeth(*args):\n",
    "        return args # 2\n",
    "\n",
    "Demo.klassmeth() # 3"
   ]
  },
  {
   "cell_type": "code",
   "execution_count": 20,
   "metadata": {},
   "outputs": [
    {
     "data": {
      "text/plain": [
       "(__main__.Demo, 'spam')"
      ]
     },
     "execution_count": 20,
     "metadata": {},
     "output_type": "execute_result"
    }
   ],
   "source": [
    "Demo.klassmeth('spam')"
   ]
  },
  {
   "cell_type": "code",
   "execution_count": 21,
   "metadata": {},
   "outputs": [
    {
     "data": {
      "text/plain": [
       "()"
      ]
     },
     "execution_count": 21,
     "metadata": {},
     "output_type": "execute_result"
    }
   ],
   "source": [
    "Demo.statmeth() # 4"
   ]
  },
  {
   "cell_type": "code",
   "execution_count": 22,
   "metadata": {},
   "outputs": [
    {
     "data": {
      "text/plain": [
       "('spam',)"
      ]
     },
     "execution_count": 22,
     "metadata": {},
     "output_type": "execute_result"
    }
   ],
   "source": [
    "Demo.statmeth('spam')"
   ]
  },
  {
   "cell_type": "markdown",
   "metadata": {},
   "source": [
    "* 1 ```klassmeth``` просто возвращает все позиционные аргументы\n",
    "* 2 ```statmeth```делает тоже самое\n",
    "* 3 Вне зависимости от способа вызова ```Demo.klassmeth``` получает класс ```Demo``` в качестве первого аргумента\n",
    "* 4 ```Demo.statmeth``` ведет себя, как обычная функция"
   ]
  },
  {
   "cell_type": "markdown",
   "metadata": {},
   "source": [
    "## Форматирование при выводе"
   ]
  },
  {
   "cell_type": "code",
   "execution_count": null,
   "metadata": {},
   "outputs": [],
   "source": []
  }
 ],
 "metadata": {
  "interpreter": {
   "hash": "7bfc6a6397d1d4097ce09be5b592d9ff354b0e54de383685fe25442a1ceea628"
  },
  "kernelspec": {
   "display_name": "Python 3.10.0 64-bit",
   "name": "python3"
  },
  "language_info": {
   "codemirror_mode": {
    "name": "ipython",
    "version": 3
   },
   "file_extension": ".py",
   "mimetype": "text/x-python",
   "name": "python",
   "nbconvert_exporter": "python",
   "pygments_lexer": "ipython3",
   "version": "3.10.0"
  },
  "orig_nbformat": 4
 },
 "nbformat": 4,
 "nbformat_minor": 2
}
